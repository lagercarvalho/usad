{
 "cells": [
  {
   "cell_type": "code",
   "execution_count": null,
   "metadata": {},
   "outputs": [],
   "source": [
    "import numpy as np\n",
    "import pandas as pd\n",
    "import matplotlib.pyplot as plt\n",
    "import seaborn as sns\n",
    "import torch\n",
    "import torch.nn as nn\n",
    "from sklearn.model_selection import train_test_split\n",
    "\n",
    "from utils import *\n",
    "from usad import *"
   ]
  },
  {
   "cell_type": "markdown",
   "metadata": {},
   "source": [
    "### Import data"
   ]
  },
  {
   "cell_type": "code",
   "execution_count": null,
   "metadata": {},
   "outputs": [],
   "source": [
    "file = \"SCADA_Station1\"\n",
    "num_rows = 30000\n",
    "dataset = pd.read_csv(f'input/{file}.csv', nrows=num_rows)\n",
    "\n",
    "dataset[\"Time\"] = pd.to_datetime(dataset[\"Time\"])\n",
    "dataset[\"Time\"] = dataset[\"Time\"].diff()\n",
    "dataset[\"Time\"] = pd.to_numeric(dataset[\"Time\"])/1e6 #time in milliseconds\n",
    "dataset = dataset.drop(index=0)\n",
    "\n",
    "dataset[\"label\"] = 0\n",
    "\n",
    "dataset.head(5)"
   ]
  },
  {
   "cell_type": "markdown",
   "metadata": {},
   "source": [
    "### Add attacks"
   ]
  },
  {
   "cell_type": "code",
   "execution_count": null,
   "metadata": {},
   "outputs": [],
   "source": [
    "attacks = True\n",
    "\n",
    "if attacks :\n",
    "    row =5*num_rows/8\n",
    "    for i in range(1,21):\n",
    "        dataset.loc[row+i, \"Value\"] *= 5\n",
    "        dataset.loc[row+i, \"label\"] = 1\n",
    "\n",
    "dataset.iloc[int(row)-2:int(row)+22]"
   ]
  },
  {
   "cell_type": "markdown",
   "metadata": {},
   "source": [
    "### Convert to float"
   ]
  },
  {
   "cell_type": "code",
   "execution_count": null,
   "metadata": {},
   "outputs": [],
   "source": [
    "col = lambda column : [ord(char) for char in column]\n",
    "def convert_to_float(column):\n",
    "    try:\n",
    "        return float(column)\n",
    "    except ValueError:\n",
    "        return ''.join(map(str, col(str(column))))\n",
    "\n",
    "for i in list(dataset):\n",
    "    dataset[i] = dataset[i].apply(convert_to_float)\n",
    "dataset = dataset.astype(float)"
   ]
  },
  {
   "cell_type": "code",
   "execution_count": null,
   "metadata": {},
   "outputs": [],
   "source": [
    "dataset.head(5)"
   ]
  },
  {
   "cell_type": "code",
   "execution_count": null,
   "metadata": {},
   "outputs": [],
   "source": [
    "dataset = dataset.drop([\"Time\"], axis=1)\n",
    "dataset.head(5)"
   ]
  },
  {
   "cell_type": "code",
   "execution_count": null,
   "metadata": {},
   "outputs": [],
   "source": [
    "temp = dataset.drop([\"label\"], axis=1)\n",
    "temp.to_csv(f'data/{file}.csv', header=True, index=False)\n",
    "dataset.to_csv(f'data/{file}_label.csv', header=True, index=False)"
   ]
  }
 ],
 "metadata": {
  "kernelspec": {
   "display_name": ".venv",
   "language": "python",
   "name": "python3"
  },
  "language_info": {
   "codemirror_mode": {
    "name": "ipython",
    "version": 3
   },
   "file_extension": ".py",
   "mimetype": "text/x-python",
   "name": "python",
   "nbconvert_exporter": "python",
   "pygments_lexer": "ipython3",
   "version": "3.12.2"
  }
 },
 "nbformat": 4,
 "nbformat_minor": 2
}
