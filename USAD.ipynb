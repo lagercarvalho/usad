{
 "cells": [
  {
   "cell_type": "markdown",
   "metadata": {
    "id": "etniX_KTlJ5U"
   },
   "source": [
    "# USAD"
   ]
  },
  {
   "cell_type": "markdown",
   "metadata": {
    "id": "N3jM0qLU8MgZ"
   },
   "source": [
    "## Environment"
   ]
  },
  {
   "cell_type": "code",
   "execution_count": 1,
   "metadata": {
    "id": "6u1DGKsAlLF-"
   },
   "outputs": [],
   "source": [
    "import numpy as np\n",
    "import pandas as pd\n",
    "import matplotlib.pyplot as plt\n",
    "import seaborn as sns\n",
    "import torch\n",
    "import torch.nn as nn\n",
    "from sklearn.model_selection import train_test_split\n",
    "\n",
    "from utils import *\n",
    "from usad import *"
   ]
  },
  {
   "cell_type": "code",
   "execution_count": 2,
   "metadata": {
    "colab": {
     "base_uri": "https://localhost:8080/",
     "height": 34
    },
    "id": "4AzWlDBI_djV",
    "outputId": "7a8d0c19-2389-461b-c0be-3427a25dda91"
   },
   "outputs": [
    {
     "name": "stdout",
     "output_type": "stream",
     "text": [
      "GPU 0: NVIDIA GeForce RTX 3060 Ti (UUID: GPU-1e84eb32-9819-cc34-0b25-e159dc3f19e9)\n"
     ]
    }
   ],
   "source": [
    "!nvidia-smi -L\n",
    "\n",
    "device = get_default_device()"
   ]
  },
  {
   "cell_type": "markdown",
   "metadata": {
    "id": "1crx5rGP9ONf"
   },
   "source": [
    "## EDA - Data Pre-Processing"
   ]
  },
  {
   "cell_type": "markdown",
   "metadata": {
    "id": "vxofeE469RhT"
   },
   "source": [
    "### Load dataset"
   ]
  },
  {
   "cell_type": "code",
   "execution_count": 3,
   "metadata": {
    "colab": {
     "base_uri": "https://localhost:8080/",
     "height": 84
    },
    "id": "i95DlAZI1G_p",
    "outputId": "5b35771c-356e-4e0b-a997-682d1ea85c6a",
    "scrolled": false
   },
   "outputs": [
    {
     "data": {
      "text/html": [
       "<div>\n",
       "<style scoped>\n",
       "    .dataframe tbody tr th:only-of-type {\n",
       "        vertical-align: middle;\n",
       "    }\n",
       "\n",
       "    .dataframe tbody tr th {\n",
       "        vertical-align: top;\n",
       "    }\n",
       "\n",
       "    .dataframe thead th {\n",
       "        text-align: right;\n",
       "    }\n",
       "</style>\n",
       "<table border=\"1\" class=\"dataframe\">\n",
       "  <thead>\n",
       "    <tr style=\"text-align: right;\">\n",
       "      <th></th>\n",
       "      <th>Message_Length</th>\n",
       "      <th>GPR_Topic</th>\n",
       "      <th>Area_Topic</th>\n",
       "      <th>VAR_Topic_1</th>\n",
       "      <th>VAR_Topic_2</th>\n",
       "      <th>Message_ID</th>\n",
       "      <th>Message_Value</th>\n",
       "      <th>Message_q</th>\n",
       "      <th>label</th>\n",
       "    </tr>\n",
       "  </thead>\n",
       "  <tbody>\n",
       "    <tr>\n",
       "      <th>0</th>\n",
       "      <td>79.0</td>\n",
       "      <td>78495251.0</td>\n",
       "      <td>8449.0</td>\n",
       "      <td>400.0</td>\n",
       "      <td>7397.0</td>\n",
       "      <td>777055.0</td>\n",
       "      <td>30.3</td>\n",
       "      <td>1.0</td>\n",
       "      <td>0.0</td>\n",
       "    </tr>\n",
       "    <tr>\n",
       "      <th>1</th>\n",
       "      <td>83.0</td>\n",
       "      <td>78495251.0</td>\n",
       "      <td>768649.0</td>\n",
       "      <td>71828053.0</td>\n",
       "      <td>7398.0</td>\n",
       "      <td>77705251.0</td>\n",
       "      <td>-28.3</td>\n",
       "      <td>1.0</td>\n",
       "      <td>0.0</td>\n",
       "    </tr>\n",
       "  </tbody>\n",
       "</table>\n",
       "</div>"
      ],
      "text/plain": [
       "   Message_Length   GPR_Topic  Area_Topic  VAR_Topic_1  VAR_Topic_2  \\\n",
       "0            79.0  78495251.0      8449.0        400.0       7397.0   \n",
       "1            83.0  78495251.0    768649.0   71828053.0       7398.0   \n",
       "\n",
       "   Message_ID  Message_Value  Message_q  label  \n",
       "0    777055.0           30.3        1.0    0.0  \n",
       "1  77705251.0          -28.3        1.0    0.0  "
      ]
     },
     "execution_count": 3,
     "metadata": {},
     "output_type": "execute_result"
    }
   ],
   "source": [
    "file = \"MQTT_station1\"\n",
    "dataset = pd.read_csv(f'data/{file}_label.csv')\n",
    "\n",
    "dataset.head(2)"
   ]
  },
  {
   "cell_type": "code",
   "execution_count": 4,
   "metadata": {},
   "outputs": [
    {
     "data": {
      "text/plain": [
       "238470"
      ]
     },
     "execution_count": 4,
     "metadata": {},
     "output_type": "execute_result"
    }
   ],
   "source": [
    "normal, attack = train_test_split(dataset, test_size=0.9, shuffle=False)\n",
    "train_size = len(normal)\n",
    "train_size"
   ]
  },
  {
   "cell_type": "markdown",
   "metadata": {
    "id": "kfSj4FYL9W8Y"
   },
   "source": [
    "### Normal period"
   ]
  },
  {
   "cell_type": "code",
   "execution_count": 5,
   "metadata": {},
   "outputs": [
    {
     "data": {
      "text/html": [
       "<div>\n",
       "<style scoped>\n",
       "    .dataframe tbody tr th:only-of-type {\n",
       "        vertical-align: middle;\n",
       "    }\n",
       "\n",
       "    .dataframe tbody tr th {\n",
       "        vertical-align: top;\n",
       "    }\n",
       "\n",
       "    .dataframe thead th {\n",
       "        text-align: right;\n",
       "    }\n",
       "</style>\n",
       "<table border=\"1\" class=\"dataframe\">\n",
       "  <thead>\n",
       "    <tr style=\"text-align: right;\">\n",
       "      <th></th>\n",
       "      <th>Message_Length</th>\n",
       "      <th>GPR_Topic</th>\n",
       "      <th>Area_Topic</th>\n",
       "      <th>VAR_Topic_1</th>\n",
       "      <th>VAR_Topic_2</th>\n",
       "      <th>Message_ID</th>\n",
       "      <th>Message_Value</th>\n",
       "      <th>Message_q</th>\n",
       "    </tr>\n",
       "  </thead>\n",
       "  <tbody>\n",
       "    <tr>\n",
       "      <th>0</th>\n",
       "      <td>79.0</td>\n",
       "      <td>78495251.0</td>\n",
       "      <td>8449.0</td>\n",
       "      <td>400.0</td>\n",
       "      <td>7397.0</td>\n",
       "      <td>777055.0</td>\n",
       "      <td>30.3</td>\n",
       "      <td>1.0</td>\n",
       "    </tr>\n",
       "    <tr>\n",
       "      <th>1</th>\n",
       "      <td>83.0</td>\n",
       "      <td>78495251.0</td>\n",
       "      <td>768649.0</td>\n",
       "      <td>71828053.0</td>\n",
       "      <td>7398.0</td>\n",
       "      <td>77705251.0</td>\n",
       "      <td>-28.3</td>\n",
       "      <td>1.0</td>\n",
       "    </tr>\n",
       "    <tr>\n",
       "      <th>2</th>\n",
       "      <td>78.0</td>\n",
       "      <td>78495251.0</td>\n",
       "      <td>8449.0</td>\n",
       "      <td>400.0</td>\n",
       "      <td>81.0</td>\n",
       "      <td>777051.0</td>\n",
       "      <td>25.3</td>\n",
       "      <td>1.0</td>\n",
       "    </tr>\n",
       "    <tr>\n",
       "      <th>3</th>\n",
       "      <td>78.0</td>\n",
       "      <td>78495251.0</td>\n",
       "      <td>8449.0</td>\n",
       "      <td>400.0</td>\n",
       "      <td>83.0</td>\n",
       "      <td>777052.0</td>\n",
       "      <td>28.2</td>\n",
       "      <td>1.0</td>\n",
       "    </tr>\n",
       "    <tr>\n",
       "      <th>4</th>\n",
       "      <td>78.0</td>\n",
       "      <td>78495251.0</td>\n",
       "      <td>8449.0</td>\n",
       "      <td>400.0</td>\n",
       "      <td>81.0</td>\n",
       "      <td>777051.0</td>\n",
       "      <td>26.4</td>\n",
       "      <td>1.0</td>\n",
       "    </tr>\n",
       "  </tbody>\n",
       "</table>\n",
       "</div>"
      ],
      "text/plain": [
       "   Message_Length   GPR_Topic  Area_Topic  VAR_Topic_1  VAR_Topic_2  \\\n",
       "0            79.0  78495251.0      8449.0        400.0       7397.0   \n",
       "1            83.0  78495251.0    768649.0   71828053.0       7398.0   \n",
       "2            78.0  78495251.0      8449.0        400.0         81.0   \n",
       "3            78.0  78495251.0      8449.0        400.0         83.0   \n",
       "4            78.0  78495251.0      8449.0        400.0         81.0   \n",
       "\n",
       "   Message_ID  Message_Value  Message_q  \n",
       "0    777055.0           30.3        1.0  \n",
       "1  77705251.0          -28.3        1.0  \n",
       "2    777051.0           25.3        1.0  \n",
       "3    777052.0           28.2        1.0  \n",
       "4    777051.0           26.4        1.0  "
      ]
     },
     "execution_count": 5,
     "metadata": {},
     "output_type": "execute_result"
    }
   ],
   "source": [
    "normal = normal.drop([\"label\"], axis=1)\n",
    "normal.head(5)"
   ]
  },
  {
   "cell_type": "markdown",
   "metadata": {
    "id": "zxFNH5kU9hIE"
   },
   "source": [
    "#### Normalization"
   ]
  },
  {
   "cell_type": "code",
   "execution_count": 6,
   "metadata": {
    "id": "Mfxj4Uxn9kv4"
   },
   "outputs": [],
   "source": [
    "from sklearn import preprocessing\n",
    "min_max_scaler = preprocessing.StandardScaler()\n",
    "\n",
    "x = normal.values\n",
    "x_scaled = min_max_scaler.fit_transform(x)\n",
    "normal = pd.DataFrame(x_scaled)"
   ]
  },
  {
   "cell_type": "code",
   "execution_count": 7,
   "metadata": {
    "colab": {
     "base_uri": "https://localhost:8080/",
     "height": 126
    },
    "id": "mQ6_U4jn9nlw",
    "outputId": "f1cc1bd6-f1cc-4764-b1cc-2fd989ac4918"
   },
   "outputs": [
    {
     "data": {
      "text/html": [
       "<div>\n",
       "<style scoped>\n",
       "    .dataframe tbody tr th:only-of-type {\n",
       "        vertical-align: middle;\n",
       "    }\n",
       "\n",
       "    .dataframe tbody tr th {\n",
       "        vertical-align: top;\n",
       "    }\n",
       "\n",
       "    .dataframe thead th {\n",
       "        text-align: right;\n",
       "    }\n",
       "</style>\n",
       "<table border=\"1\" class=\"dataframe\">\n",
       "  <thead>\n",
       "    <tr style=\"text-align: right;\">\n",
       "      <th></th>\n",
       "      <th>0</th>\n",
       "      <th>1</th>\n",
       "      <th>2</th>\n",
       "      <th>3</th>\n",
       "      <th>4</th>\n",
       "      <th>5</th>\n",
       "      <th>6</th>\n",
       "      <th>7</th>\n",
       "    </tr>\n",
       "  </thead>\n",
       "  <tbody>\n",
       "    <tr>\n",
       "      <th>0</th>\n",
       "      <td>0.500000</td>\n",
       "      <td>0.0</td>\n",
       "      <td>0.000000e+00</td>\n",
       "      <td>0.000005</td>\n",
       "      <td>8.635988e-09</td>\n",
       "      <td>7.242127e-18</td>\n",
       "      <td>0.310047</td>\n",
       "      <td>0.0</td>\n",
       "    </tr>\n",
       "    <tr>\n",
       "      <th>1</th>\n",
       "      <td>0.833333</td>\n",
       "      <td>0.0</td>\n",
       "      <td>9.175775e-13</td>\n",
       "      <td>1.000000</td>\n",
       "      <td>8.637168e-09</td>\n",
       "      <td>9.285397e-11</td>\n",
       "      <td>0.115103</td>\n",
       "      <td>0.0</td>\n",
       "    </tr>\n",
       "    <tr>\n",
       "      <th>2</th>\n",
       "      <td>0.416667</td>\n",
       "      <td>0.0</td>\n",
       "      <td>0.000000e+00</td>\n",
       "      <td>0.000005</td>\n",
       "      <td>1.180263e-12</td>\n",
       "      <td>2.414042e-18</td>\n",
       "      <td>0.293413</td>\n",
       "      <td>0.0</td>\n",
       "    </tr>\n",
       "    <tr>\n",
       "      <th>3</th>\n",
       "      <td>0.416667</td>\n",
       "      <td>0.0</td>\n",
       "      <td>0.000000e+00</td>\n",
       "      <td>0.000005</td>\n",
       "      <td>3.540790e-12</td>\n",
       "      <td>3.621064e-18</td>\n",
       "      <td>0.303061</td>\n",
       "      <td>0.0</td>\n",
       "    </tr>\n",
       "    <tr>\n",
       "      <th>4</th>\n",
       "      <td>0.416667</td>\n",
       "      <td>0.0</td>\n",
       "      <td>0.000000e+00</td>\n",
       "      <td>0.000005</td>\n",
       "      <td>1.180263e-12</td>\n",
       "      <td>2.414042e-18</td>\n",
       "      <td>0.297073</td>\n",
       "      <td>0.0</td>\n",
       "    </tr>\n",
       "  </tbody>\n",
       "</table>\n",
       "</div>"
      ],
      "text/plain": [
       "          0    1             2         3             4             5  \\\n",
       "0  0.500000  0.0  0.000000e+00  0.000005  8.635988e-09  7.242127e-18   \n",
       "1  0.833333  0.0  9.175775e-13  1.000000  8.637168e-09  9.285397e-11   \n",
       "2  0.416667  0.0  0.000000e+00  0.000005  1.180263e-12  2.414042e-18   \n",
       "3  0.416667  0.0  0.000000e+00  0.000005  3.540790e-12  3.621064e-18   \n",
       "4  0.416667  0.0  0.000000e+00  0.000005  1.180263e-12  2.414042e-18   \n",
       "\n",
       "          6    7  \n",
       "0  0.310047  0.0  \n",
       "1  0.115103  0.0  \n",
       "2  0.293413  0.0  \n",
       "3  0.303061  0.0  \n",
       "4  0.297073  0.0  "
      ]
     },
     "execution_count": 7,
     "metadata": {},
     "output_type": "execute_result"
    }
   ],
   "source": [
    "normal.head(5)"
   ]
  },
  {
   "cell_type": "markdown",
   "metadata": {
    "id": "_i71RFAi9spa"
   },
   "source": [
    "### Attack"
   ]
  },
  {
   "cell_type": "code",
   "execution_count": 8,
   "metadata": {},
   "outputs": [
    {
     "data": {
      "text/html": [
       "<div>\n",
       "<style scoped>\n",
       "    .dataframe tbody tr th:only-of-type {\n",
       "        vertical-align: middle;\n",
       "    }\n",
       "\n",
       "    .dataframe tbody tr th {\n",
       "        vertical-align: top;\n",
       "    }\n",
       "\n",
       "    .dataframe thead th {\n",
       "        text-align: right;\n",
       "    }\n",
       "</style>\n",
       "<table border=\"1\" class=\"dataframe\">\n",
       "  <thead>\n",
       "    <tr style=\"text-align: right;\">\n",
       "      <th></th>\n",
       "      <th>Message_Length</th>\n",
       "      <th>GPR_Topic</th>\n",
       "      <th>Area_Topic</th>\n",
       "      <th>VAR_Topic_1</th>\n",
       "      <th>VAR_Topic_2</th>\n",
       "      <th>Message_ID</th>\n",
       "      <th>Message_Value</th>\n",
       "      <th>Message_q</th>\n",
       "      <th>label</th>\n",
       "    </tr>\n",
       "  </thead>\n",
       "  <tbody>\n",
       "    <tr>\n",
       "      <th>238470</th>\n",
       "      <td>78.0</td>\n",
       "      <td>78495251.0</td>\n",
       "      <td>8449.0</td>\n",
       "      <td>400.0</td>\n",
       "      <td>83.0</td>\n",
       "      <td>777052.0</td>\n",
       "      <td>38.2</td>\n",
       "      <td>1.0</td>\n",
       "      <td>0.0</td>\n",
       "    </tr>\n",
       "    <tr>\n",
       "      <th>238471</th>\n",
       "      <td>82.0</td>\n",
       "      <td>78495251.0</td>\n",
       "      <td>768649.0</td>\n",
       "      <td>71828051.0</td>\n",
       "      <td>7398.0</td>\n",
       "      <td>77705249.0</td>\n",
       "      <td>-2.1</td>\n",
       "      <td>1.0</td>\n",
       "      <td>0.0</td>\n",
       "    </tr>\n",
       "    <tr>\n",
       "      <th>238472</th>\n",
       "      <td>81.0</td>\n",
       "      <td>78495251.0</td>\n",
       "      <td>768649.0</td>\n",
       "      <td>71828051.0</td>\n",
       "      <td>7398.0</td>\n",
       "      <td>77705249.0</td>\n",
       "      <td>2.1</td>\n",
       "      <td>1.0</td>\n",
       "      <td>0.0</td>\n",
       "    </tr>\n",
       "    <tr>\n",
       "      <th>238473</th>\n",
       "      <td>82.0</td>\n",
       "      <td>78495251.0</td>\n",
       "      <td>768649.0</td>\n",
       "      <td>71828051.0</td>\n",
       "      <td>7398.0</td>\n",
       "      <td>77705249.0</td>\n",
       "      <td>-2.1</td>\n",
       "      <td>1.0</td>\n",
       "      <td>0.0</td>\n",
       "    </tr>\n",
       "    <tr>\n",
       "      <th>238474</th>\n",
       "      <td>81.0</td>\n",
       "      <td>78495251.0</td>\n",
       "      <td>768649.0</td>\n",
       "      <td>71828051.0</td>\n",
       "      <td>7398.0</td>\n",
       "      <td>77705249.0</td>\n",
       "      <td>2.1</td>\n",
       "      <td>1.0</td>\n",
       "      <td>0.0</td>\n",
       "    </tr>\n",
       "  </tbody>\n",
       "</table>\n",
       "</div>"
      ],
      "text/plain": [
       "        Message_Length   GPR_Topic  Area_Topic  VAR_Topic_1  VAR_Topic_2  \\\n",
       "238470            78.0  78495251.0      8449.0        400.0         83.0   \n",
       "238471            82.0  78495251.0    768649.0   71828051.0       7398.0   \n",
       "238472            81.0  78495251.0    768649.0   71828051.0       7398.0   \n",
       "238473            82.0  78495251.0    768649.0   71828051.0       7398.0   \n",
       "238474            81.0  78495251.0    768649.0   71828051.0       7398.0   \n",
       "\n",
       "        Message_ID  Message_Value  Message_q  label  \n",
       "238470    777052.0           38.2        1.0    0.0  \n",
       "238471  77705249.0           -2.1        1.0    0.0  \n",
       "238472  77705249.0            2.1        1.0    0.0  \n",
       "238473  77705249.0           -2.1        1.0    0.0  \n",
       "238474  77705249.0            2.1        1.0    0.0  "
      ]
     },
     "execution_count": 8,
     "metadata": {},
     "output_type": "execute_result"
    }
   ],
   "source": [
    "attack.head(5)"
   ]
  },
  {
   "cell_type": "code",
   "execution_count": null,
   "metadata": {},
   "outputs": [],
   "source": [
    "attack.iloc[3750 : 3772]"
   ]
  },
  {
   "cell_type": "code",
   "execution_count": 9,
   "metadata": {
    "colab": {
     "base_uri": "https://localhost:8080/",
     "height": 87
    },
    "id": "aN_TFp5x9uTE",
    "outputId": "38d7993d-c9a3-461d-c430-ebde697afbc6"
   },
   "outputs": [
    {
     "data": {
      "text/html": [
       "<div>\n",
       "<style scoped>\n",
       "    .dataframe tbody tr th:only-of-type {\n",
       "        vertical-align: middle;\n",
       "    }\n",
       "\n",
       "    .dataframe tbody tr th {\n",
       "        vertical-align: top;\n",
       "    }\n",
       "\n",
       "    .dataframe thead th {\n",
       "        text-align: right;\n",
       "    }\n",
       "</style>\n",
       "<table border=\"1\" class=\"dataframe\">\n",
       "  <thead>\n",
       "    <tr style=\"text-align: right;\">\n",
       "      <th></th>\n",
       "      <th>Message_Length</th>\n",
       "      <th>GPR_Topic</th>\n",
       "      <th>Area_Topic</th>\n",
       "      <th>VAR_Topic_1</th>\n",
       "      <th>VAR_Topic_2</th>\n",
       "      <th>Message_ID</th>\n",
       "      <th>Message_Value</th>\n",
       "      <th>Message_q</th>\n",
       "    </tr>\n",
       "  </thead>\n",
       "  <tbody>\n",
       "    <tr>\n",
       "      <th>238470</th>\n",
       "      <td>78.0</td>\n",
       "      <td>78495251.0</td>\n",
       "      <td>8449.0</td>\n",
       "      <td>400.0</td>\n",
       "      <td>83.0</td>\n",
       "      <td>777052.0</td>\n",
       "      <td>38.2</td>\n",
       "      <td>1.0</td>\n",
       "    </tr>\n",
       "    <tr>\n",
       "      <th>238471</th>\n",
       "      <td>82.0</td>\n",
       "      <td>78495251.0</td>\n",
       "      <td>768649.0</td>\n",
       "      <td>71828051.0</td>\n",
       "      <td>7398.0</td>\n",
       "      <td>77705249.0</td>\n",
       "      <td>-2.1</td>\n",
       "      <td>1.0</td>\n",
       "    </tr>\n",
       "    <tr>\n",
       "      <th>238472</th>\n",
       "      <td>81.0</td>\n",
       "      <td>78495251.0</td>\n",
       "      <td>768649.0</td>\n",
       "      <td>71828051.0</td>\n",
       "      <td>7398.0</td>\n",
       "      <td>77705249.0</td>\n",
       "      <td>2.1</td>\n",
       "      <td>1.0</td>\n",
       "    </tr>\n",
       "    <tr>\n",
       "      <th>238473</th>\n",
       "      <td>82.0</td>\n",
       "      <td>78495251.0</td>\n",
       "      <td>768649.0</td>\n",
       "      <td>71828051.0</td>\n",
       "      <td>7398.0</td>\n",
       "      <td>77705249.0</td>\n",
       "      <td>-2.1</td>\n",
       "      <td>1.0</td>\n",
       "    </tr>\n",
       "    <tr>\n",
       "      <th>238474</th>\n",
       "      <td>81.0</td>\n",
       "      <td>78495251.0</td>\n",
       "      <td>768649.0</td>\n",
       "      <td>71828051.0</td>\n",
       "      <td>7398.0</td>\n",
       "      <td>77705249.0</td>\n",
       "      <td>2.1</td>\n",
       "      <td>1.0</td>\n",
       "    </tr>\n",
       "  </tbody>\n",
       "</table>\n",
       "</div>"
      ],
      "text/plain": [
       "        Message_Length   GPR_Topic  Area_Topic  VAR_Topic_1  VAR_Topic_2  \\\n",
       "238470            78.0  78495251.0      8449.0        400.0         83.0   \n",
       "238471            82.0  78495251.0    768649.0   71828051.0       7398.0   \n",
       "238472            81.0  78495251.0    768649.0   71828051.0       7398.0   \n",
       "238473            82.0  78495251.0    768649.0   71828051.0       7398.0   \n",
       "238474            81.0  78495251.0    768649.0   71828051.0       7398.0   \n",
       "\n",
       "        Message_ID  Message_Value  Message_q  \n",
       "238470    777052.0           38.2        1.0  \n",
       "238471  77705249.0           -2.1        1.0  \n",
       "238472  77705249.0            2.1        1.0  \n",
       "238473  77705249.0           -2.1        1.0  \n",
       "238474  77705249.0            2.1        1.0  "
      ]
     },
     "execution_count": 9,
     "metadata": {},
     "output_type": "execute_result"
    }
   ],
   "source": [
    "#Read data\n",
    "labels = attack['label'].values\n",
    "attack = attack.drop([\"label\"], axis=1)\n",
    "attack.head(5)"
   ]
  },
  {
   "cell_type": "markdown",
   "metadata": {
    "id": "c4cB4v3N-Dhu"
   },
   "source": [
    "#### Normalization"
   ]
  },
  {
   "cell_type": "code",
   "execution_count": 10,
   "metadata": {
    "id": "jZrha9cO-BGK"
   },
   "outputs": [],
   "source": [
    "from sklearn import preprocessing\n",
    "\n",
    "x = attack.values \n",
    "x_scaled = min_max_scaler.transform(x)\n",
    "attack = pd.DataFrame(x_scaled)"
   ]
  },
  {
   "cell_type": "code",
   "execution_count": 11,
   "metadata": {
    "colab": {
     "base_uri": "https://localhost:8080/",
     "height": 126
    },
    "id": "z9SwiPco-BUa",
    "outputId": "f2507282-c0f9-4253-ece7-0a802b68240f"
   },
   "outputs": [
    {
     "data": {
      "text/html": [
       "<div>\n",
       "<style scoped>\n",
       "    .dataframe tbody tr th:only-of-type {\n",
       "        vertical-align: middle;\n",
       "    }\n",
       "\n",
       "    .dataframe tbody tr th {\n",
       "        vertical-align: top;\n",
       "    }\n",
       "\n",
       "    .dataframe thead th {\n",
       "        text-align: right;\n",
       "    }\n",
       "</style>\n",
       "<table border=\"1\" class=\"dataframe\">\n",
       "  <thead>\n",
       "    <tr style=\"text-align: right;\">\n",
       "      <th></th>\n",
       "      <th>0</th>\n",
       "      <th>1</th>\n",
       "      <th>2</th>\n",
       "      <th>3</th>\n",
       "      <th>4</th>\n",
       "      <th>5</th>\n",
       "      <th>6</th>\n",
       "      <th>7</th>\n",
       "    </tr>\n",
       "  </thead>\n",
       "  <tbody>\n",
       "    <tr>\n",
       "      <th>0</th>\n",
       "      <td>0.416667</td>\n",
       "      <td>0.0</td>\n",
       "      <td>0.000000e+00</td>\n",
       "      <td>0.000005</td>\n",
       "      <td>3.540790e-12</td>\n",
       "      <td>3.621064e-18</td>\n",
       "      <td>0.336327</td>\n",
       "      <td>0.0</td>\n",
       "    </tr>\n",
       "    <tr>\n",
       "      <th>1</th>\n",
       "      <td>0.750000</td>\n",
       "      <td>0.0</td>\n",
       "      <td>9.175775e-13</td>\n",
       "      <td>1.000000</td>\n",
       "      <td>8.637168e-09</td>\n",
       "      <td>9.285397e-11</td>\n",
       "      <td>0.202262</td>\n",
       "      <td>0.0</td>\n",
       "    </tr>\n",
       "  </tbody>\n",
       "</table>\n",
       "</div>"
      ],
      "text/plain": [
       "          0    1             2         3             4             5  \\\n",
       "0  0.416667  0.0  0.000000e+00  0.000005  3.540790e-12  3.621064e-18   \n",
       "1  0.750000  0.0  9.175775e-13  1.000000  8.637168e-09  9.285397e-11   \n",
       "\n",
       "          6    7  \n",
       "0  0.336327  0.0  \n",
       "1  0.202262  0.0  "
      ]
     },
     "execution_count": 11,
     "metadata": {},
     "output_type": "execute_result"
    }
   ],
   "source": [
    "attack.head(2)"
   ]
  },
  {
   "cell_type": "markdown",
   "metadata": {
    "id": "xXJi503b-j_d"
   },
   "source": [
    "### Windows"
   ]
  },
  {
   "cell_type": "code",
   "execution_count": 12,
   "metadata": {
    "id": "vyplttZa-BRN"
   },
   "outputs": [],
   "source": [
    "window_size=20"
   ]
  },
  {
   "cell_type": "code",
   "execution_count": 13,
   "metadata": {
    "colab": {
     "base_uri": "https://localhost:8080/",
     "height": 34
    },
    "id": "dzGJMp6Y-BN5",
    "outputId": "2949d278-1313-442c-f06b-275a8c6c6578"
   },
   "outputs": [
    {
     "data": {
      "text/plain": [
       "(238450, 20, 8)"
      ]
     },
     "execution_count": 13,
     "metadata": {},
     "output_type": "execute_result"
    }
   ],
   "source": [
    "windows_normal=normal.values[np.arange(window_size)[None, :] + np.arange(normal.shape[0]-window_size)[:, None]]\n",
    "windows_normal.shape"
   ]
  },
  {
   "cell_type": "code",
   "execution_count": 14,
   "metadata": {
    "colab": {
     "base_uri": "https://localhost:8080/",
     "height": 34
    },
    "id": "17LdB3c8-pRH",
    "outputId": "721059d4-5937-4dd3-d73c-e5d255fc273c"
   },
   "outputs": [
    {
     "data": {
      "text/plain": [
       "(2146217, 20, 8)"
      ]
     },
     "execution_count": 14,
     "metadata": {},
     "output_type": "execute_result"
    }
   ],
   "source": [
    "windows_attack=attack.values[np.arange(window_size)[None, :] + np.arange(attack.shape[0]-window_size)[:, None]]\n",
    "windows_attack.shape"
   ]
  },
  {
   "cell_type": "markdown",
   "metadata": {
    "id": "k70ZFxGs-_7m"
   },
   "source": [
    "## Training"
   ]
  },
  {
   "cell_type": "code",
   "execution_count": 15,
   "metadata": {
    "id": "yi9S0SGnDKNc"
   },
   "outputs": [],
   "source": [
    "import torch.utils.data as data_utils\n",
    "\n",
    "BATCH_SIZE =  7919\n",
    "N_EPOCHS = 100\n",
    "hidden_size = 100\n",
    "\n",
    "w_size=windows_normal.shape[1]*windows_normal.shape[2]\n",
    "z_size=windows_normal.shape[1]*hidden_size\n",
    "\n",
    "windows_normal_train = windows_normal[:int(np.floor(.8 *  windows_normal.shape[0]))]\n",
    "windows_normal_val = windows_normal[int(np.floor(.8 *  windows_normal.shape[0])):int(np.floor(windows_normal.shape[0]))]\n",
    "\n",
    "train_loader = torch.utils.data.DataLoader(data_utils.TensorDataset(\n",
    "    torch.from_numpy(windows_normal_train).float().view(([windows_normal_train.shape[0],w_size]))\n",
    ") , batch_size=BATCH_SIZE, shuffle=False, num_workers=0)\n",
    "\n",
    "val_loader = torch.utils.data.DataLoader(data_utils.TensorDataset(\n",
    "    torch.from_numpy(windows_normal_val).float().view(([windows_normal_val.shape[0],w_size]))\n",
    ") , batch_size=BATCH_SIZE, shuffle=False, num_workers=0)\n",
    "\n",
    "test_loader = torch.utils.data.DataLoader(data_utils.TensorDataset(\n",
    "    torch.from_numpy(windows_attack).float().view(([windows_attack.shape[0],w_size]))\n",
    ") , batch_size=BATCH_SIZE, shuffle=False, num_workers=0)\n",
    "\n",
    "model = UsadModel(w_size, z_size)\n",
    "model = to_device(model,device)"
   ]
  },
  {
   "cell_type": "code",
   "execution_count": 16,
   "metadata": {
    "colab": {
     "base_uri": "https://localhost:8080/",
     "height": 1000
    },
    "id": "So9yjDPEDObC",
    "outputId": "629bcd13-37b1-4907-ef0d-46d9e3ad5398",
    "scrolled": true
   },
   "outputs": [
    {
     "name": "stdout",
     "output_type": "stream",
     "text": [
      "Epoch [0], val_loss1: 0.0776, val_loss2: 0.0809\n",
      "Epoch [1], val_loss1: 0.0740, val_loss2: -0.0070\n",
      "Epoch [2], val_loss1: 0.0670, val_loss2: -0.0278\n",
      "Epoch [3], val_loss1: 0.0631, val_loss2: -0.0355\n",
      "Epoch [4], val_loss1: 0.0646, val_loss2: -0.0427\n",
      "Epoch [5], val_loss1: 0.0647, val_loss2: -0.0466\n",
      "Epoch [6], val_loss1: 0.0648, val_loss2: -0.0493\n",
      "Epoch [7], val_loss1: 0.0642, val_loss2: -0.0508\n",
      "Epoch [8], val_loss1: 0.0637, val_loss2: -0.0519\n",
      "Epoch [9], val_loss1: 0.0632, val_loss2: -0.0526\n",
      "Epoch [10], val_loss1: 0.0628, val_loss2: -0.0532\n",
      "Epoch [11], val_loss1: 0.0623, val_loss2: -0.0536\n",
      "Epoch [12], val_loss1: 0.0618, val_loss2: -0.0538\n",
      "Epoch [13], val_loss1: 0.0615, val_loss2: -0.0541\n",
      "Epoch [14], val_loss1: 0.0614, val_loss2: -0.0544\n",
      "Epoch [15], val_loss1: 0.0612, val_loss2: -0.0547\n",
      "Epoch [16], val_loss1: 0.0611, val_loss2: -0.0550\n",
      "Epoch [17], val_loss1: 0.0608, val_loss2: -0.0551\n",
      "Epoch [18], val_loss1: 0.0608, val_loss2: -0.0554\n",
      "Epoch [19], val_loss1: 0.0605, val_loss2: -0.0554\n",
      "Epoch [20], val_loss1: 0.0605, val_loss2: -0.0556\n",
      "Epoch [21], val_loss1: 0.0603, val_loss2: -0.0556\n",
      "Epoch [22], val_loss1: 0.0603, val_loss2: -0.0558\n",
      "Epoch [23], val_loss1: 0.0600, val_loss2: -0.0557\n",
      "Epoch [24], val_loss1: 0.0600, val_loss2: -0.0559\n",
      "Epoch [25], val_loss1: 0.0598, val_loss2: -0.0558\n",
      "Epoch [26], val_loss1: 0.0599, val_loss2: -0.0561\n",
      "Epoch [27], val_loss1: 0.0596, val_loss2: -0.0559\n",
      "Epoch [28], val_loss1: 0.0601, val_loss2: -0.0565\n",
      "Epoch [29], val_loss1: 0.0587, val_loss2: -0.0553\n",
      "Epoch [30], val_loss1: 0.0608, val_loss2: -0.0575\n",
      "Epoch [31], val_loss1: 0.0619, val_loss2: -0.0587\n",
      "Epoch [32], val_loss1: 0.0589, val_loss2: -0.0558\n",
      "Epoch [33], val_loss1: 0.0601, val_loss2: -0.0570\n",
      "Epoch [34], val_loss1: 0.0565, val_loss2: -0.0536\n",
      "Epoch [35], val_loss1: 0.0614, val_loss2: -0.0585\n",
      "Epoch [36], val_loss1: 0.0551, val_loss2: -0.0524\n",
      "Epoch [37], val_loss1: 0.0644, val_loss2: -0.0616\n",
      "Epoch [38], val_loss1: 0.0532, val_loss2: -0.0506\n",
      "Epoch [39], val_loss1: 0.0663, val_loss2: -0.0637\n",
      "Epoch [40], val_loss1: 0.0526, val_loss2: -0.0501\n",
      "Epoch [41], val_loss1: 0.0650, val_loss2: -0.0625\n",
      "Epoch [42], val_loss1: 0.0511, val_loss2: -0.0488\n",
      "Epoch [43], val_loss1: 0.0654, val_loss2: -0.0630\n",
      "Epoch [44], val_loss1: 0.0540, val_loss2: -0.0518\n",
      "Epoch [45], val_loss1: 0.0602, val_loss2: -0.0579\n",
      "Epoch [46], val_loss1: 0.0573, val_loss2: -0.0552\n",
      "Epoch [47], val_loss1: 0.0560, val_loss2: -0.0539\n",
      "Epoch [48], val_loss1: 0.0589, val_loss2: -0.0568\n",
      "Epoch [49], val_loss1: 0.0531, val_loss2: -0.0511\n",
      "Epoch [50], val_loss1: 0.0641, val_loss2: -0.0620\n",
      "Epoch [51], val_loss1: 0.0505, val_loss2: -0.0486\n",
      "Epoch [52], val_loss1: 0.0589, val_loss2: -0.0570\n",
      "Epoch [53], val_loss1: 0.0549, val_loss2: -0.0531\n",
      "Epoch [54], val_loss1: 0.0565, val_loss2: -0.0547\n",
      "Epoch [55], val_loss1: 0.0541, val_loss2: -0.0524\n",
      "Epoch [56], val_loss1: 0.0571, val_loss2: -0.0553\n",
      "Epoch [57], val_loss1: 0.0525, val_loss2: -0.0508\n",
      "Epoch [58], val_loss1: 0.0600, val_loss2: -0.0582\n",
      "Epoch [59], val_loss1: 0.0502, val_loss2: -0.0485\n",
      "Epoch [60], val_loss1: 0.0593, val_loss2: -0.0576\n",
      "Epoch [61], val_loss1: 0.0512, val_loss2: -0.0496\n",
      "Epoch [62], val_loss1: 0.0584, val_loss2: -0.0568\n",
      "Epoch [63], val_loss1: 0.0500, val_loss2: -0.0485\n",
      "Epoch [64], val_loss1: 0.0595, val_loss2: -0.0579\n",
      "Epoch [65], val_loss1: 0.0502, val_loss2: -0.0487\n",
      "Epoch [66], val_loss1: 0.0565, val_loss2: -0.0550\n",
      "Epoch [67], val_loss1: 0.0517, val_loss2: -0.0503\n",
      "Epoch [68], val_loss1: 0.0553, val_loss2: -0.0538\n",
      "Epoch [69], val_loss1: 0.0516, val_loss2: -0.0502\n",
      "Epoch [70], val_loss1: 0.0556, val_loss2: -0.0542\n",
      "Epoch [71], val_loss1: 0.0500, val_loss2: -0.0486\n",
      "Epoch [72], val_loss1: 0.0561, val_loss2: -0.0547\n",
      "Epoch [73], val_loss1: 0.0497, val_loss2: -0.0484\n",
      "Epoch [74], val_loss1: 0.0550, val_loss2: -0.0537\n",
      "Epoch [75], val_loss1: 0.0505, val_loss2: -0.0492\n",
      "Epoch [76], val_loss1: 0.0534, val_loss2: -0.0522\n",
      "Epoch [77], val_loss1: 0.0513, val_loss2: -0.0501\n",
      "Epoch [78], val_loss1: 0.0526, val_loss2: -0.0513\n",
      "Epoch [79], val_loss1: 0.0516, val_loss2: -0.0504\n",
      "Epoch [80], val_loss1: 0.0518, val_loss2: -0.0506\n",
      "Epoch [81], val_loss1: 0.0517, val_loss2: -0.0506\n",
      "Epoch [82], val_loss1: 0.0510, val_loss2: -0.0498\n",
      "Epoch [83], val_loss1: 0.0520, val_loss2: -0.0508\n",
      "Epoch [84], val_loss1: 0.0501, val_loss2: -0.0489\n",
      "Epoch [85], val_loss1: 0.0521, val_loss2: -0.0510\n",
      "Epoch [86], val_loss1: 0.0496, val_loss2: -0.0485\n",
      "Epoch [87], val_loss1: 0.0519, val_loss2: -0.0508\n",
      "Epoch [88], val_loss1: 0.0494, val_loss2: -0.0483\n",
      "Epoch [89], val_loss1: 0.0516, val_loss2: -0.0505\n",
      "Epoch [90], val_loss1: 0.0493, val_loss2: -0.0483\n",
      "Epoch [91], val_loss1: 0.0509, val_loss2: -0.0499\n",
      "Epoch [92], val_loss1: 0.0497, val_loss2: -0.0487\n",
      "Epoch [93], val_loss1: 0.0499, val_loss2: -0.0489\n",
      "Epoch [94], val_loss1: 0.0502, val_loss2: -0.0492\n",
      "Epoch [95], val_loss1: 0.0486, val_loss2: -0.0476\n",
      "Epoch [96], val_loss1: 0.0502, val_loss2: -0.0493\n",
      "Epoch [97], val_loss1: 0.0482, val_loss2: -0.0472\n",
      "Epoch [98], val_loss1: 0.0501, val_loss2: -0.0492\n",
      "Epoch [99], val_loss1: 0.0480, val_loss2: -0.0470\n"
     ]
    }
   ],
   "source": [
    "history = training(N_EPOCHS,model,train_loader,val_loader)"
   ]
  },
  {
   "cell_type": "code",
   "execution_count": 17,
   "metadata": {
    "colab": {
     "base_uri": "https://localhost:8080/",
     "height": 295
    },
    "id": "fYwlN0JKVVtN",
    "outputId": "c742ff8b-3b4a-41f5-dd09-effee1be928a"
   },
   "outputs": [
    {
     "data": {
      "image/png": "[encoded data removed]",
      "text/plain": [
       "<Figure size 640x480 with 1 Axes>"
      ]
     },
     "metadata": {},
     "output_type": "display_data"
    }
   ],
   "source": [
    "plot_history(history)"
   ]
  },
  {
   "cell_type": "code",
   "execution_count": 18,
   "metadata": {
    "id": "ieObNqKYsOzh"
   },
   "outputs": [],
   "source": [
    "torch.save({\n",
    "            'encoder': model.encoder.state_dict(),\n",
    "            'decoder1': model.decoder1.state_dict(),\n",
    "            'decoder2': model.decoder2.state_dict()\n",
    "            }, \"model.pth\")"
   ]
  },
  {
   "cell_type": "markdown",
   "metadata": {
    "id": "ymhjbmvR_DgJ"
   },
   "source": [
    "## Testing"
   ]
  },
  {
   "cell_type": "code",
   "execution_count": 2,
   "metadata": {
    "colab": {
     "base_uri": "https://localhost:8080/",
     "height": 34
    },
    "id": "b7rbm9wdXKeF",
    "outputId": "076309c7-22be-41f6-f916-5f11cb679672"
   },
   "outputs": [
    {
     "ename": "NameError",
     "evalue": "name 'torch' is not defined",
     "output_type": "error",
     "traceback": [
      "\u001b[1;31m---------------------------------------------------------------------------\u001b[0m",
      "\u001b[1;31mNameError\u001b[0m                                 Traceback (most recent call last)",
      "Cell \u001b[1;32mIn[2], line 1\u001b[0m\n\u001b[1;32m----> 1\u001b[0m checkpoint \u001b[38;5;241m=\u001b[39m \u001b[43mtorch\u001b[49m\u001b[38;5;241m.\u001b[39mload(\u001b[38;5;124m\"\u001b[39m\u001b[38;5;124mmodel.pth\u001b[39m\u001b[38;5;124m\"\u001b[39m)\n\u001b[0;32m      3\u001b[0m model\u001b[38;5;241m.\u001b[39mencoder\u001b[38;5;241m.\u001b[39mload_state_dict(checkpoint[\u001b[38;5;124m'\u001b[39m\u001b[38;5;124mencoder\u001b[39m\u001b[38;5;124m'\u001b[39m])\n\u001b[0;32m      4\u001b[0m model\u001b[38;5;241m.\u001b[39mdecoder1\u001b[38;5;241m.\u001b[39mload_state_dict(checkpoint[\u001b[38;5;124m'\u001b[39m\u001b[38;5;124mdecoder1\u001b[39m\u001b[38;5;124m'\u001b[39m])\n",
      "\u001b[1;31mNameError\u001b[0m: name 'torch' is not defined"
     ]
    }
   ],
   "source": [
    "checkpoint = torch.load(\"model.pth\")\n",
    "\n",
    "model.encoder.load_state_dict(checkpoint['encoder'])\n",
    "model.decoder1.load_state_dict(checkpoint['decoder1'])\n",
    "model.decoder2.load_state_dict(checkpoint['decoder2'])"
   ]
  },
  {
   "cell_type": "code",
   "execution_count": 20,
   "metadata": {
    "id": "Ry1QTp6V2ny4"
   },
   "outputs": [],
   "source": [
    "results=testing(model,test_loader)"
   ]
  },
  {
   "cell_type": "code",
   "execution_count": 21,
   "metadata": {},
   "outputs": [],
   "source": [
    "windows_labels=[]\n",
    "for i in range(len(labels)-window_size):\n",
    "    windows_labels.append(list(np.int_(labels[i:i+window_size])))"
   ]
  },
  {
   "cell_type": "code",
   "execution_count": 22,
   "metadata": {},
   "outputs": [],
   "source": [
    "y_test = [1.0 if (np.sum(window) > 0) else 0 for window in windows_labels ]"
   ]
  },
  {
   "cell_type": "code",
   "execution_count": 23,
   "metadata": {
    "id": "FSWwxheNvxR7"
   },
   "outputs": [],
   "source": [
    "y_pred=np.concatenate([torch.stack(results[:-1]).flatten().detach().cpu().numpy(),\n",
    "                              results[-1].flatten().detach().cpu().numpy()])"
   ]
  },
  {
   "cell_type": "code",
   "execution_count": 1,
   "metadata": {},
   "outputs": [
    {
     "ename": "NameError",
     "evalue": "name 'y_pred' is not defined",
     "output_type": "error",
     "traceback": [
      "\u001b[1;31m---------------------------------------------------------------------------\u001b[0m",
      "\u001b[1;31mNameError\u001b[0m                                 Traceback (most recent call last)",
      "Cell \u001b[1;32mIn[1], line 1\u001b[0m\n\u001b[1;32m----> 1\u001b[0m \u001b[38;5;28mlen\u001b[39m(\u001b[43my_pred\u001b[49m), \u001b[38;5;28mlen\u001b[39m(y_test)\n",
      "\u001b[1;31mNameError\u001b[0m: name 'y_pred' is not defined"
     ]
    }
   ],
   "source": [
    "len(y_pred), len(y_test)"
   ]
  },
  {
   "cell_type": "code",
   "execution_count": 27,
   "metadata": {
    "colab": {
     "base_uri": "https://localhost:8080/",
     "height": 279
    },
    "id": "bROUyLM93cG3",
    "outputId": "755359d9-d0fb-4deb-b313-d3c2a2465a26"
   },
   "outputs": [
    {
     "data": {
      "image/png": "[encoded data removed]",
      "text/plain": [
       "<Figure size 640x480 with 1 Axes>"
      ]
     },
     "metadata": {},
     "output_type": "display_data"
    }
   ],
   "source": [
    "threshold=ROC(y_test,y_pred)"
   ]
  },
  {
   "cell_type": "code",
   "execution_count": 28,
   "metadata": {},
   "outputs": [
    {
     "data": {
      "text/plain": [
       "array([0.02154813], dtype=float32)"
      ]
     },
     "execution_count": 28,
     "metadata": {},
     "output_type": "execute_result"
    }
   ],
   "source": [
    "threshold"
   ]
  },
  {
   "cell_type": "code",
   "execution_count": null,
   "metadata": {},
   "outputs": [],
   "source": [
    "y_pred_ = np.zeros(y_pred.shape[0])\n",
    "y_pred_[y_pred >= threshold] = 1"
   ]
  },
  {
   "cell_type": "code",
   "execution_count": null,
   "metadata": {},
   "outputs": [],
   "source": [
    "confusion_matrix(np.array(y_test), y_pred_)"
   ]
  },
  {
   "cell_type": "code",
   "execution_count": null,
   "metadata": {},
   "outputs": [],
   "source": [
    "threshold = 10\n",
    "y_pred_ = np.zeros(y_pred.shape[0])\n",
    "y_pred_[y_pred >= threshold] = 1"
   ]
  },
  {
   "cell_type": "code",
   "execution_count": null,
   "metadata": {},
   "outputs": [],
   "source": [
    "import sklearn\n",
    "print(sklearn.metrics.classification_report(y_test, y_pred_))"
   ]
  },
  {
   "cell_type": "code",
   "execution_count": null,
   "metadata": {},
   "outputs": [],
   "source": [
    "confusion_matrix(np.array(y_test), y_pred_)"
   ]
  },
  {
   "cell_type": "code",
   "execution_count": null,
   "metadata": {},
   "outputs": [],
   "source": [
    "with open(f'scores/usad_{file}_{train_size}_{window_size}.dat', 'w') as f:\n",
    "    for i in range(len(y_pred)):\n",
    "        f.write(str(y_pred[i]) + ';' + str(y_test[i]) + '\\n')"
   ]
  }
 ],
 "metadata": {
  "accelerator": "GPU",
  "colab": {
   "name": "USAD_test.ipynb",
   "provenance": [],
   "toc_visible": true
  },
  "kernelspec": {
   "display_name": "Python 3",
   "language": "python",
   "name": "python3"
  },
  "language_info": {
   "codemirror_mode": {
    "name": "ipython",
    "version": 3
   },
   "file_extension": ".py",
   "mimetype": "text/x-python",
   "name": "python",
   "nbconvert_exporter": "python",
   "pygments_lexer": "ipython3",
   "version": "3.12.2"
  }
 },
 "nbformat": 4,
 "nbformat_minor": 1
}
