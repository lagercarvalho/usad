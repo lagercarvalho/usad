{
 "cells": [
  {
   "cell_type": "markdown",
   "metadata": {
    "id": "etniX_KTlJ5U"
   },
   "source": [
    "# USAD"
   ]
  },
  {
   "cell_type": "markdown",
   "metadata": {
    "id": "N3jM0qLU8MgZ"
   },
   "source": [
    "## Environment"
   ]
  },
  {
   "cell_type": "code",
   "execution_count": 272,
   "metadata": {
    "id": "6u1DGKsAlLF-"
   },
   "outputs": [],
   "source": [
    "import numpy as np\n",
    "import pandas as pd\n",
    "import matplotlib.pyplot as plt\n",
    "import seaborn as sns\n",
    "import torch\n",
    "import torch.nn as nn\n",
    "from sklearn.model_selection import train_test_split\n",
    "\n",
    "from utils import *\n",
    "from usad import *"
   ]
  },
  {
   "cell_type": "code",
   "execution_count": 273,
   "metadata": {
    "colab": {
     "base_uri": "https://localhost:8080/",
     "height": 34
    },
    "id": "4AzWlDBI_djV",
    "outputId": "7a8d0c19-2389-461b-c0be-3427a25dda91"
   },
   "outputs": [
    {
     "name": "stdout",
     "output_type": "stream",
     "text": [
      "GPU 0: NVIDIA GeForce RTX 3060 Ti (UUID: GPU-1e84eb32-9819-cc34-0b25-e159dc3f19e9)\n"
     ]
    }
   ],
   "source": [
    "!nvidia-smi -L\n",
    "\n",
    "device = get_default_device()"
   ]
  },
  {
   "cell_type": "markdown",
   "metadata": {
    "id": "1crx5rGP9ONf"
   },
   "source": [
    "## EDA - Data Pre-Processing"
   ]
  },
  {
   "cell_type": "markdown",
   "metadata": {
    "id": "vxofeE469RhT"
   },
   "source": [
    "### Download dataset"
   ]
  },
  {
   "cell_type": "code",
   "execution_count": 302,
   "metadata": {
    "colab": {
     "base_uri": "https://localhost:8080/",
     "height": 84
    },
    "id": "i95DlAZI1G_p",
    "outputId": "5b35771c-356e-4e0b-a997-682d1ea85c6a",
    "scrolled": false
   },
   "outputs": [
    {
     "data": {
      "text/html": [
       "<div>\n",
       "<style scoped>\n",
       "    .dataframe tbody tr th:only-of-type {\n",
       "        vertical-align: middle;\n",
       "    }\n",
       "\n",
       "    .dataframe tbody tr th {\n",
       "        vertical-align: top;\n",
       "    }\n",
       "\n",
       "    .dataframe thead th {\n",
       "        text-align: right;\n",
       "    }\n",
       "</style>\n",
       "<table border=\"1\" class=\"dataframe\">\n",
       "  <thead>\n",
       "    <tr style=\"text-align: right;\">\n",
       "      <th></th>\n",
       "      <th>Address</th>\n",
       "      <th>IOA</th>\n",
       "      <th>Value</th>\n",
       "      <th>label</th>\n",
       "    </tr>\n",
       "  </thead>\n",
       "  <tbody>\n",
       "    <tr>\n",
       "      <th>0</th>\n",
       "      <td>1143.0</td>\n",
       "      <td>11009.0</td>\n",
       "      <td>38.5</td>\n",
       "      <td>0.0</td>\n",
       "    </tr>\n",
       "    <tr>\n",
       "      <th>1</th>\n",
       "      <td>1143.0</td>\n",
       "      <td>11008.0</td>\n",
       "      <td>60.6</td>\n",
       "      <td>0.0</td>\n",
       "    </tr>\n",
       "  </tbody>\n",
       "</table>\n",
       "</div>"
      ],
      "text/plain": [
       "   Address      IOA  Value  label\n",
       "0   1143.0  11009.0   38.5    0.0\n",
       "1   1143.0  11008.0   60.6    0.0"
      ]
     },
     "execution_count": 302,
     "metadata": {},
     "output_type": "execute_result"
    }
   ],
   "source": [
    "file = \"SCADA_Station1\"\n",
    "dataset = pd.read_csv(f'data/{file}_label.csv')\n",
    "\n",
    "dataset.head(2)"
   ]
  },
  {
   "cell_type": "code",
   "execution_count": 303,
   "metadata": {},
   "outputs": [],
   "source": [
    "normal, attack = train_test_split(dataset, test_size=0.5, shuffle=False)\n",
    "train_size = len(normal)"
   ]
  },
  {
   "cell_type": "markdown",
   "metadata": {
    "id": "kfSj4FYL9W8Y"
   },
   "source": [
    "### Normal period"
   ]
  },
  {
   "cell_type": "code",
   "execution_count": 304,
   "metadata": {},
   "outputs": [
    {
     "data": {
      "text/html": [
       "<div>\n",
       "<style scoped>\n",
       "    .dataframe tbody tr th:only-of-type {\n",
       "        vertical-align: middle;\n",
       "    }\n",
       "\n",
       "    .dataframe tbody tr th {\n",
       "        vertical-align: top;\n",
       "    }\n",
       "\n",
       "    .dataframe thead th {\n",
       "        text-align: right;\n",
       "    }\n",
       "</style>\n",
       "<table border=\"1\" class=\"dataframe\">\n",
       "  <thead>\n",
       "    <tr style=\"text-align: right;\">\n",
       "      <th></th>\n",
       "      <th>Address</th>\n",
       "      <th>IOA</th>\n",
       "      <th>Value</th>\n",
       "    </tr>\n",
       "  </thead>\n",
       "  <tbody>\n",
       "    <tr>\n",
       "      <th>0</th>\n",
       "      <td>1143.0</td>\n",
       "      <td>11009.0</td>\n",
       "      <td>38.5</td>\n",
       "    </tr>\n",
       "    <tr>\n",
       "      <th>1</th>\n",
       "      <td>1143.0</td>\n",
       "      <td>11008.0</td>\n",
       "      <td>60.6</td>\n",
       "    </tr>\n",
       "    <tr>\n",
       "      <th>2</th>\n",
       "      <td>1143.0</td>\n",
       "      <td>11008.0</td>\n",
       "      <td>55.0</td>\n",
       "    </tr>\n",
       "    <tr>\n",
       "      <th>3</th>\n",
       "      <td>1143.0</td>\n",
       "      <td>11007.0</td>\n",
       "      <td>29.1</td>\n",
       "    </tr>\n",
       "    <tr>\n",
       "      <th>4</th>\n",
       "      <td>1143.0</td>\n",
       "      <td>11008.0</td>\n",
       "      <td>60.2</td>\n",
       "    </tr>\n",
       "  </tbody>\n",
       "</table>\n",
       "</div>"
      ],
      "text/plain": [
       "   Address      IOA  Value\n",
       "0   1143.0  11009.0   38.5\n",
       "1   1143.0  11008.0   60.6\n",
       "2   1143.0  11008.0   55.0\n",
       "3   1143.0  11007.0   29.1\n",
       "4   1143.0  11008.0   60.2"
      ]
     },
     "execution_count": 304,
     "metadata": {},
     "output_type": "execute_result"
    }
   ],
   "source": [
    "normal = normal.drop([\"label\"], axis=1)\n",
    "normal.head(5)"
   ]
  },
  {
   "cell_type": "markdown",
   "metadata": {
    "id": "zxFNH5kU9hIE"
   },
   "source": [
    "#### Normalization"
   ]
  },
  {
   "cell_type": "code",
   "execution_count": 305,
   "metadata": {
    "id": "Mfxj4Uxn9kv4"
   },
   "outputs": [],
   "source": [
    "from sklearn import preprocessing\n",
    "min_max_scaler = preprocessing.MinMaxScaler()\n",
    "\n",
    "x = normal.values\n",
    "x_scaled = min_max_scaler.fit_transform(x)\n",
    "normal = pd.DataFrame(x_scaled)"
   ]
  },
  {
   "cell_type": "code",
   "execution_count": 306,
   "metadata": {
    "colab": {
     "base_uri": "https://localhost:8080/",
     "height": 126
    },
    "id": "mQ6_U4jn9nlw",
    "outputId": "f1cc1bd6-f1cc-4764-b1cc-2fd989ac4918"
   },
   "outputs": [
    {
     "data": {
      "text/html": [
       "<div>\n",
       "<style scoped>\n",
       "    .dataframe tbody tr th:only-of-type {\n",
       "        vertical-align: middle;\n",
       "    }\n",
       "\n",
       "    .dataframe tbody tr th {\n",
       "        vertical-align: top;\n",
       "    }\n",
       "\n",
       "    .dataframe thead th {\n",
       "        text-align: right;\n",
       "    }\n",
       "</style>\n",
       "<table border=\"1\" class=\"dataframe\">\n",
       "  <thead>\n",
       "    <tr style=\"text-align: right;\">\n",
       "      <th></th>\n",
       "      <th>0</th>\n",
       "      <th>1</th>\n",
       "      <th>2</th>\n",
       "    </tr>\n",
       "  </thead>\n",
       "  <tbody>\n",
       "    <tr>\n",
       "      <th>0</th>\n",
       "      <td>0.0</td>\n",
       "      <td>0.115942</td>\n",
       "      <td>0.256042</td>\n",
       "    </tr>\n",
       "    <tr>\n",
       "      <th>1</th>\n",
       "      <td>0.0</td>\n",
       "      <td>0.101449</td>\n",
       "      <td>0.339502</td>\n",
       "    </tr>\n",
       "    <tr>\n",
       "      <th>2</th>\n",
       "      <td>0.0</td>\n",
       "      <td>0.101449</td>\n",
       "      <td>0.318353</td>\n",
       "    </tr>\n",
       "    <tr>\n",
       "      <th>3</th>\n",
       "      <td>0.0</td>\n",
       "      <td>0.086957</td>\n",
       "      <td>0.220544</td>\n",
       "    </tr>\n",
       "    <tr>\n",
       "      <th>4</th>\n",
       "      <td>0.0</td>\n",
       "      <td>0.101449</td>\n",
       "      <td>0.337991</td>\n",
       "    </tr>\n",
       "  </tbody>\n",
       "</table>\n",
       "</div>"
      ],
      "text/plain": [
       "     0         1         2\n",
       "0  0.0  0.115942  0.256042\n",
       "1  0.0  0.101449  0.339502\n",
       "2  0.0  0.101449  0.318353\n",
       "3  0.0  0.086957  0.220544\n",
       "4  0.0  0.101449  0.337991"
      ]
     },
     "execution_count": 306,
     "metadata": {},
     "output_type": "execute_result"
    }
   ],
   "source": [
    "normal.head(5)"
   ]
  },
  {
   "cell_type": "markdown",
   "metadata": {
    "id": "_i71RFAi9spa"
   },
   "source": [
    "### Attack"
   ]
  },
  {
   "cell_type": "code",
   "execution_count": 307,
   "metadata": {},
   "outputs": [
    {
     "data": {
      "text/html": [
       "<div>\n",
       "<style scoped>\n",
       "    .dataframe tbody tr th:only-of-type {\n",
       "        vertical-align: middle;\n",
       "    }\n",
       "\n",
       "    .dataframe tbody tr th {\n",
       "        vertical-align: top;\n",
       "    }\n",
       "\n",
       "    .dataframe thead th {\n",
       "        text-align: right;\n",
       "    }\n",
       "</style>\n",
       "<table border=\"1\" class=\"dataframe\">\n",
       "  <thead>\n",
       "    <tr style=\"text-align: right;\">\n",
       "      <th></th>\n",
       "      <th>Address</th>\n",
       "      <th>IOA</th>\n",
       "      <th>Value</th>\n",
       "      <th>label</th>\n",
       "    </tr>\n",
       "  </thead>\n",
       "  <tbody>\n",
       "    <tr>\n",
       "      <th>14999</th>\n",
       "      <td>1143.0</td>\n",
       "      <td>11042.0</td>\n",
       "      <td>-4.7</td>\n",
       "      <td>0.0</td>\n",
       "    </tr>\n",
       "    <tr>\n",
       "      <th>15000</th>\n",
       "      <td>1143.0</td>\n",
       "      <td>11042.0</td>\n",
       "      <td>4.7</td>\n",
       "      <td>0.0</td>\n",
       "    </tr>\n",
       "    <tr>\n",
       "      <th>15001</th>\n",
       "      <td>1143.0</td>\n",
       "      <td>11042.0</td>\n",
       "      <td>-4.7</td>\n",
       "      <td>0.0</td>\n",
       "    </tr>\n",
       "    <tr>\n",
       "      <th>15002</th>\n",
       "      <td>1143.0</td>\n",
       "      <td>11042.0</td>\n",
       "      <td>4.7</td>\n",
       "      <td>0.0</td>\n",
       "    </tr>\n",
       "    <tr>\n",
       "      <th>15003</th>\n",
       "      <td>1143.0</td>\n",
       "      <td>11042.0</td>\n",
       "      <td>-4.7</td>\n",
       "      <td>0.0</td>\n",
       "    </tr>\n",
       "  </tbody>\n",
       "</table>\n",
       "</div>"
      ],
      "text/plain": [
       "       Address      IOA  Value  label\n",
       "14999   1143.0  11042.0   -4.7    0.0\n",
       "15000   1143.0  11042.0    4.7    0.0\n",
       "15001   1143.0  11042.0   -4.7    0.0\n",
       "15002   1143.0  11042.0    4.7    0.0\n",
       "15003   1143.0  11042.0   -4.7    0.0"
      ]
     },
     "execution_count": 307,
     "metadata": {},
     "output_type": "execute_result"
    }
   ],
   "source": [
    "attack.head(5)"
   ]
  },
  {
   "cell_type": "code",
   "execution_count": 313,
   "metadata": {},
   "outputs": [
    {
     "data": {
      "text/html": [
       "<div>\n",
       "<style scoped>\n",
       "    .dataframe tbody tr th:only-of-type {\n",
       "        vertical-align: middle;\n",
       "    }\n",
       "\n",
       "    .dataframe tbody tr th {\n",
       "        vertical-align: top;\n",
       "    }\n",
       "\n",
       "    .dataframe thead th {\n",
       "        text-align: right;\n",
       "    }\n",
       "</style>\n",
       "<table border=\"1\" class=\"dataframe\">\n",
       "  <thead>\n",
       "    <tr style=\"text-align: right;\">\n",
       "      <th></th>\n",
       "      <th>Address</th>\n",
       "      <th>IOA</th>\n",
       "      <th>Value</th>\n",
       "      <th>label</th>\n",
       "    </tr>\n",
       "  </thead>\n",
       "  <tbody>\n",
       "    <tr>\n",
       "      <th>18749</th>\n",
       "      <td>1143.0</td>\n",
       "      <td>11007.0</td>\n",
       "      <td>63.7</td>\n",
       "      <td>0.0</td>\n",
       "    </tr>\n",
       "    <tr>\n",
       "      <th>18750</th>\n",
       "      <td>1143.0</td>\n",
       "      <td>11008.0</td>\n",
       "      <td>515.5</td>\n",
       "      <td>1.0</td>\n",
       "    </tr>\n",
       "    <tr>\n",
       "      <th>18751</th>\n",
       "      <td>1143.0</td>\n",
       "      <td>11009.0</td>\n",
       "      <td>421.0</td>\n",
       "      <td>1.0</td>\n",
       "    </tr>\n",
       "    <tr>\n",
       "      <th>18752</th>\n",
       "      <td>1143.0</td>\n",
       "      <td>11043.0</td>\n",
       "      <td>-138.0</td>\n",
       "      <td>1.0</td>\n",
       "    </tr>\n",
       "    <tr>\n",
       "      <th>18753</th>\n",
       "      <td>1143.0</td>\n",
       "      <td>11007.0</td>\n",
       "      <td>344.0</td>\n",
       "      <td>1.0</td>\n",
       "    </tr>\n",
       "    <tr>\n",
       "      <th>18754</th>\n",
       "      <td>1143.0</td>\n",
       "      <td>11039.0</td>\n",
       "      <td>64.5</td>\n",
       "      <td>1.0</td>\n",
       "    </tr>\n",
       "    <tr>\n",
       "      <th>18755</th>\n",
       "      <td>1143.0</td>\n",
       "      <td>11009.0</td>\n",
       "      <td>448.0</td>\n",
       "      <td>1.0</td>\n",
       "    </tr>\n",
       "    <tr>\n",
       "      <th>18756</th>\n",
       "      <td>1143.0</td>\n",
       "      <td>11009.0</td>\n",
       "      <td>421.5</td>\n",
       "      <td>1.0</td>\n",
       "    </tr>\n",
       "    <tr>\n",
       "      <th>18757</th>\n",
       "      <td>1143.0</td>\n",
       "      <td>11039.0</td>\n",
       "      <td>23.5</td>\n",
       "      <td>1.0</td>\n",
       "    </tr>\n",
       "    <tr>\n",
       "      <th>18758</th>\n",
       "      <td>1143.0</td>\n",
       "      <td>11008.0</td>\n",
       "      <td>488.5</td>\n",
       "      <td>1.0</td>\n",
       "    </tr>\n",
       "    <tr>\n",
       "      <th>18759</th>\n",
       "      <td>1143.0</td>\n",
       "      <td>11001.0</td>\n",
       "      <td>114.0</td>\n",
       "      <td>1.0</td>\n",
       "    </tr>\n",
       "    <tr>\n",
       "      <th>18760</th>\n",
       "      <td>1143.0</td>\n",
       "      <td>11001.0</td>\n",
       "      <td>115.0</td>\n",
       "      <td>1.0</td>\n",
       "    </tr>\n",
       "    <tr>\n",
       "      <th>18761</th>\n",
       "      <td>1143.0</td>\n",
       "      <td>11009.0</td>\n",
       "      <td>449.5</td>\n",
       "      <td>1.0</td>\n",
       "    </tr>\n",
       "    <tr>\n",
       "      <th>18762</th>\n",
       "      <td>1143.0</td>\n",
       "      <td>11043.0</td>\n",
       "      <td>-163.5</td>\n",
       "      <td>1.0</td>\n",
       "    </tr>\n",
       "    <tr>\n",
       "      <th>18763</th>\n",
       "      <td>1143.0</td>\n",
       "      <td>11009.0</td>\n",
       "      <td>476.0</td>\n",
       "      <td>1.0</td>\n",
       "    </tr>\n",
       "    <tr>\n",
       "      <th>18764</th>\n",
       "      <td>1143.0</td>\n",
       "      <td>11039.0</td>\n",
       "      <td>64.5</td>\n",
       "      <td>1.0</td>\n",
       "    </tr>\n",
       "    <tr>\n",
       "      <th>18765</th>\n",
       "      <td>1143.0</td>\n",
       "      <td>11001.0</td>\n",
       "      <td>114.0</td>\n",
       "      <td>1.0</td>\n",
       "    </tr>\n",
       "    <tr>\n",
       "      <th>18766</th>\n",
       "      <td>1143.0</td>\n",
       "      <td>11001.0</td>\n",
       "      <td>115.0</td>\n",
       "      <td>1.0</td>\n",
       "    </tr>\n",
       "    <tr>\n",
       "      <th>18767</th>\n",
       "      <td>1143.0</td>\n",
       "      <td>11001.0</td>\n",
       "      <td>114.0</td>\n",
       "      <td>1.0</td>\n",
       "    </tr>\n",
       "    <tr>\n",
       "      <th>18768</th>\n",
       "      <td>1143.0</td>\n",
       "      <td>11001.0</td>\n",
       "      <td>115.0</td>\n",
       "      <td>1.0</td>\n",
       "    </tr>\n",
       "    <tr>\n",
       "      <th>18769</th>\n",
       "      <td>1143.0</td>\n",
       "      <td>11001.0</td>\n",
       "      <td>114.0</td>\n",
       "      <td>1.0</td>\n",
       "    </tr>\n",
       "    <tr>\n",
       "      <th>18770</th>\n",
       "      <td>1143.0</td>\n",
       "      <td>11001.0</td>\n",
       "      <td>23.0</td>\n",
       "      <td>0.0</td>\n",
       "    </tr>\n",
       "  </tbody>\n",
       "</table>\n",
       "</div>"
      ],
      "text/plain": [
       "       Address      IOA  Value  label\n",
       "18749   1143.0  11007.0   63.7    0.0\n",
       "18750   1143.0  11008.0  515.5    1.0\n",
       "18751   1143.0  11009.0  421.0    1.0\n",
       "18752   1143.0  11043.0 -138.0    1.0\n",
       "18753   1143.0  11007.0  344.0    1.0\n",
       "18754   1143.0  11039.0   64.5    1.0\n",
       "18755   1143.0  11009.0  448.0    1.0\n",
       "18756   1143.0  11009.0  421.5    1.0\n",
       "18757   1143.0  11039.0   23.5    1.0\n",
       "18758   1143.0  11008.0  488.5    1.0\n",
       "18759   1143.0  11001.0  114.0    1.0\n",
       "18760   1143.0  11001.0  115.0    1.0\n",
       "18761   1143.0  11009.0  449.5    1.0\n",
       "18762   1143.0  11043.0 -163.5    1.0\n",
       "18763   1143.0  11009.0  476.0    1.0\n",
       "18764   1143.0  11039.0   64.5    1.0\n",
       "18765   1143.0  11001.0  114.0    1.0\n",
       "18766   1143.0  11001.0  115.0    1.0\n",
       "18767   1143.0  11001.0  114.0    1.0\n",
       "18768   1143.0  11001.0  115.0    1.0\n",
       "18769   1143.0  11001.0  114.0    1.0\n",
       "18770   1143.0  11001.0   23.0    0.0"
      ]
     },
     "execution_count": 313,
     "metadata": {},
     "output_type": "execute_result"
    }
   ],
   "source": [
    "attack.iloc[3750 : 3772]"
   ]
  },
  {
   "cell_type": "code",
   "execution_count": 314,
   "metadata": {
    "colab": {
     "base_uri": "https://localhost:8080/",
     "height": 87
    },
    "id": "aN_TFp5x9uTE",
    "outputId": "38d7993d-c9a3-461d-c430-ebde697afbc6"
   },
   "outputs": [
    {
     "data": {
      "text/html": [
       "<div>\n",
       "<style scoped>\n",
       "    .dataframe tbody tr th:only-of-type {\n",
       "        vertical-align: middle;\n",
       "    }\n",
       "\n",
       "    .dataframe tbody tr th {\n",
       "        vertical-align: top;\n",
       "    }\n",
       "\n",
       "    .dataframe thead th {\n",
       "        text-align: right;\n",
       "    }\n",
       "</style>\n",
       "<table border=\"1\" class=\"dataframe\">\n",
       "  <thead>\n",
       "    <tr style=\"text-align: right;\">\n",
       "      <th></th>\n",
       "      <th>Address</th>\n",
       "      <th>IOA</th>\n",
       "      <th>Value</th>\n",
       "    </tr>\n",
       "  </thead>\n",
       "  <tbody>\n",
       "    <tr>\n",
       "      <th>14999</th>\n",
       "      <td>1143.0</td>\n",
       "      <td>11042.0</td>\n",
       "      <td>-4.7</td>\n",
       "    </tr>\n",
       "    <tr>\n",
       "      <th>15000</th>\n",
       "      <td>1143.0</td>\n",
       "      <td>11042.0</td>\n",
       "      <td>4.7</td>\n",
       "    </tr>\n",
       "    <tr>\n",
       "      <th>15001</th>\n",
       "      <td>1143.0</td>\n",
       "      <td>11042.0</td>\n",
       "      <td>-4.7</td>\n",
       "    </tr>\n",
       "    <tr>\n",
       "      <th>15002</th>\n",
       "      <td>1143.0</td>\n",
       "      <td>11042.0</td>\n",
       "      <td>4.7</td>\n",
       "    </tr>\n",
       "    <tr>\n",
       "      <th>15003</th>\n",
       "      <td>1143.0</td>\n",
       "      <td>11042.0</td>\n",
       "      <td>-4.7</td>\n",
       "    </tr>\n",
       "  </tbody>\n",
       "</table>\n",
       "</div>"
      ],
      "text/plain": [
       "       Address      IOA  Value\n",
       "14999   1143.0  11042.0   -4.7\n",
       "15000   1143.0  11042.0    4.7\n",
       "15001   1143.0  11042.0   -4.7\n",
       "15002   1143.0  11042.0    4.7\n",
       "15003   1143.0  11042.0   -4.7"
      ]
     },
     "execution_count": 314,
     "metadata": {},
     "output_type": "execute_result"
    }
   ],
   "source": [
    "#Read data\n",
    "labels = attack['label'].values\n",
    "attack = attack.drop([\"label\"], axis=1)\n",
    "attack.head(5)"
   ]
  },
  {
   "cell_type": "markdown",
   "metadata": {
    "id": "c4cB4v3N-Dhu"
   },
   "source": [
    "#### Normalization"
   ]
  },
  {
   "cell_type": "code",
   "execution_count": 315,
   "metadata": {
    "id": "jZrha9cO-BGK"
   },
   "outputs": [],
   "source": [
    "from sklearn import preprocessing\n",
    "\n",
    "x = attack.values \n",
    "x_scaled = min_max_scaler.transform(x)\n",
    "attack = pd.DataFrame(x_scaled)"
   ]
  },
  {
   "cell_type": "code",
   "execution_count": 316,
   "metadata": {
    "colab": {
     "base_uri": "https://localhost:8080/",
     "height": 126
    },
    "id": "z9SwiPco-BUa",
    "outputId": "f2507282-c0f9-4253-ece7-0a802b68240f"
   },
   "outputs": [
    {
     "data": {
      "text/html": [
       "<div>\n",
       "<style scoped>\n",
       "    .dataframe tbody tr th:only-of-type {\n",
       "        vertical-align: middle;\n",
       "    }\n",
       "\n",
       "    .dataframe tbody tr th {\n",
       "        vertical-align: top;\n",
       "    }\n",
       "\n",
       "    .dataframe thead th {\n",
       "        text-align: right;\n",
       "    }\n",
       "</style>\n",
       "<table border=\"1\" class=\"dataframe\">\n",
       "  <thead>\n",
       "    <tr style=\"text-align: right;\">\n",
       "      <th></th>\n",
       "      <th>0</th>\n",
       "      <th>1</th>\n",
       "      <th>2</th>\n",
       "    </tr>\n",
       "  </thead>\n",
       "  <tbody>\n",
       "    <tr>\n",
       "      <th>0</th>\n",
       "      <td>0.0</td>\n",
       "      <td>0.594203</td>\n",
       "      <td>0.092900</td>\n",
       "    </tr>\n",
       "    <tr>\n",
       "      <th>1</th>\n",
       "      <td>0.0</td>\n",
       "      <td>0.594203</td>\n",
       "      <td>0.128399</td>\n",
       "    </tr>\n",
       "  </tbody>\n",
       "</table>\n",
       "</div>"
      ],
      "text/plain": [
       "     0         1         2\n",
       "0  0.0  0.594203  0.092900\n",
       "1  0.0  0.594203  0.128399"
      ]
     },
     "execution_count": 316,
     "metadata": {},
     "output_type": "execute_result"
    }
   ],
   "source": [
    "attack.head(2)"
   ]
  },
  {
   "cell_type": "markdown",
   "metadata": {
    "id": "xXJi503b-j_d"
   },
   "source": [
    "### Windows"
   ]
  },
  {
   "cell_type": "code",
   "execution_count": 317,
   "metadata": {
    "id": "vyplttZa-BRN"
   },
   "outputs": [],
   "source": [
    "window_size=50"
   ]
  },
  {
   "cell_type": "code",
   "execution_count": 318,
   "metadata": {
    "colab": {
     "base_uri": "https://localhost:8080/",
     "height": 34
    },
    "id": "dzGJMp6Y-BN5",
    "outputId": "2949d278-1313-442c-f06b-275a8c6c6578"
   },
   "outputs": [
    {
     "data": {
      "text/plain": [
       "(14949, 50, 3)"
      ]
     },
     "execution_count": 318,
     "metadata": {},
     "output_type": "execute_result"
    }
   ],
   "source": [
    "windows_normal=normal.values[np.arange(window_size)[None, :] + np.arange(normal.shape[0]-window_size)[:, None]]\n",
    "windows_normal.shape"
   ]
  },
  {
   "cell_type": "code",
   "execution_count": 319,
   "metadata": {
    "colab": {
     "base_uri": "https://localhost:8080/",
     "height": 34
    },
    "id": "17LdB3c8-pRH",
    "outputId": "721059d4-5937-4dd3-d73c-e5d255fc273c"
   },
   "outputs": [
    {
     "data": {
      "text/plain": [
       "(14950, 50, 3)"
      ]
     },
     "execution_count": 319,
     "metadata": {},
     "output_type": "execute_result"
    }
   ],
   "source": [
    "windows_attack=attack.values[np.arange(window_size)[None, :] + np.arange(attack.shape[0]-window_size)[:, None]]\n",
    "windows_attack.shape"
   ]
  },
  {
   "cell_type": "markdown",
   "metadata": {
    "id": "k70ZFxGs-_7m"
   },
   "source": [
    "## Training"
   ]
  },
  {
   "cell_type": "code",
   "execution_count": 320,
   "metadata": {
    "id": "yi9S0SGnDKNc"
   },
   "outputs": [],
   "source": [
    "import torch.utils.data as data_utils\n",
    "\n",
    "BATCH_SIZE =  7919\n",
    "N_EPOCHS = 100\n",
    "hidden_size = 100\n",
    "\n",
    "w_size=windows_normal.shape[1]*windows_normal.shape[2]\n",
    "z_size=windows_normal.shape[1]*hidden_size\n",
    "\n",
    "windows_normal_train = windows_normal[:int(np.floor(.8 *  windows_normal.shape[0]))]\n",
    "windows_normal_val = windows_normal[int(np.floor(.8 *  windows_normal.shape[0])):int(np.floor(windows_normal.shape[0]))]\n",
    "\n",
    "train_loader = torch.utils.data.DataLoader(data_utils.TensorDataset(\n",
    "    torch.from_numpy(windows_normal_train).float().view(([windows_normal_train.shape[0],w_size]))\n",
    ") , batch_size=BATCH_SIZE, shuffle=False, num_workers=0)\n",
    "\n",
    "val_loader = torch.utils.data.DataLoader(data_utils.TensorDataset(\n",
    "    torch.from_numpy(windows_normal_val).float().view(([windows_normal_val.shape[0],w_size]))\n",
    ") , batch_size=BATCH_SIZE, shuffle=False, num_workers=0)\n",
    "\n",
    "test_loader = torch.utils.data.DataLoader(data_utils.TensorDataset(\n",
    "    torch.from_numpy(windows_attack).float().view(([windows_attack.shape[0],w_size]))\n",
    ") , batch_size=BATCH_SIZE, shuffle=False, num_workers=0)\n",
    "\n",
    "model = UsadModel(w_size, z_size)\n",
    "model = to_device(model,device)"
   ]
  },
  {
   "cell_type": "code",
   "execution_count": 321,
   "metadata": {
    "colab": {
     "base_uri": "https://localhost:8080/",
     "height": 1000
    },
    "id": "So9yjDPEDObC",
    "outputId": "629bcd13-37b1-4907-ef0d-46d9e3ad5398",
    "scrolled": true
   },
   "outputs": [
    {
     "name": "stdout",
     "output_type": "stream",
     "text": [
      "Epoch [0], val_loss1: 0.1338, val_loss2: 0.1382\n",
      "Epoch [1], val_loss1: 0.1309, val_loss2: -0.0001\n",
      "Epoch [2], val_loss1: 0.1255, val_loss2: -0.0436\n",
      "Epoch [3], val_loss1: 0.1182, val_loss2: -0.0622\n",
      "Epoch [4], val_loss1: 0.1092, val_loss2: -0.0695\n",
      "Epoch [5], val_loss1: 0.0988, val_loss2: -0.0704\n",
      "Epoch [6], val_loss1: 0.0879, val_loss2: -0.0673\n",
      "Epoch [7], val_loss1: 0.0770, val_loss2: -0.0620\n",
      "Epoch [8], val_loss1: 0.0672, val_loss2: -0.0559\n",
      "Epoch [9], val_loss1: 0.0593, val_loss2: -0.0505\n",
      "Epoch [10], val_loss1: 0.0536, val_loss2: -0.0464\n",
      "Epoch [11], val_loss1: 0.0503, val_loss2: -0.0440\n",
      "Epoch [12], val_loss1: 0.0474, val_loss2: -0.0419\n",
      "Epoch [13], val_loss1: 0.0429, val_loss2: -0.0382\n",
      "Epoch [14], val_loss1: 0.0366, val_loss2: -0.0327\n",
      "Epoch [15], val_loss1: 0.0290, val_loss2: -0.0258\n",
      "Epoch [16], val_loss1: 0.0218, val_loss2: -0.0193\n",
      "Epoch [17], val_loss1: 0.0166, val_loss2: -0.0146\n",
      "Epoch [18], val_loss1: 0.0141, val_loss2: -0.0125\n",
      "Epoch [19], val_loss1: 0.0140, val_loss2: -0.0126\n",
      "Epoch [20], val_loss1: 0.0153, val_loss2: -0.0140\n",
      "Epoch [21], val_loss1: 0.0171, val_loss2: -0.0158\n",
      "Epoch [22], val_loss1: 0.0184, val_loss2: -0.0171\n",
      "Epoch [23], val_loss1: 0.0192, val_loss2: -0.0179\n",
      "Epoch [24], val_loss1: 0.0194, val_loss2: -0.0182\n",
      "Epoch [25], val_loss1: 0.0193, val_loss2: -0.0182\n",
      "Epoch [26], val_loss1: 0.0190, val_loss2: -0.0179\n",
      "Epoch [27], val_loss1: 0.0185, val_loss2: -0.0175\n",
      "Epoch [28], val_loss1: 0.0179, val_loss2: -0.0170\n",
      "Epoch [29], val_loss1: 0.0174, val_loss2: -0.0165\n",
      "Epoch [30], val_loss1: 0.0170, val_loss2: -0.0161\n",
      "Epoch [31], val_loss1: 0.0169, val_loss2: -0.0161\n",
      "Epoch [32], val_loss1: 0.0171, val_loss2: -0.0163\n",
      "Epoch [33], val_loss1: 0.0173, val_loss2: -0.0165\n",
      "Epoch [34], val_loss1: 0.0172, val_loss2: -0.0164\n",
      "Epoch [35], val_loss1: 0.0166, val_loss2: -0.0159\n",
      "Epoch [36], val_loss1: 0.0155, val_loss2: -0.0147\n",
      "Epoch [37], val_loss1: 0.0140, val_loss2: -0.0133\n",
      "Epoch [38], val_loss1: 0.0125, val_loss2: -0.0119\n",
      "Epoch [39], val_loss1: 0.0112, val_loss2: -0.0107\n",
      "Epoch [40], val_loss1: 0.0104, val_loss2: -0.0099\n",
      "Epoch [41], val_loss1: 0.0099, val_loss2: -0.0094\n",
      "Epoch [42], val_loss1: 0.0096, val_loss2: -0.0092\n",
      "Epoch [43], val_loss1: 0.0096, val_loss2: -0.0091\n",
      "Epoch [44], val_loss1: 0.0096, val_loss2: -0.0092\n",
      "Epoch [45], val_loss1: 0.0097, val_loss2: -0.0093\n",
      "Epoch [46], val_loss1: 0.0098, val_loss2: -0.0094\n",
      "Epoch [47], val_loss1: 0.0099, val_loss2: -0.0095\n",
      "Epoch [48], val_loss1: 0.0100, val_loss2: -0.0096\n",
      "Epoch [49], val_loss1: 0.0100, val_loss2: -0.0096\n",
      "Epoch [50], val_loss1: 0.0100, val_loss2: -0.0096\n",
      "Epoch [51], val_loss1: 0.0098, val_loss2: -0.0095\n",
      "Epoch [52], val_loss1: 0.0097, val_loss2: -0.0093\n",
      "Epoch [53], val_loss1: 0.0095, val_loss2: -0.0092\n",
      "Epoch [54], val_loss1: 0.0094, val_loss2: -0.0091\n",
      "Epoch [55], val_loss1: 0.0094, val_loss2: -0.0091\n",
      "Epoch [56], val_loss1: 0.0095, val_loss2: -0.0091\n",
      "Epoch [57], val_loss1: 0.0095, val_loss2: -0.0092\n",
      "Epoch [58], val_loss1: 0.0095, val_loss2: -0.0092\n",
      "Epoch [59], val_loss1: 0.0094, val_loss2: -0.0091\n",
      "Epoch [60], val_loss1: 0.0093, val_loss2: -0.0090\n",
      "Epoch [61], val_loss1: 0.0092, val_loss2: -0.0089\n",
      "Epoch [62], val_loss1: 0.0092, val_loss2: -0.0089\n",
      "Epoch [63], val_loss1: 0.0092, val_loss2: -0.0090\n",
      "Epoch [64], val_loss1: 0.0094, val_loss2: -0.0091\n",
      "Epoch [65], val_loss1: 0.0096, val_loss2: -0.0094\n",
      "Epoch [66], val_loss1: 0.0099, val_loss2: -0.0097\n",
      "Epoch [67], val_loss1: 0.0102, val_loss2: -0.0100\n",
      "Epoch [68], val_loss1: 0.0105, val_loss2: -0.0102\n",
      "Epoch [69], val_loss1: 0.0107, val_loss2: -0.0104\n",
      "Epoch [70], val_loss1: 0.0108, val_loss2: -0.0105\n",
      "Epoch [71], val_loss1: 0.0107, val_loss2: -0.0105\n",
      "Epoch [72], val_loss1: 0.0106, val_loss2: -0.0104\n",
      "Epoch [73], val_loss1: 0.0106, val_loss2: -0.0103\n",
      "Epoch [74], val_loss1: 0.0107, val_loss2: -0.0104\n",
      "Epoch [75], val_loss1: 0.0110, val_loss2: -0.0107\n",
      "Epoch [76], val_loss1: 0.0113, val_loss2: -0.0111\n",
      "Epoch [77], val_loss1: 0.0117, val_loss2: -0.0114\n",
      "Epoch [78], val_loss1: 0.0117, val_loss2: -0.0115\n",
      "Epoch [79], val_loss1: 0.0115, val_loss2: -0.0112\n",
      "Epoch [80], val_loss1: 0.0110, val_loss2: -0.0107\n",
      "Epoch [81], val_loss1: 0.0104, val_loss2: -0.0102\n",
      "Epoch [82], val_loss1: 0.0100, val_loss2: -0.0098\n",
      "Epoch [83], val_loss1: 0.0097, val_loss2: -0.0095\n",
      "Epoch [84], val_loss1: 0.0094, val_loss2: -0.0092\n",
      "Epoch [85], val_loss1: 0.0093, val_loss2: -0.0091\n",
      "Epoch [86], val_loss1: 0.0092, val_loss2: -0.0090\n",
      "Epoch [87], val_loss1: 0.0094, val_loss2: -0.0092\n",
      "Epoch [88], val_loss1: 0.0097, val_loss2: -0.0095\n",
      "Epoch [89], val_loss1: 0.0101, val_loss2: -0.0099\n",
      "Epoch [90], val_loss1: 0.0105, val_loss2: -0.0103\n",
      "Epoch [91], val_loss1: 0.0106, val_loss2: -0.0104\n",
      "Epoch [92], val_loss1: 0.0103, val_loss2: -0.0101\n",
      "Epoch [93], val_loss1: 0.0098, val_loss2: -0.0096\n",
      "Epoch [94], val_loss1: 0.0093, val_loss2: -0.0091\n",
      "Epoch [95], val_loss1: 0.0093, val_loss2: -0.0091\n",
      "Epoch [96], val_loss1: 0.0097, val_loss2: -0.0095\n",
      "Epoch [97], val_loss1: 0.0104, val_loss2: -0.0102\n",
      "Epoch [98], val_loss1: 0.0111, val_loss2: -0.0109\n",
      "Epoch [99], val_loss1: 0.0113, val_loss2: -0.0111\n"
     ]
    }
   ],
   "source": [
    "history = training(N_EPOCHS,model,train_loader,val_loader)"
   ]
  },
  {
   "cell_type": "code",
   "execution_count": 322,
   "metadata": {
    "colab": {
     "base_uri": "https://localhost:8080/",
     "height": 295
    },
    "id": "fYwlN0JKVVtN",
    "outputId": "c742ff8b-3b4a-41f5-dd09-effee1be928a"
   },
   "outputs": [
    {
     "data": {
      "image/png": "[encoded data removed]",
      "text/plain": [
       "<Figure size 640x480 with 1 Axes>"
      ]
     },
     "metadata": {},
     "output_type": "display_data"
    }
   ],
   "source": [
    "plot_history(history)"
   ]
  },
  {
   "cell_type": "code",
   "execution_count": 323,
   "metadata": {
    "id": "ieObNqKYsOzh"
   },
   "outputs": [],
   "source": [
    "torch.save({\n",
    "            'encoder': model.encoder.state_dict(),\n",
    "            'decoder1': model.decoder1.state_dict(),\n",
    "            'decoder2': model.decoder2.state_dict()\n",
    "            }, \"model.pth\")"
   ]
  },
  {
   "cell_type": "markdown",
   "metadata": {
    "id": "ymhjbmvR_DgJ"
   },
   "source": [
    "## Testing"
   ]
  },
  {
   "cell_type": "code",
   "execution_count": 324,
   "metadata": {
    "colab": {
     "base_uri": "https://localhost:8080/",
     "height": 34
    },
    "id": "b7rbm9wdXKeF",
    "outputId": "076309c7-22be-41f6-f916-5f11cb679672"
   },
   "outputs": [
    {
     "data": {
      "text/plain": [
       "<All keys matched successfully>"
      ]
     },
     "execution_count": 324,
     "metadata": {},
     "output_type": "execute_result"
    }
   ],
   "source": [
    "checkpoint = torch.load(\"model.pth\")\n",
    "\n",
    "model.encoder.load_state_dict(checkpoint['encoder'])\n",
    "model.decoder1.load_state_dict(checkpoint['decoder1'])\n",
    "model.decoder2.load_state_dict(checkpoint['decoder2'])"
   ]
  },
  {
   "cell_type": "code",
   "execution_count": 325,
   "metadata": {
    "id": "Ry1QTp6V2ny4"
   },
   "outputs": [],
   "source": [
    "results=testing(model,test_loader)"
   ]
  },
  {
   "cell_type": "code",
   "execution_count": 326,
   "metadata": {},
   "outputs": [],
   "source": [
    "windows_labels=[]\n",
    "for i in range(len(labels)-window_size):\n",
    "    windows_labels.append(list(np.int_(labels[i:i+window_size])))"
   ]
  },
  {
   "cell_type": "code",
   "execution_count": 327,
   "metadata": {},
   "outputs": [],
   "source": [
    "y_test = [1.0 if (np.sum(window) > 0) else 0 for window in windows_labels ]"
   ]
  },
  {
   "cell_type": "code",
   "execution_count": 328,
   "metadata": {
    "id": "FSWwxheNvxR7"
   },
   "outputs": [],
   "source": [
    "y_pred=np.concatenate([torch.stack(results[:-1]).flatten().detach().cpu().numpy(),\n",
    "                              results[-1].flatten().detach().cpu().numpy()])"
   ]
  },
  {
   "cell_type": "code",
   "execution_count": 331,
   "metadata": {},
   "outputs": [],
   "source": [
    "with open(f'scores/usad_{file}_{train_size}_{window_size}.dat', 'w') as f:\n",
    "    for i in range(len(y_pred)):\n",
    "        f.write(str(y_pred[i]) + ';' + str(y_test[i]) + '\\n')"
   ]
  },
  {
   "cell_type": "code",
   "execution_count": 332,
   "metadata": {},
   "outputs": [
    {
     "data": {
      "text/plain": [
       "14950"
      ]
     },
     "execution_count": 332,
     "metadata": {},
     "output_type": "execute_result"
    }
   ],
   "source": [
    "len(y_pred)"
   ]
  },
  {
   "cell_type": "code",
   "execution_count": 333,
   "metadata": {},
   "outputs": [
    {
     "data": {
      "text/plain": [
       "14950"
      ]
     },
     "execution_count": 333,
     "metadata": {},
     "output_type": "execute_result"
    }
   ],
   "source": [
    "len(y_test)"
   ]
  },
  {
   "cell_type": "code",
   "execution_count": 334,
   "metadata": {
    "colab": {
     "base_uri": "https://localhost:8080/",
     "height": 279
    },
    "id": "bROUyLM93cG3",
    "outputId": "755359d9-d0fb-4deb-b313-d3c2a2465a26"
   },
   "outputs": [
    {
     "data": {
      "image/png": "[encoded data removed]",
      "text/plain": [
       "<Figure size 640x480 with 1 Axes>"
      ]
     },
     "metadata": {},
     "output_type": "display_data"
    }
   ],
   "source": [
    "threshold=ROC(y_test,y_pred)"
   ]
  },
  {
   "cell_type": "code",
   "execution_count": 335,
   "metadata": {},
   "outputs": [
    {
     "data": {
      "text/plain": [
       "array([0.1139271], dtype=float32)"
      ]
     },
     "execution_count": 335,
     "metadata": {},
     "output_type": "execute_result"
    }
   ],
   "source": [
    "threshold"
   ]
  }
 ],
 "metadata": {
  "accelerator": "GPU",
  "colab": {
   "name": "USAD_test.ipynb",
   "provenance": [],
   "toc_visible": true
  },
  "kernelspec": {
   "display_name": "Python 3",
   "language": "python",
   "name": "python3"
  },
  "language_info": {
   "codemirror_mode": {
    "name": "ipython",
    "version": 3
   },
   "file_extension": ".py",
   "mimetype": "text/x-python",
   "name": "python",
   "nbconvert_exporter": "python",
   "pygments_lexer": "ipython3",
   "version": "3.12.2"
  }
 },
 "nbformat": 4,
 "nbformat_minor": 1
}
