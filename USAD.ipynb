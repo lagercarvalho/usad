{
 "cells": [
  {
   "cell_type": "markdown",
   "metadata": {
    "id": "etniX_KTlJ5U"
   },
   "source": [
    "# USAD"
   ]
  },
  {
   "cell_type": "markdown",
   "metadata": {
    "id": "N3jM0qLU8MgZ"
   },
   "source": [
    "## Environment"
   ]
  },
  {
   "cell_type": "code",
   "execution_count": 98,
   "metadata": {
    "id": "6u1DGKsAlLF-"
   },
   "outputs": [],
   "source": [
    "import numpy as np\n",
    "import pandas as pd\n",
    "import matplotlib.pyplot as plt\n",
    "import seaborn as sns\n",
    "import torch\n",
    "import torch.nn as nn\n",
    "from sklearn.model_selection import train_test_split\n",
    "\n",
    "from utils import *\n",
    "from usad import *"
   ]
  },
  {
   "cell_type": "code",
   "execution_count": 99,
   "metadata": {
    "colab": {
     "base_uri": "https://localhost:8080/",
     "height": 34
    },
    "id": "4AzWlDBI_djV",
    "outputId": "7a8d0c19-2389-461b-c0be-3427a25dda91"
   },
   "outputs": [
    {
     "name": "stdout",
     "output_type": "stream",
     "text": [
      "GPU 0: NVIDIA GeForce RTX 3060 Ti (UUID: GPU-1e84eb32-9819-cc34-0b25-e159dc3f19e9)\n"
     ]
    }
   ],
   "source": [
    "!nvidia-smi -L\n",
    "\n",
    "device = get_default_device()"
   ]
  },
  {
   "cell_type": "markdown",
   "metadata": {
    "id": "1crx5rGP9ONf"
   },
   "source": [
    "## EDA - Data Pre-Processing"
   ]
  },
  {
   "cell_type": "markdown",
   "metadata": {
    "id": "vxofeE469RhT"
   },
   "source": [
    "### Download dataset"
   ]
  },
  {
   "cell_type": "code",
   "execution_count": 110,
   "metadata": {
    "colab": {
     "base_uri": "https://localhost:8080/",
     "height": 84
    },
    "id": "i95DlAZI1G_p",
    "outputId": "5b35771c-356e-4e0b-a997-682d1ea85c6a",
    "scrolled": false
   },
   "outputs": [],
   "source": [
    "dataset = pd.read_csv(\"data/MQTT_station1.csv\", nrows=20000)\n",
    "dataset['label'] = 0\n",
    "normal, attack = train_test_split(dataset, test_size=0.5, shuffle=False)"
   ]
  },
  {
   "cell_type": "markdown",
   "metadata": {
    "id": "kfSj4FYL9W8Y"
   },
   "source": [
    "### Normal period"
   ]
  },
  {
   "cell_type": "code",
   "execution_count": 111,
   "metadata": {},
   "outputs": [
    {
     "data": {
      "text/html": [
       "<div>\n",
       "<style scoped>\n",
       "    .dataframe tbody tr th:only-of-type {\n",
       "        vertical-align: middle;\n",
       "    }\n",
       "\n",
       "    .dataframe tbody tr th {\n",
       "        vertical-align: top;\n",
       "    }\n",
       "\n",
       "    .dataframe thead th {\n",
       "        text-align: right;\n",
       "    }\n",
       "</style>\n",
       "<table border=\"1\" class=\"dataframe\">\n",
       "  <thead>\n",
       "    <tr style=\"text-align: right;\">\n",
       "      <th></th>\n",
       "      <th>Time</th>\n",
       "      <th>Message_Length</th>\n",
       "      <th>GPR_Topic</th>\n",
       "      <th>Area_Topic</th>\n",
       "      <th>VAR_Topic_1</th>\n",
       "      <th>VAR_Topic_2</th>\n",
       "      <th>Message_ID</th>\n",
       "      <th>Message_Value</th>\n",
       "      <th>Message_q</th>\n",
       "      <th>Message_Time</th>\n",
       "      <th>label</th>\n",
       "    </tr>\n",
       "  </thead>\n",
       "  <tbody>\n",
       "    <tr>\n",
       "      <th>0</th>\n",
       "      <td>2023-09-05 16:39:46.584310</td>\n",
       "      <td>79</td>\n",
       "      <td>N143</td>\n",
       "      <td>T1</td>\n",
       "      <td>400</td>\n",
       "      <td>Ia</td>\n",
       "      <td>MF7</td>\n",
       "      <td>30.3</td>\n",
       "      <td>True</td>\n",
       "      <td>2023-09-05 16:39:46</td>\n",
       "      <td>0</td>\n",
       "    </tr>\n",
       "    <tr>\n",
       "      <th>1</th>\n",
       "      <td>2023-09-05 16:39:47.536947</td>\n",
       "      <td>83</td>\n",
       "      <td>N143</td>\n",
       "      <td>LV1</td>\n",
       "      <td>GRP5</td>\n",
       "      <td>Ib</td>\n",
       "      <td>MF43</td>\n",
       "      <td>-28.3</td>\n",
       "      <td>True</td>\n",
       "      <td>2023-09-05 16:39:47</td>\n",
       "      <td>0</td>\n",
       "    </tr>\n",
       "    <tr>\n",
       "      <th>2</th>\n",
       "      <td>2023-09-05 16:39:50.746603</td>\n",
       "      <td>78</td>\n",
       "      <td>N143</td>\n",
       "      <td>T1</td>\n",
       "      <td>400</td>\n",
       "      <td>Q</td>\n",
       "      <td>MF3</td>\n",
       "      <td>25.3</td>\n",
       "      <td>True</td>\n",
       "      <td>2023-09-05 16:39:50</td>\n",
       "      <td>0</td>\n",
       "    </tr>\n",
       "    <tr>\n",
       "      <th>3</th>\n",
       "      <td>2023-09-05 16:39:50.796822</td>\n",
       "      <td>78</td>\n",
       "      <td>N143</td>\n",
       "      <td>T1</td>\n",
       "      <td>400</td>\n",
       "      <td>S</td>\n",
       "      <td>MF4</td>\n",
       "      <td>28.2</td>\n",
       "      <td>True</td>\n",
       "      <td>2023-09-05 16:39:50</td>\n",
       "      <td>0</td>\n",
       "    </tr>\n",
       "    <tr>\n",
       "      <th>4</th>\n",
       "      <td>2023-09-05 16:39:50.847194</td>\n",
       "      <td>78</td>\n",
       "      <td>N143</td>\n",
       "      <td>T1</td>\n",
       "      <td>400</td>\n",
       "      <td>Q</td>\n",
       "      <td>MF3</td>\n",
       "      <td>26.4</td>\n",
       "      <td>True</td>\n",
       "      <td>2023-09-05 16:39:50</td>\n",
       "      <td>0</td>\n",
       "    </tr>\n",
       "  </tbody>\n",
       "</table>\n",
       "</div>"
      ],
      "text/plain": [
       "                         Time  Message_Length GPR_Topic Area_Topic  \\\n",
       "0  2023-09-05 16:39:46.584310              79      N143         T1   \n",
       "1  2023-09-05 16:39:47.536947              83      N143        LV1   \n",
       "2  2023-09-05 16:39:50.746603              78      N143         T1   \n",
       "3  2023-09-05 16:39:50.796822              78      N143         T1   \n",
       "4  2023-09-05 16:39:50.847194              78      N143         T1   \n",
       "\n",
       "  VAR_Topic_1 VAR_Topic_2 Message_ID Message_Value  Message_q  \\\n",
       "0         400          Ia        MF7          30.3       True   \n",
       "1        GRP5          Ib       MF43         -28.3       True   \n",
       "2         400           Q        MF3          25.3       True   \n",
       "3         400           S        MF4          28.2       True   \n",
       "4         400           Q        MF3          26.4       True   \n",
       "\n",
       "          Message_Time  label  \n",
       "0  2023-09-05 16:39:46      0  \n",
       "1  2023-09-05 16:39:47      0  \n",
       "2  2023-09-05 16:39:50      0  \n",
       "3  2023-09-05 16:39:50      0  \n",
       "4  2023-09-05 16:39:50      0  "
      ]
     },
     "execution_count": 111,
     "metadata": {},
     "output_type": "execute_result"
    }
   ],
   "source": [
    "normal.head(5)"
   ]
  },
  {
   "cell_type": "code",
   "execution_count": 112,
   "metadata": {
    "colab": {
     "base_uri": "https://localhost:8080/",
     "height": 87
    },
    "id": "XeDLxV_r1G9n",
    "outputId": "576538dd-64f2-46fa-8e6f-6c2ffdebad15"
   },
   "outputs": [
    {
     "data": {
      "text/plain": [
       "(10000, 9)"
      ]
     },
     "execution_count": 112,
     "metadata": {},
     "output_type": "execute_result"
    }
   ],
   "source": [
    "#Read data\n",
    "#, nrows=1000)\n",
    "normal = normal.drop([\"Time\" , \"Message_Time\" ] , axis = 1)\n",
    "normal.shape"
   ]
  },
  {
   "cell_type": "code",
   "execution_count": 113,
   "metadata": {},
   "outputs": [
    {
     "data": {
      "text/html": [
       "<div>\n",
       "<style scoped>\n",
       "    .dataframe tbody tr th:only-of-type {\n",
       "        vertical-align: middle;\n",
       "    }\n",
       "\n",
       "    .dataframe tbody tr th {\n",
       "        vertical-align: top;\n",
       "    }\n",
       "\n",
       "    .dataframe thead th {\n",
       "        text-align: right;\n",
       "    }\n",
       "</style>\n",
       "<table border=\"1\" class=\"dataframe\">\n",
       "  <thead>\n",
       "    <tr style=\"text-align: right;\">\n",
       "      <th></th>\n",
       "      <th>Message_Length</th>\n",
       "      <th>GPR_Topic</th>\n",
       "      <th>Area_Topic</th>\n",
       "      <th>VAR_Topic_1</th>\n",
       "      <th>VAR_Topic_2</th>\n",
       "      <th>Message_ID</th>\n",
       "      <th>Message_Value</th>\n",
       "      <th>Message_q</th>\n",
       "      <th>label</th>\n",
       "    </tr>\n",
       "  </thead>\n",
       "  <tbody>\n",
       "    <tr>\n",
       "      <th>0</th>\n",
       "      <td>79</td>\n",
       "      <td>N143</td>\n",
       "      <td>T1</td>\n",
       "      <td>400</td>\n",
       "      <td>Ia</td>\n",
       "      <td>MF7</td>\n",
       "      <td>30.3</td>\n",
       "      <td>True</td>\n",
       "      <td>0</td>\n",
       "    </tr>\n",
       "    <tr>\n",
       "      <th>1</th>\n",
       "      <td>83</td>\n",
       "      <td>N143</td>\n",
       "      <td>LV1</td>\n",
       "      <td>GRP5</td>\n",
       "      <td>Ib</td>\n",
       "      <td>MF43</td>\n",
       "      <td>-28.3</td>\n",
       "      <td>True</td>\n",
       "      <td>0</td>\n",
       "    </tr>\n",
       "    <tr>\n",
       "      <th>2</th>\n",
       "      <td>78</td>\n",
       "      <td>N143</td>\n",
       "      <td>T1</td>\n",
       "      <td>400</td>\n",
       "      <td>Q</td>\n",
       "      <td>MF3</td>\n",
       "      <td>25.3</td>\n",
       "      <td>True</td>\n",
       "      <td>0</td>\n",
       "    </tr>\n",
       "    <tr>\n",
       "      <th>3</th>\n",
       "      <td>78</td>\n",
       "      <td>N143</td>\n",
       "      <td>T1</td>\n",
       "      <td>400</td>\n",
       "      <td>S</td>\n",
       "      <td>MF4</td>\n",
       "      <td>28.2</td>\n",
       "      <td>True</td>\n",
       "      <td>0</td>\n",
       "    </tr>\n",
       "    <tr>\n",
       "      <th>4</th>\n",
       "      <td>78</td>\n",
       "      <td>N143</td>\n",
       "      <td>T1</td>\n",
       "      <td>400</td>\n",
       "      <td>Q</td>\n",
       "      <td>MF3</td>\n",
       "      <td>26.4</td>\n",
       "      <td>True</td>\n",
       "      <td>0</td>\n",
       "    </tr>\n",
       "  </tbody>\n",
       "</table>\n",
       "</div>"
      ],
      "text/plain": [
       "   Message_Length GPR_Topic Area_Topic VAR_Topic_1 VAR_Topic_2 Message_ID  \\\n",
       "0              79      N143         T1         400          Ia        MF7   \n",
       "1              83      N143        LV1        GRP5          Ib       MF43   \n",
       "2              78      N143         T1         400           Q        MF3   \n",
       "3              78      N143         T1         400           S        MF4   \n",
       "4              78      N143         T1         400           Q        MF3   \n",
       "\n",
       "  Message_Value  Message_q  label  \n",
       "0          30.3       True      0  \n",
       "1         -28.3       True      0  \n",
       "2          25.3       True      0  \n",
       "3          28.2       True      0  \n",
       "4          26.4       True      0  "
      ]
     },
     "execution_count": 113,
     "metadata": {},
     "output_type": "execute_result"
    }
   ],
   "source": [
    "normal.head(5)"
   ]
  },
  {
   "cell_type": "code",
   "execution_count": 114,
   "metadata": {},
   "outputs": [
    {
     "name": "stdout",
     "output_type": "stream",
     "text": [
      "3381969 bytes\n",
      "3.225296974182129 MB\n"
     ]
    }
   ],
   "source": [
    "print(f'{normal.memory_usage(deep=True).sum()} bytes')\n",
    "print(f'{normal.memory_usage(deep=True).sum() / 2**20} MB')"
   ]
  },
  {
   "cell_type": "code",
   "execution_count": 115,
   "metadata": {
    "id": "fFuLm1GH1G2n"
   },
   "outputs": [],
   "source": [
    "# Transform all columns into float64\n",
    "col = lambda column : [ord(char) for char in column]\n",
    "for i in list(normal):\n",
    "    normal[i]=normal[i].apply(lambda column: ''.join(map(str, col(str(column))))  if not str(column).replace(\".\", \"\").isdigit() else str(column).replace(\",\" , \".\"))\n",
    "normal = normal.astype(float)"
   ]
  },
  {
   "cell_type": "code",
   "execution_count": 116,
   "metadata": {},
   "outputs": [
    {
     "name": "stdout",
     "output_type": "stream",
     "text": [
      "800000 bytes\n",
      "0.762939453125 MB\n"
     ]
    }
   ],
   "source": [
    "print(f'{normal.memory_usage(deep=True).sum()} bytes')\n",
    "print(f'{normal.memory_usage(deep=True).sum() / 2**20} MB')"
   ]
  },
  {
   "cell_type": "code",
   "execution_count": 117,
   "metadata": {},
   "outputs": [
    {
     "data": {
      "text/html": [
       "<div>\n",
       "<style scoped>\n",
       "    .dataframe tbody tr th:only-of-type {\n",
       "        vertical-align: middle;\n",
       "    }\n",
       "\n",
       "    .dataframe tbody tr th {\n",
       "        vertical-align: top;\n",
       "    }\n",
       "\n",
       "    .dataframe thead th {\n",
       "        text-align: right;\n",
       "    }\n",
       "</style>\n",
       "<table border=\"1\" class=\"dataframe\">\n",
       "  <thead>\n",
       "    <tr style=\"text-align: right;\">\n",
       "      <th></th>\n",
       "      <th>Message_Length</th>\n",
       "      <th>GPR_Topic</th>\n",
       "      <th>Area_Topic</th>\n",
       "      <th>VAR_Topic_1</th>\n",
       "      <th>VAR_Topic_2</th>\n",
       "      <th>Message_ID</th>\n",
       "      <th>Message_Value</th>\n",
       "      <th>Message_q</th>\n",
       "      <th>label</th>\n",
       "    </tr>\n",
       "  </thead>\n",
       "  <tbody>\n",
       "    <tr>\n",
       "      <th>0</th>\n",
       "      <td>79.0</td>\n",
       "      <td>78495251.0</td>\n",
       "      <td>8449.0</td>\n",
       "      <td>400.0</td>\n",
       "      <td>7397.0</td>\n",
       "      <td>777055.0</td>\n",
       "      <td>3.030000e+01</td>\n",
       "      <td>8.411412e+10</td>\n",
       "      <td>0.0</td>\n",
       "    </tr>\n",
       "    <tr>\n",
       "      <th>1</th>\n",
       "      <td>83.0</td>\n",
       "      <td>78495251.0</td>\n",
       "      <td>768649.0</td>\n",
       "      <td>71828053.0</td>\n",
       "      <td>7398.0</td>\n",
       "      <td>77705251.0</td>\n",
       "      <td>4.550565e+09</td>\n",
       "      <td>8.411412e+10</td>\n",
       "      <td>0.0</td>\n",
       "    </tr>\n",
       "    <tr>\n",
       "      <th>2</th>\n",
       "      <td>78.0</td>\n",
       "      <td>78495251.0</td>\n",
       "      <td>8449.0</td>\n",
       "      <td>400.0</td>\n",
       "      <td>81.0</td>\n",
       "      <td>777051.0</td>\n",
       "      <td>2.530000e+01</td>\n",
       "      <td>8.411412e+10</td>\n",
       "      <td>0.0</td>\n",
       "    </tr>\n",
       "    <tr>\n",
       "      <th>3</th>\n",
       "      <td>78.0</td>\n",
       "      <td>78495251.0</td>\n",
       "      <td>8449.0</td>\n",
       "      <td>400.0</td>\n",
       "      <td>83.0</td>\n",
       "      <td>777052.0</td>\n",
       "      <td>2.820000e+01</td>\n",
       "      <td>8.411412e+10</td>\n",
       "      <td>0.0</td>\n",
       "    </tr>\n",
       "    <tr>\n",
       "      <th>4</th>\n",
       "      <td>78.0</td>\n",
       "      <td>78495251.0</td>\n",
       "      <td>8449.0</td>\n",
       "      <td>400.0</td>\n",
       "      <td>81.0</td>\n",
       "      <td>777051.0</td>\n",
       "      <td>2.640000e+01</td>\n",
       "      <td>8.411412e+10</td>\n",
       "      <td>0.0</td>\n",
       "    </tr>\n",
       "  </tbody>\n",
       "</table>\n",
       "</div>"
      ],
      "text/plain": [
       "   Message_Length   GPR_Topic  Area_Topic  VAR_Topic_1  VAR_Topic_2  \\\n",
       "0            79.0  78495251.0      8449.0        400.0       7397.0   \n",
       "1            83.0  78495251.0    768649.0   71828053.0       7398.0   \n",
       "2            78.0  78495251.0      8449.0        400.0         81.0   \n",
       "3            78.0  78495251.0      8449.0        400.0         83.0   \n",
       "4            78.0  78495251.0      8449.0        400.0         81.0   \n",
       "\n",
       "   Message_ID  Message_Value     Message_q  label  \n",
       "0    777055.0   3.030000e+01  8.411412e+10    0.0  \n",
       "1  77705251.0   4.550565e+09  8.411412e+10    0.0  \n",
       "2    777051.0   2.530000e+01  8.411412e+10    0.0  \n",
       "3    777052.0   2.820000e+01  8.411412e+10    0.0  \n",
       "4    777051.0   2.640000e+01  8.411412e+10    0.0  "
      ]
     },
     "execution_count": 117,
     "metadata": {},
     "output_type": "execute_result"
    }
   ],
   "source": [
    "normal.head(5)"
   ]
  },
  {
   "cell_type": "markdown",
   "metadata": {
    "id": "zxFNH5kU9hIE"
   },
   "source": [
    "#### Normalization"
   ]
  },
  {
   "cell_type": "code",
   "execution_count": 118,
   "metadata": {
    "id": "Mfxj4Uxn9kv4"
   },
   "outputs": [],
   "source": [
    "from sklearn import preprocessing\n",
    "min_max_scaler = preprocessing.MinMaxScaler()\n",
    "\n",
    "x = normal.values\n",
    "x_scaled = min_max_scaler.fit_transform(x)\n",
    "normal = pd.DataFrame(x_scaled)"
   ]
  },
  {
   "cell_type": "code",
   "execution_count": 109,
   "metadata": {
    "colab": {
     "base_uri": "https://localhost:8080/",
     "height": 126
    },
    "id": "mQ6_U4jn9nlw",
    "outputId": "f1cc1bd6-f1cc-4764-b1cc-2fd989ac4918"
   },
   "outputs": [
    {
     "data": {
      "text/html": [
       "<div>\n",
       "<style scoped>\n",
       "    .dataframe tbody tr th:only-of-type {\n",
       "        vertical-align: middle;\n",
       "    }\n",
       "\n",
       "    .dataframe tbody tr th {\n",
       "        vertical-align: top;\n",
       "    }\n",
       "\n",
       "    .dataframe thead th {\n",
       "        text-align: right;\n",
       "    }\n",
       "</style>\n",
       "<table border=\"1\" class=\"dataframe\">\n",
       "  <thead>\n",
       "    <tr style=\"text-align: right;\">\n",
       "      <th></th>\n",
       "      <th>0</th>\n",
       "      <th>1</th>\n",
       "      <th>2</th>\n",
       "      <th>3</th>\n",
       "      <th>4</th>\n",
       "      <th>5</th>\n",
       "      <th>6</th>\n",
       "      <th>7</th>\n",
       "    </tr>\n",
       "  </thead>\n",
       "  <tbody>\n",
       "    <tr>\n",
       "      <th>0</th>\n",
       "      <td>0.125000</td>\n",
       "      <td>0.0</td>\n",
       "      <td>0.000000</td>\n",
       "      <td>0.000005</td>\n",
       "      <td>8.635988e-09</td>\n",
       "      <td>8.321548e-26</td>\n",
       "      <td>3.586085e-87</td>\n",
       "      <td>0.0</td>\n",
       "    </tr>\n",
       "    <tr>\n",
       "      <th>1</th>\n",
       "      <td>0.208333</td>\n",
       "      <td>0.0</td>\n",
       "      <td>0.000001</td>\n",
       "      <td>1.000000</td>\n",
       "      <td>8.637168e-09</td>\n",
       "      <td>1.066936e-18</td>\n",
       "      <td>5.385713e-79</td>\n",
       "      <td>0.0</td>\n",
       "    </tr>\n",
       "  </tbody>\n",
       "</table>\n",
       "</div>"
      ],
      "text/plain": [
       "          0    1         2         3             4             5  \\\n",
       "0  0.125000  0.0  0.000000  0.000005  8.635988e-09  8.321548e-26   \n",
       "1  0.208333  0.0  0.000001  1.000000  8.637168e-09  1.066936e-18   \n",
       "\n",
       "              6    7  \n",
       "0  3.586085e-87  0.0  \n",
       "1  5.385713e-79  0.0  "
      ]
     },
     "execution_count": 109,
     "metadata": {},
     "output_type": "execute_result"
    }
   ],
   "source": [
    "normal.head(2)"
   ]
  },
  {
   "cell_type": "markdown",
   "metadata": {
    "id": "_i71RFAi9spa"
   },
   "source": [
    "### Attack"
   ]
  },
  {
   "cell_type": "code",
   "execution_count": 119,
   "metadata": {
    "colab": {
     "base_uri": "https://localhost:8080/",
     "height": 87
    },
    "id": "aN_TFp5x9uTE",
    "outputId": "38d7993d-c9a3-461d-c430-ebde697afbc6"
   },
   "outputs": [
    {
     "data": {
      "text/plain": [
       "(10000, 9)"
      ]
     },
     "execution_count": 119,
     "metadata": {},
     "output_type": "execute_result"
    }
   ],
   "source": [
    "#Read data\n",
    "labels = attack['label'].values\n",
    "attack = attack.drop([\"Time\" , \"Message_Time\"] , axis = 1)\n",
    "attack.shape"
   ]
  },
  {
   "cell_type": "code",
   "execution_count": 120,
   "metadata": {
    "id": "qLCInT-I9_-D"
   },
   "outputs": [],
   "source": [
    "# Transform all columns into float64\n",
    "col = lambda column : [ord(char) for char in column]\n",
    "for i in list(attack):\n",
    "    attack[i]=attack[i].apply(lambda column: ''.join(map(str, col(str(column))))  if not str(column).replace(\".\", \"\").isdigit() else str(column).replace(\",\" , \".\"))\n",
    "attack = attack.astype(float)"
   ]
  },
  {
   "cell_type": "markdown",
   "metadata": {
    "id": "c4cB4v3N-Dhu"
   },
   "source": [
    "#### Normalization"
   ]
  },
  {
   "cell_type": "code",
   "execution_count": 121,
   "metadata": {
    "id": "jZrha9cO-BGK"
   },
   "outputs": [],
   "source": [
    "from sklearn import preprocessing\n",
    "\n",
    "x = attack.values \n",
    "x_scaled = min_max_scaler.transform(x)\n",
    "attack = pd.DataFrame(x_scaled)"
   ]
  },
  {
   "cell_type": "code",
   "execution_count": 122,
   "metadata": {
    "colab": {
     "base_uri": "https://localhost:8080/",
     "height": 126
    },
    "id": "z9SwiPco-BUa",
    "outputId": "f2507282-c0f9-4253-ece7-0a802b68240f"
   },
   "outputs": [
    {
     "data": {
      "text/html": [
       "<div>\n",
       "<style scoped>\n",
       "    .dataframe tbody tr th:only-of-type {\n",
       "        vertical-align: middle;\n",
       "    }\n",
       "\n",
       "    .dataframe tbody tr th {\n",
       "        vertical-align: top;\n",
       "    }\n",
       "\n",
       "    .dataframe thead th {\n",
       "        text-align: right;\n",
       "    }\n",
       "</style>\n",
       "<table border=\"1\" class=\"dataframe\">\n",
       "  <thead>\n",
       "    <tr style=\"text-align: right;\">\n",
       "      <th></th>\n",
       "      <th>0</th>\n",
       "      <th>1</th>\n",
       "      <th>2</th>\n",
       "      <th>3</th>\n",
       "      <th>4</th>\n",
       "      <th>5</th>\n",
       "      <th>6</th>\n",
       "      <th>7</th>\n",
       "      <th>8</th>\n",
       "    </tr>\n",
       "  </thead>\n",
       "  <tbody>\n",
       "    <tr>\n",
       "      <th>0</th>\n",
       "      <td>0.125</td>\n",
       "      <td>0.0</td>\n",
       "      <td>0.0</td>\n",
       "      <td>0.000005</td>\n",
       "      <td>8.635988e-09</td>\n",
       "      <td>8.321548e-26</td>\n",
       "      <td>4.923469e-87</td>\n",
       "      <td>0.0</td>\n",
       "      <td>0.0</td>\n",
       "    </tr>\n",
       "    <tr>\n",
       "      <th>1</th>\n",
       "      <td>0.125</td>\n",
       "      <td>0.0</td>\n",
       "      <td>0.0</td>\n",
       "      <td>0.000005</td>\n",
       "      <td>0.000000e+00</td>\n",
       "      <td>1.386925e-26</td>\n",
       "      <td>5.384482e-79</td>\n",
       "      <td>0.0</td>\n",
       "      <td>0.0</td>\n",
       "    </tr>\n",
       "  </tbody>\n",
       "</table>\n",
       "</div>"
      ],
      "text/plain": [
       "       0    1    2         3             4             5             6    7  \\\n",
       "0  0.125  0.0  0.0  0.000005  8.635988e-09  8.321548e-26  4.923469e-87  0.0   \n",
       "1  0.125  0.0  0.0  0.000005  0.000000e+00  1.386925e-26  5.384482e-79  0.0   \n",
       "\n",
       "     8  \n",
       "0  0.0  \n",
       "1  0.0  "
      ]
     },
     "execution_count": 122,
     "metadata": {},
     "output_type": "execute_result"
    }
   ],
   "source": [
    "attack.head(2)"
   ]
  },
  {
   "cell_type": "markdown",
   "metadata": {
    "id": "xXJi503b-j_d"
   },
   "source": [
    "### Windows"
   ]
  },
  {
   "cell_type": "code",
   "execution_count": 123,
   "metadata": {
    "id": "vyplttZa-BRN"
   },
   "outputs": [],
   "source": [
    "window_size=12"
   ]
  },
  {
   "cell_type": "code",
   "execution_count": 124,
   "metadata": {
    "colab": {
     "base_uri": "https://localhost:8080/",
     "height": 34
    },
    "id": "dzGJMp6Y-BN5",
    "outputId": "2949d278-1313-442c-f06b-275a8c6c6578"
   },
   "outputs": [
    {
     "data": {
      "text/plain": [
       "(9988, 12, 9)"
      ]
     },
     "execution_count": 124,
     "metadata": {},
     "output_type": "execute_result"
    }
   ],
   "source": [
    "windows_normal=normal.values[np.arange(window_size)[None, :] + np.arange(normal.shape[0]-window_size)[:, None]]\n",
    "windows_normal.shape"
   ]
  },
  {
   "cell_type": "code",
   "execution_count": 125,
   "metadata": {
    "colab": {
     "base_uri": "https://localhost:8080/",
     "height": 34
    },
    "id": "17LdB3c8-pRH",
    "outputId": "721059d4-5937-4dd3-d73c-e5d255fc273c"
   },
   "outputs": [
    {
     "data": {
      "text/plain": [
       "(9988, 12, 9)"
      ]
     },
     "execution_count": 125,
     "metadata": {},
     "output_type": "execute_result"
    }
   ],
   "source": [
    "windows_attack=attack.values[np.arange(window_size)[None, :] + np.arange(attack.shape[0]-window_size)[:, None]]\n",
    "windows_attack.shape"
   ]
  },
  {
   "cell_type": "markdown",
   "metadata": {
    "id": "k70ZFxGs-_7m"
   },
   "source": [
    "## Training"
   ]
  },
  {
   "cell_type": "code",
   "execution_count": 126,
   "metadata": {
    "id": "yi9S0SGnDKNc"
   },
   "outputs": [],
   "source": [
    "import torch.utils.data as data_utils\n",
    "\n",
    "BATCH_SIZE =  7919\n",
    "N_EPOCHS = 100\n",
    "hidden_size = 100\n",
    "\n",
    "w_size=windows_normal.shape[1]*windows_normal.shape[2]\n",
    "z_size=windows_normal.shape[1]*hidden_size\n",
    "\n",
    "windows_normal_train = windows_normal[:int(np.floor(.8 *  windows_normal.shape[0]))]\n",
    "windows_normal_val = windows_normal[int(np.floor(.8 *  windows_normal.shape[0])):int(np.floor(windows_normal.shape[0]))]\n",
    "\n",
    "train_loader = torch.utils.data.DataLoader(data_utils.TensorDataset(\n",
    "    torch.from_numpy(windows_normal_train).float().view(([windows_normal_train.shape[0],w_size]))\n",
    ") , batch_size=BATCH_SIZE, shuffle=False, num_workers=0)\n",
    "\n",
    "val_loader = torch.utils.data.DataLoader(data_utils.TensorDataset(\n",
    "    torch.from_numpy(windows_normal_val).float().view(([windows_normal_val.shape[0],w_size]))\n",
    ") , batch_size=BATCH_SIZE, shuffle=False, num_workers=0)\n",
    "\n",
    "test_loader = torch.utils.data.DataLoader(data_utils.TensorDataset(\n",
    "    torch.from_numpy(windows_attack).float().view(([windows_attack.shape[0],w_size]))\n",
    ") , batch_size=BATCH_SIZE, shuffle=False, num_workers=0)\n",
    "\n",
    "model = UsadModel(w_size, z_size)\n",
    "model = to_device(model,device)"
   ]
  },
  {
   "cell_type": "code",
   "execution_count": 127,
   "metadata": {
    "colab": {
     "base_uri": "https://localhost:8080/",
     "height": 1000
    },
    "id": "So9yjDPEDObC",
    "outputId": "629bcd13-37b1-4907-ef0d-46d9e3ad5398",
    "scrolled": true
   },
   "outputs": [
    {
     "name": "stdout",
     "output_type": "stream",
     "text": [
      "Epoch [0], val_loss1: 0.2325, val_loss2: 0.2329\n",
      "Epoch [1], val_loss1: 0.2302, val_loss2: -0.0000\n",
      "Epoch [2], val_loss1: 0.2273, val_loss2: -0.0759\n",
      "Epoch [3], val_loss1: 0.2239, val_loss2: -0.1121\n",
      "Epoch [4], val_loss1: 0.2199, val_loss2: -0.1322\n",
      "Epoch [5], val_loss1: 0.2153, val_loss2: -0.1439\n",
      "Epoch [6], val_loss1: 0.2099, val_loss2: -0.1505\n",
      "Epoch [7], val_loss1: 0.2039, val_loss2: -0.1537\n",
      "Epoch [8], val_loss1: 0.1971, val_loss2: -0.1544\n",
      "Epoch [9], val_loss1: 0.1895, val_loss2: -0.1532\n",
      "Epoch [10], val_loss1: 0.1811, val_loss2: -0.1503\n",
      "Epoch [11], val_loss1: 0.1721, val_loss2: -0.1461\n",
      "Epoch [12], val_loss1: 0.1626, val_loss2: -0.1407\n",
      "Epoch [13], val_loss1: 0.1526, val_loss2: -0.1345\n",
      "Epoch [14], val_loss1: 0.1425, val_loss2: -0.1275\n",
      "Epoch [15], val_loss1: 0.1324, val_loss2: -0.1201\n",
      "Epoch [16], val_loss1: 0.1226, val_loss2: -0.1124\n",
      "Epoch [17], val_loss1: 0.1132, val_loss2: -0.1047\n",
      "Epoch [18], val_loss1: 0.1043, val_loss2: -0.0971\n",
      "Epoch [19], val_loss1: 0.0960, val_loss2: -0.0896\n",
      "Epoch [20], val_loss1: 0.0882, val_loss2: -0.0826\n",
      "Epoch [21], val_loss1: 0.0810, val_loss2: -0.0759\n",
      "Epoch [22], val_loss1: 0.0744, val_loss2: -0.0698\n",
      "Epoch [23], val_loss1: 0.0686, val_loss2: -0.0643\n",
      "Epoch [24], val_loss1: 0.0634, val_loss2: -0.0594\n",
      "Epoch [25], val_loss1: 0.0588, val_loss2: -0.0551\n",
      "Epoch [26], val_loss1: 0.0548, val_loss2: -0.0513\n",
      "Epoch [27], val_loss1: 0.0514, val_loss2: -0.0480\n",
      "Epoch [28], val_loss1: 0.0485, val_loss2: -0.0452\n",
      "Epoch [29], val_loss1: 0.0460, val_loss2: -0.0429\n",
      "Epoch [30], val_loss1: 0.0439, val_loss2: -0.0409\n",
      "Epoch [31], val_loss1: 0.0421, val_loss2: -0.0392\n",
      "Epoch [32], val_loss1: 0.0407, val_loss2: -0.0378\n",
      "Epoch [33], val_loss1: 0.0394, val_loss2: -0.0367\n",
      "Epoch [34], val_loss1: 0.0384, val_loss2: -0.0357\n",
      "Epoch [35], val_loss1: 0.0374, val_loss2: -0.0348\n",
      "Epoch [36], val_loss1: 0.0366, val_loss2: -0.0341\n",
      "Epoch [37], val_loss1: 0.0358, val_loss2: -0.0334\n",
      "Epoch [38], val_loss1: 0.0351, val_loss2: -0.0328\n",
      "Epoch [39], val_loss1: 0.0346, val_loss2: -0.0323\n",
      "Epoch [40], val_loss1: 0.0341, val_loss2: -0.0319\n",
      "Epoch [41], val_loss1: 0.0337, val_loss2: -0.0315\n",
      "Epoch [42], val_loss1: 0.0333, val_loss2: -0.0312\n",
      "Epoch [43], val_loss1: 0.0330, val_loss2: -0.0309\n",
      "Epoch [44], val_loss1: 0.0327, val_loss2: -0.0307\n",
      "Epoch [45], val_loss1: 0.0324, val_loss2: -0.0304\n",
      "Epoch [46], val_loss1: 0.0321, val_loss2: -0.0302\n",
      "Epoch [47], val_loss1: 0.0319, val_loss2: -0.0300\n",
      "Epoch [48], val_loss1: 0.0316, val_loss2: -0.0299\n",
      "Epoch [49], val_loss1: 0.0314, val_loss2: -0.0297\n",
      "Epoch [50], val_loss1: 0.0312, val_loss2: -0.0296\n",
      "Epoch [51], val_loss1: 0.0312, val_loss2: -0.0296\n",
      "Epoch [52], val_loss1: 0.0312, val_loss2: -0.0297\n",
      "Epoch [53], val_loss1: 0.0314, val_loss2: -0.0299\n",
      "Epoch [54], val_loss1: 0.0318, val_loss2: -0.0303\n",
      "Epoch [55], val_loss1: 0.0322, val_loss2: -0.0307\n",
      "Epoch [56], val_loss1: 0.0325, val_loss2: -0.0311\n",
      "Epoch [57], val_loss1: 0.0325, val_loss2: -0.0311\n",
      "Epoch [58], val_loss1: 0.0323, val_loss2: -0.0309\n",
      "Epoch [59], val_loss1: 0.0319, val_loss2: -0.0306\n",
      "Epoch [60], val_loss1: 0.0315, val_loss2: -0.0302\n",
      "Epoch [61], val_loss1: 0.0312, val_loss2: -0.0300\n",
      "Epoch [62], val_loss1: 0.0311, val_loss2: -0.0300\n",
      "Epoch [63], val_loss1: 0.0312, val_loss2: -0.0301\n",
      "Epoch [64], val_loss1: 0.0315, val_loss2: -0.0303\n",
      "Epoch [65], val_loss1: 0.0317, val_loss2: -0.0306\n",
      "Epoch [66], val_loss1: 0.0319, val_loss2: -0.0308\n",
      "Epoch [67], val_loss1: 0.0320, val_loss2: -0.0309\n",
      "Epoch [68], val_loss1: 0.0318, val_loss2: -0.0308\n",
      "Epoch [69], val_loss1: 0.0316, val_loss2: -0.0306\n",
      "Epoch [70], val_loss1: 0.0314, val_loss2: -0.0304\n",
      "Epoch [71], val_loss1: 0.0313, val_loss2: -0.0303\n",
      "Epoch [72], val_loss1: 0.0313, val_loss2: -0.0303\n",
      "Epoch [73], val_loss1: 0.0313, val_loss2: -0.0304\n",
      "Epoch [74], val_loss1: 0.0314, val_loss2: -0.0305\n",
      "Epoch [75], val_loss1: 0.0315, val_loss2: -0.0306\n",
      "Epoch [76], val_loss1: 0.0316, val_loss2: -0.0307\n",
      "Epoch [77], val_loss1: 0.0316, val_loss2: -0.0308\n",
      "Epoch [78], val_loss1: 0.0317, val_loss2: -0.0308\n",
      "Epoch [79], val_loss1: 0.0316, val_loss2: -0.0308\n",
      "Epoch [80], val_loss1: 0.0316, val_loss2: -0.0308\n",
      "Epoch [81], val_loss1: 0.0316, val_loss2: -0.0308\n",
      "Epoch [82], val_loss1: 0.0316, val_loss2: -0.0308\n",
      "Epoch [83], val_loss1: 0.0315, val_loss2: -0.0308\n",
      "Epoch [84], val_loss1: 0.0315, val_loss2: -0.0308\n",
      "Epoch [85], val_loss1: 0.0316, val_loss2: -0.0308\n",
      "Epoch [86], val_loss1: 0.0316, val_loss2: -0.0308\n",
      "Epoch [87], val_loss1: 0.0316, val_loss2: -0.0309\n",
      "Epoch [88], val_loss1: 0.0316, val_loss2: -0.0309\n",
      "Epoch [89], val_loss1: 0.0316, val_loss2: -0.0309\n",
      "Epoch [90], val_loss1: 0.0317, val_loss2: -0.0309\n",
      "Epoch [91], val_loss1: 0.0316, val_loss2: -0.0309\n",
      "Epoch [92], val_loss1: 0.0316, val_loss2: -0.0309\n",
      "Epoch [93], val_loss1: 0.0316, val_loss2: -0.0309\n",
      "Epoch [94], val_loss1: 0.0316, val_loss2: -0.0309\n",
      "Epoch [95], val_loss1: 0.0316, val_loss2: -0.0309\n",
      "Epoch [96], val_loss1: 0.0316, val_loss2: -0.0309\n",
      "Epoch [97], val_loss1: 0.0315, val_loss2: -0.0308\n",
      "Epoch [98], val_loss1: 0.0314, val_loss2: -0.0308\n",
      "Epoch [99], val_loss1: 0.0314, val_loss2: -0.0307\n"
     ]
    }
   ],
   "source": [
    "history = training(N_EPOCHS,model,train_loader,val_loader)"
   ]
  },
  {
   "cell_type": "code",
   "execution_count": 128,
   "metadata": {
    "colab": {
     "base_uri": "https://localhost:8080/",
     "height": 295
    },
    "id": "fYwlN0JKVVtN",
    "outputId": "c742ff8b-3b4a-41f5-dd09-effee1be928a"
   },
   "outputs": [
    {
     "data": {
      "image/png": "[encoded data removed]",
      "text/plain": [
       "<Figure size 640x480 with 1 Axes>"
      ]
     },
     "metadata": {},
     "output_type": "display_data"
    }
   ],
   "source": [
    "plot_history(history)"
   ]
  },
  {
   "cell_type": "code",
   "execution_count": 129,
   "metadata": {
    "id": "ieObNqKYsOzh"
   },
   "outputs": [],
   "source": [
    "torch.save({\n",
    "            'encoder': model.encoder.state_dict(),\n",
    "            'decoder1': model.decoder1.state_dict(),\n",
    "            'decoder2': model.decoder2.state_dict()\n",
    "            }, \"model.pth\")"
   ]
  },
  {
   "cell_type": "markdown",
   "metadata": {
    "id": "ymhjbmvR_DgJ"
   },
   "source": [
    "## Testing"
   ]
  },
  {
   "cell_type": "code",
   "execution_count": 130,
   "metadata": {
    "colab": {
     "base_uri": "https://localhost:8080/",
     "height": 34
    },
    "id": "b7rbm9wdXKeF",
    "outputId": "076309c7-22be-41f6-f916-5f11cb679672"
   },
   "outputs": [
    {
     "data": {
      "text/plain": [
       "<All keys matched successfully>"
      ]
     },
     "execution_count": 130,
     "metadata": {},
     "output_type": "execute_result"
    }
   ],
   "source": [
    "checkpoint = torch.load(\"model.pth\")\n",
    "\n",
    "model.encoder.load_state_dict(checkpoint['encoder'])\n",
    "model.decoder1.load_state_dict(checkpoint['decoder1'])\n",
    "model.decoder2.load_state_dict(checkpoint['decoder2'])"
   ]
  },
  {
   "cell_type": "code",
   "execution_count": 131,
   "metadata": {
    "id": "Ry1QTp6V2ny4"
   },
   "outputs": [],
   "source": [
    "results=testing(model,test_loader)"
   ]
  },
  {
   "cell_type": "code",
   "execution_count": 132,
   "metadata": {},
   "outputs": [],
   "source": [
    "windows_labels=[]\n",
    "for i in range(len(labels)-window_size):\n",
    "    windows_labels.append(list(np.int_(labels[i:i+window_size])))"
   ]
  },
  {
   "cell_type": "code",
   "execution_count": 133,
   "metadata": {},
   "outputs": [],
   "source": [
    "y_test = [1.0 if (np.sum(window) > 0) else 0 for window in windows_labels ]"
   ]
  },
  {
   "cell_type": "code",
   "execution_count": 134,
   "metadata": {
    "id": "FSWwxheNvxR7"
   },
   "outputs": [],
   "source": [
    "y_pred=np.concatenate([torch.stack(results[:-1]).flatten().detach().cpu().numpy(),\n",
    "                              results[-1].flatten().detach().cpu().numpy()])"
   ]
  },
  {
   "cell_type": "code",
   "execution_count": 138,
   "metadata": {},
   "outputs": [
    {
     "data": {
      "text/plain": [
       "array([0.02830483, 0.02908452, 0.03105126, 0.03418433, 0.03396217],\n",
       "      dtype=float32)"
      ]
     },
     "execution_count": 138,
     "metadata": {},
     "output_type": "execute_result"
    }
   ],
   "source": [
    "y_pred[:5]"
   ]
  },
  {
   "cell_type": "code",
   "execution_count": 139,
   "metadata": {},
   "outputs": [
    {
     "data": {
      "text/plain": [
       "[0, 0, 0, 0, 0]"
      ]
     },
     "execution_count": 139,
     "metadata": {},
     "output_type": "execute_result"
    }
   ],
   "source": [
    "y_test[:5]"
   ]
  },
  {
   "cell_type": "code",
   "execution_count": 135,
   "metadata": {
    "colab": {
     "base_uri": "https://localhost:8080/",
     "height": 279
    },
    "id": "bROUyLM93cG3",
    "outputId": "755359d9-d0fb-4deb-b313-d3c2a2465a26"
   },
   "outputs": [
    {
     "name": "stderr",
     "output_type": "stream",
     "text": [
      "d:\\Github\\usad\\.venv\\Lib\\site-packages\\sklearn\\metrics\\_ranking.py:1146: UndefinedMetricWarning: No positive samples in y_true, true positive value should be meaningless\n",
      "  warnings.warn(\n"
     ]
    },
    {
     "ename": "ValueError",
     "evalue": "Only one class present in y_true. ROC AUC score is not defined in that case.",
     "output_type": "error",
     "traceback": [
      "\u001b[1;31m---------------------------------------------------------------------------\u001b[0m",
      "\u001b[1;31mValueError\u001b[0m                                Traceback (most recent call last)",
      "Cell \u001b[1;32mIn[135], line 1\u001b[0m\n\u001b[1;32m----> 1\u001b[0m threshold\u001b[38;5;241m=\u001b[39m\u001b[43mROC\u001b[49m\u001b[43m(\u001b[49m\u001b[43my_test\u001b[49m\u001b[43m,\u001b[49m\u001b[43my_pred\u001b[49m\u001b[43m)\u001b[49m\n",
      "File \u001b[1;32md:\\Github\\usad\\utils.py:46\u001b[0m, in \u001b[0;36mROC\u001b[1;34m(y_test, y_pred)\u001b[0m\n\u001b[0;32m     44\u001b[0m \u001b[38;5;28;01mdef\u001b[39;00m \u001b[38;5;21mROC\u001b[39m(y_test,y_pred):\n\u001b[0;32m     45\u001b[0m     fpr,tpr,tr\u001b[38;5;241m=\u001b[39mroc_curve(y_test,y_pred)\n\u001b[1;32m---> 46\u001b[0m     auc\u001b[38;5;241m=\u001b[39m\u001b[43mroc_auc_score\u001b[49m\u001b[43m(\u001b[49m\u001b[43my_test\u001b[49m\u001b[43m,\u001b[49m\u001b[43my_pred\u001b[49m\u001b[43m)\u001b[49m\n\u001b[0;32m     47\u001b[0m     idx\u001b[38;5;241m=\u001b[39mnp\u001b[38;5;241m.\u001b[39margwhere(np\u001b[38;5;241m.\u001b[39mdiff(np\u001b[38;5;241m.\u001b[39msign(tpr\u001b[38;5;241m-\u001b[39m(\u001b[38;5;241m1\u001b[39m\u001b[38;5;241m-\u001b[39mfpr))))\u001b[38;5;241m.\u001b[39mflatten()\n\u001b[0;32m     49\u001b[0m     plt\u001b[38;5;241m.\u001b[39mxlabel(\u001b[38;5;124m\"\u001b[39m\u001b[38;5;124mFPR\u001b[39m\u001b[38;5;124m\"\u001b[39m)\n",
      "File \u001b[1;32md:\\Github\\usad\\.venv\\Lib\\site-packages\\sklearn\\utils\\_param_validation.py:213\u001b[0m, in \u001b[0;36mvalidate_params.<locals>.decorator.<locals>.wrapper\u001b[1;34m(*args, **kwargs)\u001b[0m\n\u001b[0;32m    207\u001b[0m \u001b[38;5;28;01mtry\u001b[39;00m:\n\u001b[0;32m    208\u001b[0m     \u001b[38;5;28;01mwith\u001b[39;00m config_context(\n\u001b[0;32m    209\u001b[0m         skip_parameter_validation\u001b[38;5;241m=\u001b[39m(\n\u001b[0;32m    210\u001b[0m             prefer_skip_nested_validation \u001b[38;5;129;01mor\u001b[39;00m global_skip_validation\n\u001b[0;32m    211\u001b[0m         )\n\u001b[0;32m    212\u001b[0m     ):\n\u001b[1;32m--> 213\u001b[0m         \u001b[38;5;28;01mreturn\u001b[39;00m \u001b[43mfunc\u001b[49m\u001b[43m(\u001b[49m\u001b[38;5;241;43m*\u001b[39;49m\u001b[43margs\u001b[49m\u001b[43m,\u001b[49m\u001b[43m \u001b[49m\u001b[38;5;241;43m*\u001b[39;49m\u001b[38;5;241;43m*\u001b[39;49m\u001b[43mkwargs\u001b[49m\u001b[43m)\u001b[49m\n\u001b[0;32m    214\u001b[0m \u001b[38;5;28;01mexcept\u001b[39;00m InvalidParameterError \u001b[38;5;28;01mas\u001b[39;00m e:\n\u001b[0;32m    215\u001b[0m     \u001b[38;5;66;03m# When the function is just a wrapper around an estimator, we allow\u001b[39;00m\n\u001b[0;32m    216\u001b[0m     \u001b[38;5;66;03m# the function to delegate validation to the estimator, but we replace\u001b[39;00m\n\u001b[0;32m    217\u001b[0m     \u001b[38;5;66;03m# the name of the estimator by the name of the function in the error\u001b[39;00m\n\u001b[0;32m    218\u001b[0m     \u001b[38;5;66;03m# message to avoid confusion.\u001b[39;00m\n\u001b[0;32m    219\u001b[0m     msg \u001b[38;5;241m=\u001b[39m re\u001b[38;5;241m.\u001b[39msub(\n\u001b[0;32m    220\u001b[0m         \u001b[38;5;124mr\u001b[39m\u001b[38;5;124m\"\u001b[39m\u001b[38;5;124mparameter of \u001b[39m\u001b[38;5;124m\\\u001b[39m\u001b[38;5;124mw+ must be\u001b[39m\u001b[38;5;124m\"\u001b[39m,\n\u001b[0;32m    221\u001b[0m         \u001b[38;5;124mf\u001b[39m\u001b[38;5;124m\"\u001b[39m\u001b[38;5;124mparameter of \u001b[39m\u001b[38;5;132;01m{\u001b[39;00mfunc\u001b[38;5;241m.\u001b[39m\u001b[38;5;18m__qualname__\u001b[39m\u001b[38;5;132;01m}\u001b[39;00m\u001b[38;5;124m must be\u001b[39m\u001b[38;5;124m\"\u001b[39m,\n\u001b[0;32m    222\u001b[0m         \u001b[38;5;28mstr\u001b[39m(e),\n\u001b[0;32m    223\u001b[0m     )\n",
      "File \u001b[1;32md:\\Github\\usad\\.venv\\Lib\\site-packages\\sklearn\\metrics\\_ranking.py:640\u001b[0m, in \u001b[0;36mroc_auc_score\u001b[1;34m(y_true, y_score, average, sample_weight, max_fpr, multi_class, labels)\u001b[0m\n\u001b[0;32m    638\u001b[0m     labels \u001b[38;5;241m=\u001b[39m np\u001b[38;5;241m.\u001b[39munique(y_true)\n\u001b[0;32m    639\u001b[0m     y_true \u001b[38;5;241m=\u001b[39m label_binarize(y_true, classes\u001b[38;5;241m=\u001b[39mlabels)[:, \u001b[38;5;241m0\u001b[39m]\n\u001b[1;32m--> 640\u001b[0m     \u001b[38;5;28;01mreturn\u001b[39;00m \u001b[43m_average_binary_score\u001b[49m\u001b[43m(\u001b[49m\n\u001b[0;32m    641\u001b[0m \u001b[43m        \u001b[49m\u001b[43mpartial\u001b[49m\u001b[43m(\u001b[49m\u001b[43m_binary_roc_auc_score\u001b[49m\u001b[43m,\u001b[49m\u001b[43m \u001b[49m\u001b[43mmax_fpr\u001b[49m\u001b[38;5;241;43m=\u001b[39;49m\u001b[43mmax_fpr\u001b[49m\u001b[43m)\u001b[49m\u001b[43m,\u001b[49m\n\u001b[0;32m    642\u001b[0m \u001b[43m        \u001b[49m\u001b[43my_true\u001b[49m\u001b[43m,\u001b[49m\n\u001b[0;32m    643\u001b[0m \u001b[43m        \u001b[49m\u001b[43my_score\u001b[49m\u001b[43m,\u001b[49m\n\u001b[0;32m    644\u001b[0m \u001b[43m        \u001b[49m\u001b[43maverage\u001b[49m\u001b[43m,\u001b[49m\n\u001b[0;32m    645\u001b[0m \u001b[43m        \u001b[49m\u001b[43msample_weight\u001b[49m\u001b[38;5;241;43m=\u001b[39;49m\u001b[43msample_weight\u001b[49m\u001b[43m,\u001b[49m\n\u001b[0;32m    646\u001b[0m \u001b[43m    \u001b[49m\u001b[43m)\u001b[49m\n\u001b[0;32m    647\u001b[0m \u001b[38;5;28;01melse\u001b[39;00m:  \u001b[38;5;66;03m# multilabel-indicator\u001b[39;00m\n\u001b[0;32m    648\u001b[0m     \u001b[38;5;28;01mreturn\u001b[39;00m _average_binary_score(\n\u001b[0;32m    649\u001b[0m         partial(_binary_roc_auc_score, max_fpr\u001b[38;5;241m=\u001b[39mmax_fpr),\n\u001b[0;32m    650\u001b[0m         y_true,\n\u001b[1;32m   (...)\u001b[0m\n\u001b[0;32m    653\u001b[0m         sample_weight\u001b[38;5;241m=\u001b[39msample_weight,\n\u001b[0;32m    654\u001b[0m     )\n",
      "File \u001b[1;32md:\\Github\\usad\\.venv\\Lib\\site-packages\\sklearn\\metrics\\_base.py:75\u001b[0m, in \u001b[0;36m_average_binary_score\u001b[1;34m(binary_metric, y_true, y_score, average, sample_weight)\u001b[0m\n\u001b[0;32m     72\u001b[0m     \u001b[38;5;28;01mraise\u001b[39;00m \u001b[38;5;167;01mValueError\u001b[39;00m(\u001b[38;5;124m\"\u001b[39m\u001b[38;5;132;01m{0}\u001b[39;00m\u001b[38;5;124m format is not supported\u001b[39m\u001b[38;5;124m\"\u001b[39m\u001b[38;5;241m.\u001b[39mformat(y_type))\n\u001b[0;32m     74\u001b[0m \u001b[38;5;28;01mif\u001b[39;00m y_type \u001b[38;5;241m==\u001b[39m \u001b[38;5;124m\"\u001b[39m\u001b[38;5;124mbinary\u001b[39m\u001b[38;5;124m\"\u001b[39m:\n\u001b[1;32m---> 75\u001b[0m     \u001b[38;5;28;01mreturn\u001b[39;00m \u001b[43mbinary_metric\u001b[49m\u001b[43m(\u001b[49m\u001b[43my_true\u001b[49m\u001b[43m,\u001b[49m\u001b[43m \u001b[49m\u001b[43my_score\u001b[49m\u001b[43m,\u001b[49m\u001b[43m \u001b[49m\u001b[43msample_weight\u001b[49m\u001b[38;5;241;43m=\u001b[39;49m\u001b[43msample_weight\u001b[49m\u001b[43m)\u001b[49m\n\u001b[0;32m     77\u001b[0m check_consistent_length(y_true, y_score, sample_weight)\n\u001b[0;32m     78\u001b[0m y_true \u001b[38;5;241m=\u001b[39m check_array(y_true)\n",
      "File \u001b[1;32md:\\Github\\usad\\.venv\\Lib\\site-packages\\sklearn\\metrics\\_ranking.py:382\u001b[0m, in \u001b[0;36m_binary_roc_auc_score\u001b[1;34m(y_true, y_score, sample_weight, max_fpr)\u001b[0m\n\u001b[0;32m    380\u001b[0m \u001b[38;5;250m\u001b[39m\u001b[38;5;124;03m\"\"\"Binary roc auc score.\"\"\"\u001b[39;00m\n\u001b[0;32m    381\u001b[0m \u001b[38;5;28;01mif\u001b[39;00m \u001b[38;5;28mlen\u001b[39m(np\u001b[38;5;241m.\u001b[39munique(y_true)) \u001b[38;5;241m!=\u001b[39m \u001b[38;5;241m2\u001b[39m:\n\u001b[1;32m--> 382\u001b[0m     \u001b[38;5;28;01mraise\u001b[39;00m \u001b[38;5;167;01mValueError\u001b[39;00m(\n\u001b[0;32m    383\u001b[0m         \u001b[38;5;124m\"\u001b[39m\u001b[38;5;124mOnly one class present in y_true. ROC AUC score \u001b[39m\u001b[38;5;124m\"\u001b[39m\n\u001b[0;32m    384\u001b[0m         \u001b[38;5;124m\"\u001b[39m\u001b[38;5;124mis not defined in that case.\u001b[39m\u001b[38;5;124m\"\u001b[39m\n\u001b[0;32m    385\u001b[0m     )\n\u001b[0;32m    387\u001b[0m fpr, tpr, _ \u001b[38;5;241m=\u001b[39m roc_curve(y_true, y_score, sample_weight\u001b[38;5;241m=\u001b[39msample_weight)\n\u001b[0;32m    388\u001b[0m \u001b[38;5;28;01mif\u001b[39;00m max_fpr \u001b[38;5;129;01mis\u001b[39;00m \u001b[38;5;28;01mNone\u001b[39;00m \u001b[38;5;129;01mor\u001b[39;00m max_fpr \u001b[38;5;241m==\u001b[39m \u001b[38;5;241m1\u001b[39m:\n",
      "\u001b[1;31mValueError\u001b[0m: Only one class present in y_true. ROC AUC score is not defined in that case."
     ]
    }
   ],
   "source": [
    "threshold=ROC(y_test,y_pred)"
   ]
  },
  {
   "cell_type": "code",
   "execution_count": null,
   "metadata": {},
   "outputs": [],
   "source": []
  }
 ],
 "metadata": {
  "accelerator": "GPU",
  "colab": {
   "name": "USAD_test.ipynb",
   "provenance": [],
   "toc_visible": true
  },
  "kernelspec": {
   "display_name": "Python 3",
   "language": "python",
   "name": "python3"
  },
  "language_info": {
   "codemirror_mode": {
    "name": "ipython",
    "version": 3
   },
   "file_extension": ".py",
   "mimetype": "text/x-python",
   "name": "python",
   "nbconvert_exporter": "python",
   "pygments_lexer": "ipython3",
   "version": "3.12.2"
  }
 },
 "nbformat": 4,
 "nbformat_minor": 1
}
