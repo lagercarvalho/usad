{
 "cells": [
  {
   "cell_type": "markdown",
   "metadata": {
    "id": "etniX_KTlJ5U"
   },
   "source": [
    "# USAD"
   ]
  },
  {
   "cell_type": "markdown",
   "metadata": {
    "id": "N3jM0qLU8MgZ"
   },
   "source": [
    "## Environment"
   ]
  },
  {
   "cell_type": "code",
   "execution_count": 2,
   "metadata": {
    "id": "6u1DGKsAlLF-"
   },
   "outputs": [],
   "source": [
    "import numpy as np\n",
    "import pandas as pd\n",
    "import matplotlib.pyplot as plt\n",
    "import seaborn as sns\n",
    "import torch\n",
    "import torch.nn as nn\n",
    "from sklearn.model_selection import train_test_split\n",
    "\n",
    "from utils import *\n",
    "from usad import *"
   ]
  },
  {
   "cell_type": "code",
   "execution_count": 2,
   "metadata": {
    "colab": {
     "base_uri": "https://localhost:8080/",
     "height": 34
    },
    "id": "4AzWlDBI_djV",
    "outputId": "7a8d0c19-2389-461b-c0be-3427a25dda91"
   },
   "outputs": [
    {
     "name": "stderr",
     "output_type": "stream",
     "text": [
      "'nvidia-smi' is not recognized as an internal or external command,\n",
      "operable program or batch file.\n"
     ]
    }
   ],
   "source": [
    "!nvidia-smi -L\n",
    "\n",
    "device = get_default_device()"
   ]
  },
  {
   "cell_type": "markdown",
   "metadata": {
    "id": "1crx5rGP9ONf"
   },
   "source": [
    "## EDA - Data Pre-Processing"
   ]
  },
  {
   "cell_type": "markdown",
   "metadata": {
    "id": "vxofeE469RhT"
   },
   "source": [
    "### Load dataset"
   ]
  },
  {
   "cell_type": "code",
   "execution_count": 3,
   "metadata": {
    "colab": {
     "base_uri": "https://localhost:8080/",
     "height": 84
    },
    "id": "i95DlAZI1G_p",
    "outputId": "5b35771c-356e-4e0b-a997-682d1ea85c6a",
    "scrolled": false
   },
   "outputs": [
    {
     "data": {
      "text/html": [
       "<div>\n",
       "<style scoped>\n",
       "    .dataframe tbody tr th:only-of-type {\n",
       "        vertical-align: middle;\n",
       "    }\n",
       "\n",
       "    .dataframe tbody tr th {\n",
       "        vertical-align: top;\n",
       "    }\n",
       "\n",
       "    .dataframe thead th {\n",
       "        text-align: right;\n",
       "    }\n",
       "</style>\n",
       "<table border=\"1\" class=\"dataframe\">\n",
       "  <thead>\n",
       "    <tr style=\"text-align: right;\">\n",
       "      <th></th>\n",
       "      <th>Value_mean</th>\n",
       "      <th>Value_std</th>\n",
       "      <th>Value_aad</th>\n",
       "      <th>Value_min</th>\n",
       "      <th>Value_max</th>\n",
       "      <th>Value_maxmin_diff</th>\n",
       "      <th>Value_median</th>\n",
       "      <th>Value_mad</th>\n",
       "      <th>Value_IQR</th>\n",
       "      <th>Value_neg_count</th>\n",
       "      <th>Value_pos_count</th>\n",
       "      <th>Value_above_mean</th>\n",
       "      <th>Value_peak_count</th>\n",
       "      <th>Value_energy</th>\n",
       "      <th>Value_sma</th>\n",
       "      <th>label</th>\n",
       "    </tr>\n",
       "  </thead>\n",
       "  <tbody>\n",
       "    <tr>\n",
       "      <th>0</th>\n",
       "      <td>2.635</td>\n",
       "      <td>7.944261</td>\n",
       "      <td>6.9780</td>\n",
       "      <td>-8.8</td>\n",
       "      <td>19.3</td>\n",
       "      <td>28.1</td>\n",
       "      <td>5.00</td>\n",
       "      <td>8.1</td>\n",
       "      <td>12.500</td>\n",
       "      <td>8</td>\n",
       "      <td>12</td>\n",
       "      <td>12</td>\n",
       "      <td>8</td>\n",
       "      <td>1401.09</td>\n",
       "      <td>7.505</td>\n",
       "      <td>0.0</td>\n",
       "    </tr>\n",
       "    <tr>\n",
       "      <th>1</th>\n",
       "      <td>1.685</td>\n",
       "      <td>7.671719</td>\n",
       "      <td>6.8965</td>\n",
       "      <td>-8.8</td>\n",
       "      <td>19.3</td>\n",
       "      <td>28.1</td>\n",
       "      <td>4.95</td>\n",
       "      <td>8.6</td>\n",
       "      <td>11.075</td>\n",
       "      <td>9</td>\n",
       "      <td>11</td>\n",
       "      <td>11</td>\n",
       "      <td>8</td>\n",
       "      <td>1233.89</td>\n",
       "      <td>7.065</td>\n",
       "      <td>0.0</td>\n",
       "    </tr>\n",
       "  </tbody>\n",
       "</table>\n",
       "</div>"
      ],
      "text/plain": [
       "   Value_mean  Value_std  Value_aad  Value_min  Value_max  Value_maxmin_diff  \\\n",
       "0       2.635   7.944261     6.9780       -8.8       19.3               28.1   \n",
       "1       1.685   7.671719     6.8965       -8.8       19.3               28.1   \n",
       "\n",
       "   Value_median  Value_mad  Value_IQR  Value_neg_count  Value_pos_count  \\\n",
       "0          5.00        8.1     12.500                8               12   \n",
       "1          4.95        8.6     11.075                9               11   \n",
       "\n",
       "   Value_above_mean  Value_peak_count  Value_energy  Value_sma  label  \n",
       "0                12                 8       1401.09      7.505    0.0  \n",
       "1                11                 8       1233.89      7.065    0.0  "
      ]
     },
     "execution_count": 3,
     "metadata": {},
     "output_type": "execute_result"
    }
   ],
   "source": [
    "file = \"SCADA_Station1_11042_10000_label_statistical_20_1\"\n",
    "dataset = pd.read_csv(f'data/{file}.csv')\n",
    "\n",
    "dataset.head(2)"
   ]
  },
  {
   "cell_type": "code",
   "execution_count": 4,
   "metadata": {},
   "outputs": [
    {
     "data": {
      "text/plain": [
       "262154"
      ]
     },
     "execution_count": 4,
     "metadata": {},
     "output_type": "execute_result"
    }
   ],
   "source": [
    "normal, attack = train_test_split(dataset, test_size=0.4, shuffle=False)\n",
    "train_size = len(normal)\n",
    "train_size"
   ]
  },
  {
   "cell_type": "markdown",
   "metadata": {
    "id": "kfSj4FYL9W8Y"
   },
   "source": [
    "### Normal period"
   ]
  },
  {
   "cell_type": "code",
   "execution_count": 5,
   "metadata": {},
   "outputs": [
    {
     "data": {
      "text/html": [
       "<div>\n",
       "<style scoped>\n",
       "    .dataframe tbody tr th:only-of-type {\n",
       "        vertical-align: middle;\n",
       "    }\n",
       "\n",
       "    .dataframe tbody tr th {\n",
       "        vertical-align: top;\n",
       "    }\n",
       "\n",
       "    .dataframe thead th {\n",
       "        text-align: right;\n",
       "    }\n",
       "</style>\n",
       "<table border=\"1\" class=\"dataframe\">\n",
       "  <thead>\n",
       "    <tr style=\"text-align: right;\">\n",
       "      <th></th>\n",
       "      <th>Value_mean</th>\n",
       "      <th>Value_std</th>\n",
       "      <th>Value_aad</th>\n",
       "      <th>Value_min</th>\n",
       "      <th>Value_max</th>\n",
       "      <th>Value_maxmin_diff</th>\n",
       "      <th>Value_median</th>\n",
       "      <th>Value_mad</th>\n",
       "      <th>Value_IQR</th>\n",
       "      <th>Value_neg_count</th>\n",
       "      <th>Value_pos_count</th>\n",
       "      <th>Value_above_mean</th>\n",
       "      <th>Value_peak_count</th>\n",
       "      <th>Value_energy</th>\n",
       "      <th>Value_sma</th>\n",
       "    </tr>\n",
       "  </thead>\n",
       "  <tbody>\n",
       "    <tr>\n",
       "      <th>0</th>\n",
       "      <td>2.635</td>\n",
       "      <td>7.944261</td>\n",
       "      <td>6.9780</td>\n",
       "      <td>-8.8</td>\n",
       "      <td>19.3</td>\n",
       "      <td>28.1</td>\n",
       "      <td>5.00</td>\n",
       "      <td>8.10</td>\n",
       "      <td>12.500</td>\n",
       "      <td>8</td>\n",
       "      <td>12</td>\n",
       "      <td>12</td>\n",
       "      <td>8</td>\n",
       "      <td>1401.09</td>\n",
       "      <td>7.505</td>\n",
       "    </tr>\n",
       "    <tr>\n",
       "      <th>1</th>\n",
       "      <td>1.685</td>\n",
       "      <td>7.671719</td>\n",
       "      <td>6.8965</td>\n",
       "      <td>-8.8</td>\n",
       "      <td>19.3</td>\n",
       "      <td>28.1</td>\n",
       "      <td>4.95</td>\n",
       "      <td>8.60</td>\n",
       "      <td>11.075</td>\n",
       "      <td>9</td>\n",
       "      <td>11</td>\n",
       "      <td>11</td>\n",
       "      <td>8</td>\n",
       "      <td>1233.89</td>\n",
       "      <td>7.065</td>\n",
       "    </tr>\n",
       "    <tr>\n",
       "      <th>2</th>\n",
       "      <td>0.975</td>\n",
       "      <td>6.589376</td>\n",
       "      <td>6.2575</td>\n",
       "      <td>-8.8</td>\n",
       "      <td>12.3</td>\n",
       "      <td>21.1</td>\n",
       "      <td>4.95</td>\n",
       "      <td>5.60</td>\n",
       "      <td>10.725</td>\n",
       "      <td>9</td>\n",
       "      <td>11</td>\n",
       "      <td>11</td>\n",
       "      <td>8</td>\n",
       "      <td>887.41</td>\n",
       "      <td>6.355</td>\n",
       "    </tr>\n",
       "    <tr>\n",
       "      <th>3</th>\n",
       "      <td>0.115</td>\n",
       "      <td>6.163869</td>\n",
       "      <td>5.9850</td>\n",
       "      <td>-8.8</td>\n",
       "      <td>8.8</td>\n",
       "      <td>17.6</td>\n",
       "      <td>0.00</td>\n",
       "      <td>5.20</td>\n",
       "      <td>10.425</td>\n",
       "      <td>10</td>\n",
       "      <td>10</td>\n",
       "      <td>10</td>\n",
       "      <td>9</td>\n",
       "      <td>760.13</td>\n",
       "      <td>5.985</td>\n",
       "    </tr>\n",
       "    <tr>\n",
       "      <th>4</th>\n",
       "      <td>0.010</td>\n",
       "      <td>6.062747</td>\n",
       "      <td>5.8800</td>\n",
       "      <td>-8.8</td>\n",
       "      <td>8.8</td>\n",
       "      <td>17.6</td>\n",
       "      <td>0.00</td>\n",
       "      <td>5.15</td>\n",
       "      <td>10.250</td>\n",
       "      <td>10</td>\n",
       "      <td>10</td>\n",
       "      <td>10</td>\n",
       "      <td>9</td>\n",
       "      <td>735.14</td>\n",
       "      <td>5.880</td>\n",
       "    </tr>\n",
       "  </tbody>\n",
       "</table>\n",
       "</div>"
      ],
      "text/plain": [
       "   Value_mean  Value_std  Value_aad  Value_min  Value_max  Value_maxmin_diff  \\\n",
       "0       2.635   7.944261     6.9780       -8.8       19.3               28.1   \n",
       "1       1.685   7.671719     6.8965       -8.8       19.3               28.1   \n",
       "2       0.975   6.589376     6.2575       -8.8       12.3               21.1   \n",
       "3       0.115   6.163869     5.9850       -8.8        8.8               17.6   \n",
       "4       0.010   6.062747     5.8800       -8.8        8.8               17.6   \n",
       "\n",
       "   Value_median  Value_mad  Value_IQR  Value_neg_count  Value_pos_count  \\\n",
       "0          5.00       8.10     12.500                8               12   \n",
       "1          4.95       8.60     11.075                9               11   \n",
       "2          4.95       5.60     10.725                9               11   \n",
       "3          0.00       5.20     10.425               10               10   \n",
       "4          0.00       5.15     10.250               10               10   \n",
       "\n",
       "   Value_above_mean  Value_peak_count  Value_energy  Value_sma  \n",
       "0                12                 8       1401.09      7.505  \n",
       "1                11                 8       1233.89      7.065  \n",
       "2                11                 8        887.41      6.355  \n",
       "3                10                 9        760.13      5.985  \n",
       "4                10                 9        735.14      5.880  "
      ]
     },
     "execution_count": 5,
     "metadata": {},
     "output_type": "execute_result"
    }
   ],
   "source": [
    "normal = normal.drop([\"label\"], axis=1)\n",
    "normal.head(5)"
   ]
  },
  {
   "cell_type": "markdown",
   "metadata": {
    "id": "zxFNH5kU9hIE"
   },
   "source": [
    "#### Normalization"
   ]
  },
  {
   "cell_type": "code",
   "execution_count": 6,
   "metadata": {
    "id": "Mfxj4Uxn9kv4"
   },
   "outputs": [],
   "source": [
    "from sklearn import preprocessing\n",
    "min_max_scaler = preprocessing.StandardScaler()\n",
    "\n",
    "x = normal.values\n",
    "x_scaled = min_max_scaler.fit_transform(x)\n",
    "normal = pd.DataFrame(x_scaled)"
   ]
  },
  {
   "cell_type": "code",
   "execution_count": 7,
   "metadata": {
    "colab": {
     "base_uri": "https://localhost:8080/",
     "height": 126
    },
    "id": "mQ6_U4jn9nlw",
    "outputId": "f1cc1bd6-f1cc-4764-b1cc-2fd989ac4918"
   },
   "outputs": [
    {
     "data": {
      "text/html": [
       "<div>\n",
       "<style scoped>\n",
       "    .dataframe tbody tr th:only-of-type {\n",
       "        vertical-align: middle;\n",
       "    }\n",
       "\n",
       "    .dataframe tbody tr th {\n",
       "        vertical-align: top;\n",
       "    }\n",
       "\n",
       "    .dataframe thead th {\n",
       "        text-align: right;\n",
       "    }\n",
       "</style>\n",
       "<table border=\"1\" class=\"dataframe\">\n",
       "  <thead>\n",
       "    <tr style=\"text-align: right;\">\n",
       "      <th></th>\n",
       "      <th>0</th>\n",
       "      <th>1</th>\n",
       "      <th>2</th>\n",
       "      <th>3</th>\n",
       "      <th>4</th>\n",
       "      <th>5</th>\n",
       "      <th>6</th>\n",
       "      <th>7</th>\n",
       "      <th>8</th>\n",
       "      <th>9</th>\n",
       "      <th>10</th>\n",
       "      <th>11</th>\n",
       "      <th>12</th>\n",
       "      <th>13</th>\n",
       "      <th>14</th>\n",
       "    </tr>\n",
       "  </thead>\n",
       "  <tbody>\n",
       "    <tr>\n",
       "      <th>0</th>\n",
       "      <td>1.516942</td>\n",
       "      <td>1.412337</td>\n",
       "      <td>0.942007</td>\n",
       "      <td>-0.915485</td>\n",
       "      <td>4.478580</td>\n",
       "      <td>3.283496</td>\n",
       "      <td>2.111680</td>\n",
       "      <td>1.482637</td>\n",
       "      <td>0.555061</td>\n",
       "      <td>-2.103553</td>\n",
       "      <td>2.103553</td>\n",
       "      <td>4.685518</td>\n",
       "      <td>-2.010421</td>\n",
       "      <td>0.692031</td>\n",
       "      <td>0.937505</td>\n",
       "    </tr>\n",
       "    <tr>\n",
       "      <th>1</th>\n",
       "      <td>0.984026</td>\n",
       "      <td>1.261933</td>\n",
       "      <td>0.895241</td>\n",
       "      <td>-0.915485</td>\n",
       "      <td>4.478580</td>\n",
       "      <td>3.283496</td>\n",
       "      <td>2.090822</td>\n",
       "      <td>1.719561</td>\n",
       "      <td>0.146341</td>\n",
       "      <td>-1.070139</td>\n",
       "      <td>1.070139</td>\n",
       "      <td>2.335700</td>\n",
       "      <td>-2.010421</td>\n",
       "      <td>0.524775</td>\n",
       "      <td>0.735235</td>\n",
       "    </tr>\n",
       "    <tr>\n",
       "      <th>2</th>\n",
       "      <td>0.585741</td>\n",
       "      <td>0.664636</td>\n",
       "      <td>0.528578</td>\n",
       "      <td>-0.915485</td>\n",
       "      <td>2.167068</td>\n",
       "      <td>1.886709</td>\n",
       "      <td>2.090822</td>\n",
       "      <td>0.298016</td>\n",
       "      <td>0.045953</td>\n",
       "      <td>-1.070139</td>\n",
       "      <td>1.070139</td>\n",
       "      <td>2.335700</td>\n",
       "      <td>-2.010421</td>\n",
       "      <td>0.178179</td>\n",
       "      <td>0.408845</td>\n",
       "    </tr>\n",
       "    <tr>\n",
       "      <th>3</th>\n",
       "      <td>0.103312</td>\n",
       "      <td>0.429817</td>\n",
       "      <td>0.372215</td>\n",
       "      <td>-0.915485</td>\n",
       "      <td>1.011312</td>\n",
       "      <td>1.188316</td>\n",
       "      <td>0.025852</td>\n",
       "      <td>0.108477</td>\n",
       "      <td>-0.040093</td>\n",
       "      <td>-0.036724</td>\n",
       "      <td>0.036724</td>\n",
       "      <td>-0.014118</td>\n",
       "      <td>0.305637</td>\n",
       "      <td>0.050856</td>\n",
       "      <td>0.238754</td>\n",
       "    </tr>\n",
       "    <tr>\n",
       "      <th>4</th>\n",
       "      <td>0.044411</td>\n",
       "      <td>0.374013</td>\n",
       "      <td>0.311966</td>\n",
       "      <td>-0.915485</td>\n",
       "      <td>1.011312</td>\n",
       "      <td>1.188316</td>\n",
       "      <td>0.025852</td>\n",
       "      <td>0.084784</td>\n",
       "      <td>-0.090287</td>\n",
       "      <td>-0.036724</td>\n",
       "      <td>0.036724</td>\n",
       "      <td>-0.014118</td>\n",
       "      <td>0.305637</td>\n",
       "      <td>0.025858</td>\n",
       "      <td>0.190485</td>\n",
       "    </tr>\n",
       "  </tbody>\n",
       "</table>\n",
       "</div>"
      ],
      "text/plain": [
       "         0         1         2         3         4         5         6   \\\n",
       "0  1.516942  1.412337  0.942007 -0.915485  4.478580  3.283496  2.111680   \n",
       "1  0.984026  1.261933  0.895241 -0.915485  4.478580  3.283496  2.090822   \n",
       "2  0.585741  0.664636  0.528578 -0.915485  2.167068  1.886709  2.090822   \n",
       "3  0.103312  0.429817  0.372215 -0.915485  1.011312  1.188316  0.025852   \n",
       "4  0.044411  0.374013  0.311966 -0.915485  1.011312  1.188316  0.025852   \n",
       "\n",
       "         7         8         9         10        11        12        13  \\\n",
       "0  1.482637  0.555061 -2.103553  2.103553  4.685518 -2.010421  0.692031   \n",
       "1  1.719561  0.146341 -1.070139  1.070139  2.335700 -2.010421  0.524775   \n",
       "2  0.298016  0.045953 -1.070139  1.070139  2.335700 -2.010421  0.178179   \n",
       "3  0.108477 -0.040093 -0.036724  0.036724 -0.014118  0.305637  0.050856   \n",
       "4  0.084784 -0.090287 -0.036724  0.036724 -0.014118  0.305637  0.025858   \n",
       "\n",
       "         14  \n",
       "0  0.937505  \n",
       "1  0.735235  \n",
       "2  0.408845  \n",
       "3  0.238754  \n",
       "4  0.190485  "
      ]
     },
     "execution_count": 7,
     "metadata": {},
     "output_type": "execute_result"
    }
   ],
   "source": [
    "normal.head(5)"
   ]
  },
  {
   "cell_type": "markdown",
   "metadata": {
    "id": "_i71RFAi9spa"
   },
   "source": [
    "### Attack"
   ]
  },
  {
   "cell_type": "code",
   "execution_count": 8,
   "metadata": {},
   "outputs": [
    {
     "data": {
      "text/html": [
       "<div>\n",
       "<style scoped>\n",
       "    .dataframe tbody tr th:only-of-type {\n",
       "        vertical-align: middle;\n",
       "    }\n",
       "\n",
       "    .dataframe tbody tr th {\n",
       "        vertical-align: top;\n",
       "    }\n",
       "\n",
       "    .dataframe thead th {\n",
       "        text-align: right;\n",
       "    }\n",
       "</style>\n",
       "<table border=\"1\" class=\"dataframe\">\n",
       "  <thead>\n",
       "    <tr style=\"text-align: right;\">\n",
       "      <th></th>\n",
       "      <th>Value_mean</th>\n",
       "      <th>Value_std</th>\n",
       "      <th>Value_aad</th>\n",
       "      <th>Value_min</th>\n",
       "      <th>Value_max</th>\n",
       "      <th>Value_maxmin_diff</th>\n",
       "      <th>Value_median</th>\n",
       "      <th>Value_mad</th>\n",
       "      <th>Value_IQR</th>\n",
       "      <th>Value_neg_count</th>\n",
       "      <th>Value_pos_count</th>\n",
       "      <th>Value_above_mean</th>\n",
       "      <th>Value_peak_count</th>\n",
       "      <th>Value_energy</th>\n",
       "      <th>Value_sma</th>\n",
       "      <th>label</th>\n",
       "    </tr>\n",
       "  </thead>\n",
       "  <tbody>\n",
       "    <tr>\n",
       "      <th>262154</th>\n",
       "      <td>0.0</td>\n",
       "      <td>4.4</td>\n",
       "      <td>4.4</td>\n",
       "      <td>-4.4</td>\n",
       "      <td>4.4</td>\n",
       "      <td>8.8</td>\n",
       "      <td>0.0</td>\n",
       "      <td>4.4</td>\n",
       "      <td>8.8</td>\n",
       "      <td>10</td>\n",
       "      <td>10</td>\n",
       "      <td>10</td>\n",
       "      <td>9</td>\n",
       "      <td>387.2</td>\n",
       "      <td>4.4</td>\n",
       "      <td>0.0</td>\n",
       "    </tr>\n",
       "    <tr>\n",
       "      <th>262155</th>\n",
       "      <td>0.0</td>\n",
       "      <td>4.4</td>\n",
       "      <td>4.4</td>\n",
       "      <td>-4.4</td>\n",
       "      <td>4.4</td>\n",
       "      <td>8.8</td>\n",
       "      <td>0.0</td>\n",
       "      <td>4.4</td>\n",
       "      <td>8.8</td>\n",
       "      <td>10</td>\n",
       "      <td>10</td>\n",
       "      <td>10</td>\n",
       "      <td>9</td>\n",
       "      <td>387.2</td>\n",
       "      <td>4.4</td>\n",
       "      <td>0.0</td>\n",
       "    </tr>\n",
       "    <tr>\n",
       "      <th>262156</th>\n",
       "      <td>0.0</td>\n",
       "      <td>4.4</td>\n",
       "      <td>4.4</td>\n",
       "      <td>-4.4</td>\n",
       "      <td>4.4</td>\n",
       "      <td>8.8</td>\n",
       "      <td>0.0</td>\n",
       "      <td>4.4</td>\n",
       "      <td>8.8</td>\n",
       "      <td>10</td>\n",
       "      <td>10</td>\n",
       "      <td>10</td>\n",
       "      <td>9</td>\n",
       "      <td>387.2</td>\n",
       "      <td>4.4</td>\n",
       "      <td>0.0</td>\n",
       "    </tr>\n",
       "    <tr>\n",
       "      <th>262157</th>\n",
       "      <td>0.0</td>\n",
       "      <td>4.4</td>\n",
       "      <td>4.4</td>\n",
       "      <td>-4.4</td>\n",
       "      <td>4.4</td>\n",
       "      <td>8.8</td>\n",
       "      <td>0.0</td>\n",
       "      <td>4.4</td>\n",
       "      <td>8.8</td>\n",
       "      <td>10</td>\n",
       "      <td>10</td>\n",
       "      <td>10</td>\n",
       "      <td>9</td>\n",
       "      <td>387.2</td>\n",
       "      <td>4.4</td>\n",
       "      <td>0.0</td>\n",
       "    </tr>\n",
       "    <tr>\n",
       "      <th>262158</th>\n",
       "      <td>0.0</td>\n",
       "      <td>4.4</td>\n",
       "      <td>4.4</td>\n",
       "      <td>-4.4</td>\n",
       "      <td>4.4</td>\n",
       "      <td>8.8</td>\n",
       "      <td>0.0</td>\n",
       "      <td>4.4</td>\n",
       "      <td>8.8</td>\n",
       "      <td>10</td>\n",
       "      <td>10</td>\n",
       "      <td>10</td>\n",
       "      <td>9</td>\n",
       "      <td>387.2</td>\n",
       "      <td>4.4</td>\n",
       "      <td>0.0</td>\n",
       "    </tr>\n",
       "  </tbody>\n",
       "</table>\n",
       "</div>"
      ],
      "text/plain": [
       "        Value_mean  Value_std  Value_aad  Value_min  Value_max  \\\n",
       "262154         0.0        4.4        4.4       -4.4        4.4   \n",
       "262155         0.0        4.4        4.4       -4.4        4.4   \n",
       "262156         0.0        4.4        4.4       -4.4        4.4   \n",
       "262157         0.0        4.4        4.4       -4.4        4.4   \n",
       "262158         0.0        4.4        4.4       -4.4        4.4   \n",
       "\n",
       "        Value_maxmin_diff  Value_median  Value_mad  Value_IQR  \\\n",
       "262154                8.8           0.0        4.4        8.8   \n",
       "262155                8.8           0.0        4.4        8.8   \n",
       "262156                8.8           0.0        4.4        8.8   \n",
       "262157                8.8           0.0        4.4        8.8   \n",
       "262158                8.8           0.0        4.4        8.8   \n",
       "\n",
       "        Value_neg_count  Value_pos_count  Value_above_mean  Value_peak_count  \\\n",
       "262154               10               10                10                 9   \n",
       "262155               10               10                10                 9   \n",
       "262156               10               10                10                 9   \n",
       "262157               10               10                10                 9   \n",
       "262158               10               10                10                 9   \n",
       "\n",
       "        Value_energy  Value_sma  label  \n",
       "262154         387.2        4.4    0.0  \n",
       "262155         387.2        4.4    0.0  \n",
       "262156         387.2        4.4    0.0  \n",
       "262157         387.2        4.4    0.0  \n",
       "262158         387.2        4.4    0.0  "
      ]
     },
     "execution_count": 8,
     "metadata": {},
     "output_type": "execute_result"
    }
   ],
   "source": [
    "attack.head(5)"
   ]
  },
  {
   "cell_type": "code",
   "execution_count": null,
   "metadata": {},
   "outputs": [],
   "source": [
    "attack.iloc[3750 : 3772]"
   ]
  },
  {
   "cell_type": "code",
   "execution_count": 9,
   "metadata": {
    "colab": {
     "base_uri": "https://localhost:8080/",
     "height": 87
    },
    "id": "aN_TFp5x9uTE",
    "outputId": "38d7993d-c9a3-461d-c430-ebde697afbc6"
   },
   "outputs": [
    {
     "data": {
      "text/html": [
       "<div>\n",
       "<style scoped>\n",
       "    .dataframe tbody tr th:only-of-type {\n",
       "        vertical-align: middle;\n",
       "    }\n",
       "\n",
       "    .dataframe tbody tr th {\n",
       "        vertical-align: top;\n",
       "    }\n",
       "\n",
       "    .dataframe thead th {\n",
       "        text-align: right;\n",
       "    }\n",
       "</style>\n",
       "<table border=\"1\" class=\"dataframe\">\n",
       "  <thead>\n",
       "    <tr style=\"text-align: right;\">\n",
       "      <th></th>\n",
       "      <th>Value_mean</th>\n",
       "      <th>Value_std</th>\n",
       "      <th>Value_aad</th>\n",
       "      <th>Value_min</th>\n",
       "      <th>Value_max</th>\n",
       "      <th>Value_maxmin_diff</th>\n",
       "      <th>Value_median</th>\n",
       "      <th>Value_mad</th>\n",
       "      <th>Value_IQR</th>\n",
       "      <th>Value_neg_count</th>\n",
       "      <th>Value_pos_count</th>\n",
       "      <th>Value_above_mean</th>\n",
       "      <th>Value_peak_count</th>\n",
       "      <th>Value_energy</th>\n",
       "      <th>Value_sma</th>\n",
       "    </tr>\n",
       "  </thead>\n",
       "  <tbody>\n",
       "    <tr>\n",
       "      <th>262154</th>\n",
       "      <td>0.0</td>\n",
       "      <td>4.4</td>\n",
       "      <td>4.4</td>\n",
       "      <td>-4.4</td>\n",
       "      <td>4.4</td>\n",
       "      <td>8.8</td>\n",
       "      <td>0.0</td>\n",
       "      <td>4.4</td>\n",
       "      <td>8.8</td>\n",
       "      <td>10</td>\n",
       "      <td>10</td>\n",
       "      <td>10</td>\n",
       "      <td>9</td>\n",
       "      <td>387.2</td>\n",
       "      <td>4.4</td>\n",
       "    </tr>\n",
       "    <tr>\n",
       "      <th>262155</th>\n",
       "      <td>0.0</td>\n",
       "      <td>4.4</td>\n",
       "      <td>4.4</td>\n",
       "      <td>-4.4</td>\n",
       "      <td>4.4</td>\n",
       "      <td>8.8</td>\n",
       "      <td>0.0</td>\n",
       "      <td>4.4</td>\n",
       "      <td>8.8</td>\n",
       "      <td>10</td>\n",
       "      <td>10</td>\n",
       "      <td>10</td>\n",
       "      <td>9</td>\n",
       "      <td>387.2</td>\n",
       "      <td>4.4</td>\n",
       "    </tr>\n",
       "    <tr>\n",
       "      <th>262156</th>\n",
       "      <td>0.0</td>\n",
       "      <td>4.4</td>\n",
       "      <td>4.4</td>\n",
       "      <td>-4.4</td>\n",
       "      <td>4.4</td>\n",
       "      <td>8.8</td>\n",
       "      <td>0.0</td>\n",
       "      <td>4.4</td>\n",
       "      <td>8.8</td>\n",
       "      <td>10</td>\n",
       "      <td>10</td>\n",
       "      <td>10</td>\n",
       "      <td>9</td>\n",
       "      <td>387.2</td>\n",
       "      <td>4.4</td>\n",
       "    </tr>\n",
       "    <tr>\n",
       "      <th>262157</th>\n",
       "      <td>0.0</td>\n",
       "      <td>4.4</td>\n",
       "      <td>4.4</td>\n",
       "      <td>-4.4</td>\n",
       "      <td>4.4</td>\n",
       "      <td>8.8</td>\n",
       "      <td>0.0</td>\n",
       "      <td>4.4</td>\n",
       "      <td>8.8</td>\n",
       "      <td>10</td>\n",
       "      <td>10</td>\n",
       "      <td>10</td>\n",
       "      <td>9</td>\n",
       "      <td>387.2</td>\n",
       "      <td>4.4</td>\n",
       "    </tr>\n",
       "    <tr>\n",
       "      <th>262158</th>\n",
       "      <td>0.0</td>\n",
       "      <td>4.4</td>\n",
       "      <td>4.4</td>\n",
       "      <td>-4.4</td>\n",
       "      <td>4.4</td>\n",
       "      <td>8.8</td>\n",
       "      <td>0.0</td>\n",
       "      <td>4.4</td>\n",
       "      <td>8.8</td>\n",
       "      <td>10</td>\n",
       "      <td>10</td>\n",
       "      <td>10</td>\n",
       "      <td>9</td>\n",
       "      <td>387.2</td>\n",
       "      <td>4.4</td>\n",
       "    </tr>\n",
       "  </tbody>\n",
       "</table>\n",
       "</div>"
      ],
      "text/plain": [
       "        Value_mean  Value_std  Value_aad  Value_min  Value_max  \\\n",
       "262154         0.0        4.4        4.4       -4.4        4.4   \n",
       "262155         0.0        4.4        4.4       -4.4        4.4   \n",
       "262156         0.0        4.4        4.4       -4.4        4.4   \n",
       "262157         0.0        4.4        4.4       -4.4        4.4   \n",
       "262158         0.0        4.4        4.4       -4.4        4.4   \n",
       "\n",
       "        Value_maxmin_diff  Value_median  Value_mad  Value_IQR  \\\n",
       "262154                8.8           0.0        4.4        8.8   \n",
       "262155                8.8           0.0        4.4        8.8   \n",
       "262156                8.8           0.0        4.4        8.8   \n",
       "262157                8.8           0.0        4.4        8.8   \n",
       "262158                8.8           0.0        4.4        8.8   \n",
       "\n",
       "        Value_neg_count  Value_pos_count  Value_above_mean  Value_peak_count  \\\n",
       "262154               10               10                10                 9   \n",
       "262155               10               10                10                 9   \n",
       "262156               10               10                10                 9   \n",
       "262157               10               10                10                 9   \n",
       "262158               10               10                10                 9   \n",
       "\n",
       "        Value_energy  Value_sma  \n",
       "262154         387.2        4.4  \n",
       "262155         387.2        4.4  \n",
       "262156         387.2        4.4  \n",
       "262157         387.2        4.4  \n",
       "262158         387.2        4.4  "
      ]
     },
     "execution_count": 9,
     "metadata": {},
     "output_type": "execute_result"
    }
   ],
   "source": [
    "#Read data\n",
    "labels = attack['label'].values\n",
    "attack = attack.drop([\"label\"], axis=1)\n",
    "attack.head(5)"
   ]
  },
  {
   "cell_type": "markdown",
   "metadata": {
    "id": "c4cB4v3N-Dhu"
   },
   "source": [
    "#### Normalization"
   ]
  },
  {
   "cell_type": "code",
   "execution_count": 10,
   "metadata": {
    "id": "jZrha9cO-BGK"
   },
   "outputs": [],
   "source": [
    "from sklearn import preprocessing\n",
    "\n",
    "x = attack.values \n",
    "x_scaled = min_max_scaler.transform(x)\n",
    "attack = pd.DataFrame(x_scaled)"
   ]
  },
  {
   "cell_type": "code",
   "execution_count": 11,
   "metadata": {
    "colab": {
     "base_uri": "https://localhost:8080/",
     "height": 126
    },
    "id": "z9SwiPco-BUa",
    "outputId": "f2507282-c0f9-4253-ece7-0a802b68240f"
   },
   "outputs": [
    {
     "data": {
      "text/html": [
       "<div>\n",
       "<style scoped>\n",
       "    .dataframe tbody tr th:only-of-type {\n",
       "        vertical-align: middle;\n",
       "    }\n",
       "\n",
       "    .dataframe tbody tr th {\n",
       "        vertical-align: top;\n",
       "    }\n",
       "\n",
       "    .dataframe thead th {\n",
       "        text-align: right;\n",
       "    }\n",
       "</style>\n",
       "<table border=\"1\" class=\"dataframe\">\n",
       "  <thead>\n",
       "    <tr style=\"text-align: right;\">\n",
       "      <th></th>\n",
       "      <th>0</th>\n",
       "      <th>1</th>\n",
       "      <th>2</th>\n",
       "      <th>3</th>\n",
       "      <th>4</th>\n",
       "      <th>5</th>\n",
       "      <th>6</th>\n",
       "      <th>7</th>\n",
       "      <th>8</th>\n",
       "      <th>9</th>\n",
       "      <th>10</th>\n",
       "      <th>11</th>\n",
       "      <th>12</th>\n",
       "      <th>13</th>\n",
       "      <th>14</th>\n",
       "    </tr>\n",
       "  </thead>\n",
       "  <tbody>\n",
       "    <tr>\n",
       "      <th>0</th>\n",
       "      <td>0.038801</td>\n",
       "      <td>-0.543584</td>\n",
       "      <td>-0.53727</td>\n",
       "      <td>0.477047</td>\n",
       "      <td>-0.441638</td>\n",
       "      <td>-0.567645</td>\n",
       "      <td>0.025852</td>\n",
       "      <td>-0.270602</td>\n",
       "      <td>-0.506178</td>\n",
       "      <td>-0.036724</td>\n",
       "      <td>0.036724</td>\n",
       "      <td>-0.014118</td>\n",
       "      <td>0.305637</td>\n",
       "      <td>-0.322199</td>\n",
       "      <td>-0.489877</td>\n",
       "    </tr>\n",
       "    <tr>\n",
       "      <th>1</th>\n",
       "      <td>0.038801</td>\n",
       "      <td>-0.543584</td>\n",
       "      <td>-0.53727</td>\n",
       "      <td>0.477047</td>\n",
       "      <td>-0.441638</td>\n",
       "      <td>-0.567645</td>\n",
       "      <td>0.025852</td>\n",
       "      <td>-0.270602</td>\n",
       "      <td>-0.506178</td>\n",
       "      <td>-0.036724</td>\n",
       "      <td>0.036724</td>\n",
       "      <td>-0.014118</td>\n",
       "      <td>0.305637</td>\n",
       "      <td>-0.322199</td>\n",
       "      <td>-0.489877</td>\n",
       "    </tr>\n",
       "  </tbody>\n",
       "</table>\n",
       "</div>"
      ],
      "text/plain": [
       "         0         1        2         3         4         5         6   \\\n",
       "0  0.038801 -0.543584 -0.53727  0.477047 -0.441638 -0.567645  0.025852   \n",
       "1  0.038801 -0.543584 -0.53727  0.477047 -0.441638 -0.567645  0.025852   \n",
       "\n",
       "         7         8         9         10        11        12        13  \\\n",
       "0 -0.270602 -0.506178 -0.036724  0.036724 -0.014118  0.305637 -0.322199   \n",
       "1 -0.270602 -0.506178 -0.036724  0.036724 -0.014118  0.305637 -0.322199   \n",
       "\n",
       "         14  \n",
       "0 -0.489877  \n",
       "1 -0.489877  "
      ]
     },
     "execution_count": 11,
     "metadata": {},
     "output_type": "execute_result"
    }
   ],
   "source": [
    "attack.head(2)"
   ]
  },
  {
   "cell_type": "markdown",
   "metadata": {
    "id": "xXJi503b-j_d"
   },
   "source": [
    "### Windows"
   ]
  },
  {
   "cell_type": "code",
   "execution_count": 12,
   "metadata": {
    "id": "vyplttZa-BRN"
   },
   "outputs": [],
   "source": [
    "window_size=20"
   ]
  },
  {
   "cell_type": "code",
   "execution_count": 13,
   "metadata": {
    "colab": {
     "base_uri": "https://localhost:8080/",
     "height": 34
    },
    "id": "dzGJMp6Y-BN5",
    "outputId": "2949d278-1313-442c-f06b-275a8c6c6578"
   },
   "outputs": [
    {
     "data": {
      "text/plain": [
       "(262134, 20, 15)"
      ]
     },
     "execution_count": 13,
     "metadata": {},
     "output_type": "execute_result"
    }
   ],
   "source": [
    "windows_normal=normal.values[np.arange(window_size)[None, :] + np.arange(normal.shape[0]-window_size)[:, None]]\n",
    "windows_normal.shape"
   ]
  },
  {
   "cell_type": "code",
   "execution_count": 21,
   "metadata": {
    "colab": {
     "base_uri": "https://localhost:8080/",
     "height": 34
    },
    "id": "17LdB3c8-pRH",
    "outputId": "721059d4-5937-4dd3-d73c-e5d255fc273c"
   },
   "outputs": [
    {
     "data": {
      "text/plain": [
       "(174750, 20, 15)"
      ]
     },
     "execution_count": 21,
     "metadata": {},
     "output_type": "execute_result"
    }
   ],
   "source": [
    "windows_attack=attack.values[np.arange(window_size)[None, :] + np.arange(attack.shape[0]-window_size)[:, None]]\n",
    "windows_attack.shape"
   ]
  },
  {
   "cell_type": "markdown",
   "metadata": {
    "id": "k70ZFxGs-_7m"
   },
   "source": [
    "## Training"
   ]
  },
  {
   "cell_type": "code",
   "execution_count": 22,
   "metadata": {},
   "outputs": [],
   "source": [
    "import torch.utils.data as data_utils\n",
    "\n",
    "BATCH_SIZE =  7919\n",
    "N_EPOCHS = 100\n",
    "hidden_size = 100\n",
    "\n",
    "w_size=windows_normal.shape[1]*windows_normal.shape[2]\n",
    "z_size=windows_normal.shape[1]*hidden_size\n",
    "\n",
    "windows_normal_train = windows_normal[:int(np.floor(.8 *  windows_normal.shape[0]))]\n",
    "windows_normal_val = windows_normal[int(np.floor(.8 *  windows_normal.shape[0])):int(np.floor(windows_normal.shape[0]))]"
   ]
  },
  {
   "cell_type": "code",
   "execution_count": 17,
   "metadata": {
    "id": "yi9S0SGnDKNc"
   },
   "outputs": [],
   "source": [
    "train_loader = torch.utils.data.DataLoader(data_utils.TensorDataset(\n",
    "    torch.from_numpy(windows_normal_train).float().view(([windows_normal_train.shape[0],w_size]))\n",
    ") , batch_size=BATCH_SIZE, shuffle=False, num_workers=0)\n",
    "\n",
    "val_loader = torch.utils.data.DataLoader(data_utils.TensorDataset(\n",
    "    torch.from_numpy(windows_normal_val).float().view(([windows_normal_val.shape[0],w_size]))\n",
    ") , batch_size=BATCH_SIZE, shuffle=False, num_workers=0)\n",
    "\n",
    "test_loader = torch.utils.data.DataLoader(data_utils.TensorDataset(\n",
    "    torch.from_numpy(windows_attack).float().view(([windows_attack.shape[0],w_size]))\n",
    ") , batch_size=BATCH_SIZE, shuffle=False, num_workers=0)\n",
    "\n",
    "model = UsadModel(w_size, z_size)\n",
    "model = to_device(model,device)"
   ]
  },
  {
   "cell_type": "code",
   "execution_count": 18,
   "metadata": {
    "colab": {
     "base_uri": "https://localhost:8080/",
     "height": 1000
    },
    "id": "So9yjDPEDObC",
    "outputId": "629bcd13-37b1-4907-ef0d-46d9e3ad5398",
    "scrolled": true
   },
   "outputs": [
    {
     "name": "stdout",
     "output_type": "stream",
     "text": [
      "Epoch [0], val_loss1: 1.8153, val_loss2: 1.8119\n",
      "Epoch [1], val_loss1: 1.7276, val_loss2: -0.1088\n",
      "Epoch [2], val_loss1: 1.6843, val_loss2: -0.6366\n",
      "Epoch [3], val_loss1: 1.6813, val_loss2: -0.9029\n",
      "Epoch [4], val_loss1: 1.6807, val_loss2: -1.0614\n",
      "Epoch [5], val_loss1: 1.6842, val_loss2: -1.1703\n",
      "Epoch [6], val_loss1: 1.6857, val_loss2: -1.2463\n",
      "Epoch [7], val_loss1: 1.6870, val_loss2: -1.3033\n",
      "Epoch [8], val_loss1: 1.6905, val_loss2: -1.3497\n",
      "Epoch [9], val_loss1: 1.6940, val_loss2: -1.3873\n",
      "Epoch [10], val_loss1: 1.7211, val_loss2: -1.4411\n",
      "Epoch [11], val_loss1: 1.7108, val_loss2: -1.4537\n",
      "Epoch [12], val_loss1: 1.7128, val_loss2: -1.4754\n",
      "Epoch [13], val_loss1: 1.7304, val_loss2: -1.5099\n",
      "Epoch [14], val_loss1: 1.7417, val_loss2: -1.5361\n",
      "Epoch [15], val_loss1: 1.7455, val_loss2: -1.5531\n",
      "Epoch [16], val_loss1: 1.7451, val_loss2: -1.5642\n",
      "Epoch [17], val_loss1: 1.7414, val_loss2: -1.5708\n",
      "Epoch [18], val_loss1: 1.7394, val_loss2: -1.5778\n",
      "Epoch [19], val_loss1: 1.7453, val_loss2: -1.5918\n",
      "Epoch [20], val_loss1: 1.7529, val_loss2: -1.6067\n",
      "Epoch [21], val_loss1: 1.7470, val_loss2: -1.6076\n",
      "Epoch [22], val_loss1: 1.7415, val_loss2: -1.6083\n",
      "Epoch [23], val_loss1: 1.7445, val_loss2: -1.6167\n",
      "Epoch [24], val_loss1: 1.7592, val_loss2: -1.6364\n",
      "Epoch [25], val_loss1: 1.7586, val_loss2: -1.6407\n",
      "Epoch [26], val_loss1: 1.7399, val_loss2: -1.6265\n",
      "Epoch [27], val_loss1: 1.7351, val_loss2: -1.6257\n",
      "Epoch [28], val_loss1: 1.7597, val_loss2: -1.6538\n",
      "Epoch [29], val_loss1: 1.7779, val_loss2: -1.6755\n",
      "Epoch [30], val_loss1: 1.7552, val_loss2: -1.6562\n",
      "Epoch [31], val_loss1: 1.7332, val_loss2: -1.6374\n",
      "Epoch [32], val_loss1: 1.7470, val_loss2: -1.6540\n",
      "Epoch [33], val_loss1: 1.7705, val_loss2: -1.6800\n",
      "Epoch [34], val_loss1: 1.7609, val_loss2: -1.6729\n",
      "Epoch [35], val_loss1: 1.7506, val_loss2: -1.6650\n",
      "Epoch [36], val_loss1: 1.7661, val_loss2: -1.6831\n",
      "Epoch [37], val_loss1: 1.7839, val_loss2: -1.7030\n",
      "Epoch [38], val_loss1: 1.7450, val_loss2: -1.6663\n",
      "Epoch [39], val_loss1: 1.7239, val_loss2: -1.6470\n",
      "Epoch [40], val_loss1: 1.7414, val_loss2: -1.6665\n",
      "Epoch [41], val_loss1: 1.7841, val_loss2: -1.7108\n",
      "Epoch [42], val_loss1: 1.7830, val_loss2: -1.7116\n",
      "Epoch [43], val_loss1: 1.7511, val_loss2: -1.6811\n",
      "Epoch [44], val_loss1: 1.7358, val_loss2: -1.6673\n",
      "Epoch [45], val_loss1: 1.7490, val_loss2: -1.6820\n",
      "Epoch [46], val_loss1: 1.7886, val_loss2: -1.7231\n",
      "Epoch [47], val_loss1: 1.8135, val_loss2: -1.7493\n",
      "Epoch [48], val_loss1: 1.7892, val_loss2: -1.7259\n",
      "Epoch [49], val_loss1: 1.7594, val_loss2: -1.6969\n",
      "Epoch [50], val_loss1: 1.7551, val_loss2: -1.6941\n",
      "Epoch [51], val_loss1: 1.7616, val_loss2: -1.7020\n",
      "Epoch [52], val_loss1: 1.7825, val_loss2: -1.7243\n",
      "Epoch [53], val_loss1: 1.7983, val_loss2: -1.7413\n",
      "Epoch [54], val_loss1: 1.7865, val_loss2: -1.7306\n",
      "Epoch [55], val_loss1: 1.7660, val_loss2: -1.7111\n",
      "Epoch [56], val_loss1: 1.7528, val_loss2: -1.6988\n",
      "Epoch [57], val_loss1: 1.7450, val_loss2: -1.6920\n",
      "Epoch [58], val_loss1: 1.7563, val_loss2: -1.7043\n",
      "Epoch [59], val_loss1: 1.7868, val_loss2: -1.7355\n",
      "Epoch [60], val_loss1: 1.8013, val_loss2: -1.7508\n",
      "Epoch [61], val_loss1: 1.7833, val_loss2: -1.7333\n",
      "Epoch [62], val_loss1: 1.7647, val_loss2: -1.7155\n",
      "Epoch [63], val_loss1: 1.7615, val_loss2: -1.7133\n",
      "Epoch [64], val_loss1: 1.7717, val_loss2: -1.7244\n",
      "Epoch [65], val_loss1: 1.7893, val_loss2: -1.7427\n",
      "Epoch [66], val_loss1: 1.7931, val_loss2: -1.7472\n",
      "Epoch [67], val_loss1: 1.7767, val_loss2: -1.7314\n",
      "Epoch [68], val_loss1: 1.7620, val_loss2: -1.7175\n",
      "Epoch [69], val_loss1: 1.7560, val_loss2: -1.7121\n",
      "Epoch [70], val_loss1: 1.7569, val_loss2: -1.7136\n",
      "Epoch [71], val_loss1: 1.7648, val_loss2: -1.7221\n",
      "Epoch [72], val_loss1: 1.7762, val_loss2: -1.7341\n",
      "Epoch [73], val_loss1: 1.7820, val_loss2: -1.7405\n",
      "Epoch [74], val_loss1: 1.7790, val_loss2: -1.7381\n",
      "Epoch [75], val_loss1: 1.7737, val_loss2: -1.7332\n",
      "Epoch [76], val_loss1: 1.7708, val_loss2: -1.7308\n",
      "Epoch [77], val_loss1: 1.7673, val_loss2: -1.7278\n",
      "Epoch [78], val_loss1: 1.7675, val_loss2: -1.7286\n",
      "Epoch [79], val_loss1: 1.7722, val_loss2: -1.7338\n",
      "Epoch [80], val_loss1: 1.7793, val_loss2: -1.7414\n",
      "Epoch [81], val_loss1: 1.7834, val_loss2: -1.7459\n",
      "Epoch [82], val_loss1: 1.7806, val_loss2: -1.7436\n",
      "Epoch [83], val_loss1: 1.7748, val_loss2: -1.7382\n",
      "Epoch [84], val_loss1: 1.7714, val_loss2: -1.7352\n",
      "Epoch [85], val_loss1: 1.7734, val_loss2: -1.7376\n",
      "Epoch [86], val_loss1: 1.7764, val_loss2: -1.7410\n",
      "Epoch [87], val_loss1: 1.7782, val_loss2: -1.7433\n",
      "Epoch [88], val_loss1: 1.7797, val_loss2: -1.7451\n",
      "Epoch [89], val_loss1: 1.7809, val_loss2: -1.7467\n",
      "Epoch [90], val_loss1: 1.7805, val_loss2: -1.7467\n",
      "Epoch [91], val_loss1: 1.7783, val_loss2: -1.7448\n",
      "Epoch [92], val_loss1: 1.7759, val_loss2: -1.7428\n",
      "Epoch [93], val_loss1: 1.7759, val_loss2: -1.7432\n",
      "Epoch [94], val_loss1: 1.7790, val_loss2: -1.7467\n",
      "Epoch [95], val_loss1: 1.7817, val_loss2: -1.7497\n",
      "Epoch [96], val_loss1: 1.7819, val_loss2: -1.7501\n",
      "Epoch [97], val_loss1: 1.7808, val_loss2: -1.7494\n",
      "Epoch [98], val_loss1: 1.7793, val_loss2: -1.7482\n",
      "Epoch [99], val_loss1: 1.7787, val_loss2: -1.7479\n"
     ]
    }
   ],
   "source": [
    "history = training(N_EPOCHS,model,train_loader,val_loader)"
   ]
  },
  {
   "cell_type": "code",
   "execution_count": 19,
   "metadata": {
    "colab": {
     "base_uri": "https://localhost:8080/",
     "height": 295
    },
    "id": "fYwlN0JKVVtN",
    "outputId": "c742ff8b-3b4a-41f5-dd09-effee1be928a"
   },
   "outputs": [
    {
     "data": {
      "image/png": "[encoded data removed]",
      "text/plain": [
       "<Figure size 640x480 with 1 Axes>"
      ]
     },
     "metadata": {},
     "output_type": "display_data"
    }
   ],
   "source": [
    "plot_history(history)"
   ]
  },
  {
   "cell_type": "code",
   "execution_count": 20,
   "metadata": {
    "id": "ieObNqKYsOzh"
   },
   "outputs": [],
   "source": [
    "torch.save({\n",
    "            'encoder': model.encoder.state_dict(),\n",
    "            'decoder1': model.decoder1.state_dict(),\n",
    "            'decoder2': model.decoder2.state_dict()\n",
    "            }, \"model.pth\")"
   ]
  },
  {
   "cell_type": "markdown",
   "metadata": {
    "id": "ymhjbmvR_DgJ"
   },
   "source": [
    "## Testing"
   ]
  },
  {
   "cell_type": "code",
   "execution_count": 21,
   "metadata": {
    "colab": {
     "base_uri": "https://localhost:8080/",
     "height": 34
    },
    "id": "b7rbm9wdXKeF",
    "outputId": "076309c7-22be-41f6-f916-5f11cb679672"
   },
   "outputs": [
    {
     "data": {
      "text/plain": [
       "<All keys matched successfully>"
      ]
     },
     "execution_count": 21,
     "metadata": {},
     "output_type": "execute_result"
    }
   ],
   "source": [
    "checkpoint = torch.load(\"model.pth\")\n",
    "\n",
    "model.encoder.load_state_dict(checkpoint['encoder'])\n",
    "model.decoder1.load_state_dict(checkpoint['decoder1'])\n",
    "model.decoder2.load_state_dict(checkpoint['decoder2'])"
   ]
  },
  {
   "cell_type": "code",
   "execution_count": 22,
   "metadata": {
    "id": "Ry1QTp6V2ny4"
   },
   "outputs": [],
   "source": [
    "results=testing(model,test_loader)"
   ]
  },
  {
   "cell_type": "code",
   "execution_count": 23,
   "metadata": {},
   "outputs": [],
   "source": [
    "windows_labels=[]\n",
    "for i in range(len(labels)-window_size):\n",
    "    windows_labels.append(list(np.int_(labels[i:i+window_size])))"
   ]
  },
  {
   "cell_type": "code",
   "execution_count": 24,
   "metadata": {},
   "outputs": [],
   "source": [
    "y_test = [1.0 if (np.sum(window) > 0) else 0 for window in windows_labels ]"
   ]
  },
  {
   "cell_type": "code",
   "execution_count": 25,
   "metadata": {
    "id": "FSWwxheNvxR7"
   },
   "outputs": [],
   "source": [
    "y_pred=np.concatenate([torch.stack(results[:-1]).flatten().detach().cpu().numpy(),\n",
    "                              results[-1].flatten().detach().cpu().numpy()])"
   ]
  },
  {
   "cell_type": "code",
   "execution_count": 26,
   "metadata": {},
   "outputs": [
    {
     "data": {
      "text/plain": [
       "(17457, 17457)"
      ]
     },
     "execution_count": 26,
     "metadata": {},
     "output_type": "execute_result"
    }
   ],
   "source": [
    "len(y_pred), len(y_test)"
   ]
  },
  {
   "cell_type": "code",
   "execution_count": 27,
   "metadata": {
    "colab": {
     "base_uri": "https://localhost:8080/",
     "height": 279
    },
    "id": "bROUyLM93cG3",
    "outputId": "755359d9-d0fb-4deb-b313-d3c2a2465a26"
   },
   "outputs": [
    {
     "data": {
      "image/png": "[encoded data removed]",
      "text/plain": [
       "<Figure size 640x480 with 1 Axes>"
      ]
     },
     "metadata": {},
     "output_type": "display_data"
    }
   ],
   "source": [
    "threshold=ROC(y_test,y_pred)"
   ]
  },
  {
   "cell_type": "code",
   "execution_count": 28,
   "metadata": {},
   "outputs": [
    {
     "data": {
      "text/plain": [
       "array([27.699364], dtype=float32)"
      ]
     },
     "execution_count": 28,
     "metadata": {},
     "output_type": "execute_result"
    }
   ],
   "source": [
    "threshold"
   ]
  },
  {
   "cell_type": "code",
   "execution_count": 29,
   "metadata": {},
   "outputs": [],
   "source": [
    "y_pred_ = np.zeros(y_pred.shape[0])\n",
    "y_pred_[y_pred >= threshold] = 1"
   ]
  },
  {
   "cell_type": "code",
   "execution_count": 30,
   "metadata": {},
   "outputs": [
    {
     "data": {
      "image/png": "[encoded data removed]",
      "text/plain": [
       "<Figure size 640x480 with 2 Axes>"
      ]
     },
     "metadata": {},
     "output_type": "display_data"
    }
   ],
   "source": [
    "confusion_matrix(np.array(y_test), y_pred_)"
   ]
  },
  {
   "cell_type": "code",
   "execution_count": 31,
   "metadata": {},
   "outputs": [],
   "source": [
    "threshold = 10\n",
    "y_pred_ = np.zeros(y_pred.shape[0])\n",
    "y_pred_[y_pred >= threshold] = 1"
   ]
  },
  {
   "cell_type": "code",
   "execution_count": 32,
   "metadata": {},
   "outputs": [
    {
     "name": "stdout",
     "output_type": "stream",
     "text": [
      "              precision    recall  f1-score   support\n",
      "\n",
      "         0.0       1.00      0.98      0.99     15434\n",
      "         1.0       0.87      1.00      0.93      2023\n",
      "\n",
      "    accuracy                           0.98     17457\n",
      "   macro avg       0.93      0.99      0.96     17457\n",
      "weighted avg       0.98      0.98      0.98     17457\n",
      "\n"
     ]
    }
   ],
   "source": [
    "import sklearn\n",
    "print(sklearn.metrics.classification_report(y_test, y_pred_))"
   ]
  },
  {
   "cell_type": "code",
   "execution_count": 33,
   "metadata": {},
   "outputs": [
    {
     "data": {
      "image/png": "[encoded data removed]",
      "text/plain": [
       "<Figure size 640x480 with 2 Axes>"
      ]
     },
     "metadata": {},
     "output_type": "display_data"
    }
   ],
   "source": [
    "confusion_matrix(np.array(y_test), y_pred_)"
   ]
  },
  {
   "cell_type": "code",
   "execution_count": 34,
   "metadata": {},
   "outputs": [],
   "source": [
    "with open(f'scores/usad_{file}_{train_size}_{window_size}.dat', 'w') as f:\n",
    "    for i in range(len(y_pred)):\n",
    "        f.write(str(y_pred[i]) + ';' + str(y_test[i]) + ';' + str(y_pred_[i])  + '\\n')"
   ]
  }
 ],
 "metadata": {
  "accelerator": "GPU",
  "colab": {
   "name": "USAD_test.ipynb",
   "provenance": [],
   "toc_visible": true
  },
  "kernelspec": {
   "display_name": "Python 3",
   "language": "python",
   "name": "python3"
  },
  "language_info": {
   "codemirror_mode": {
    "name": "ipython",
    "version": 3
   },
   "file_extension": ".py",
   "mimetype": "text/x-python",
   "name": "python",
   "nbconvert_exporter": "python",
   "pygments_lexer": "ipython3",
   "version": "3.12.2"
  }
 },
 "nbformat": 4,
 "nbformat_minor": 1
}
